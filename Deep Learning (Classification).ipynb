{
 "cells": [
  {
   "cell_type": "code",
   "execution_count": 5,
   "id": "633b291d",
   "metadata": {},
   "outputs": [],
   "source": [
    "import pandas as pd\n",
    "import numpy as np\n",
    "import tensorflow as tf\n",
    "import matplotlib.pyplot as plt"
   ]
  },
  {
   "cell_type": "code",
   "execution_count": 2,
   "id": "dbb695ee",
   "metadata": {},
   "outputs": [],
   "source": [
    "from sklearn.datasets import make_circles"
   ]
  },
  {
   "cell_type": "code",
   "execution_count": 13,
   "id": "d6bf7ba2",
   "metadata": {},
   "outputs": [],
   "source": [
    "X, y = make_circles(n_samples=1000,noise=0.03)"
   ]
  },
  {
   "cell_type": "code",
   "execution_count": 17,
   "id": "13191882",
   "metadata": {},
   "outputs": [
    {
     "data": {
      "text/plain": [
       "((1000, 2), (1000,))"
      ]
     },
     "execution_count": 17,
     "metadata": {},
     "output_type": "execute_result"
    }
   ],
   "source": [
    "X.shape, y.shape"
   ]
  },
  {
   "cell_type": "code",
   "execution_count": 33,
   "id": "6f268e67",
   "metadata": {},
   "outputs": [
    {
     "data": {
      "text/html": [
       "<div>\n",
       "<style scoped>\n",
       "    .dataframe tbody tr th:only-of-type {\n",
       "        vertical-align: middle;\n",
       "    }\n",
       "\n",
       "    .dataframe tbody tr th {\n",
       "        vertical-align: top;\n",
       "    }\n",
       "\n",
       "    .dataframe thead th {\n",
       "        text-align: right;\n",
       "    }\n",
       "</style>\n",
       "<table border=\"1\" class=\"dataframe\">\n",
       "  <thead>\n",
       "    <tr style=\"text-align: right;\">\n",
       "      <th></th>\n",
       "      <th>X1</th>\n",
       "      <th>X2</th>\n",
       "      <th>label</th>\n",
       "    </tr>\n",
       "  </thead>\n",
       "  <tbody>\n",
       "    <tr>\n",
       "      <th>0</th>\n",
       "      <td>0.319598</td>\n",
       "      <td>0.724006</td>\n",
       "      <td>1</td>\n",
       "    </tr>\n",
       "    <tr>\n",
       "      <th>1</th>\n",
       "      <td>-0.661993</td>\n",
       "      <td>-0.784063</td>\n",
       "      <td>0</td>\n",
       "    </tr>\n",
       "    <tr>\n",
       "      <th>2</th>\n",
       "      <td>0.575096</td>\n",
       "      <td>-0.556556</td>\n",
       "      <td>1</td>\n",
       "    </tr>\n",
       "    <tr>\n",
       "      <th>3</th>\n",
       "      <td>0.385659</td>\n",
       "      <td>0.973028</td>\n",
       "      <td>0</td>\n",
       "    </tr>\n",
       "    <tr>\n",
       "      <th>4</th>\n",
       "      <td>0.794953</td>\n",
       "      <td>0.169515</td>\n",
       "      <td>1</td>\n",
       "    </tr>\n",
       "    <tr>\n",
       "      <th>...</th>\n",
       "      <td>...</td>\n",
       "      <td>...</td>\n",
       "      <td>...</td>\n",
       "    </tr>\n",
       "    <tr>\n",
       "      <th>995</th>\n",
       "      <td>0.336761</td>\n",
       "      <td>0.770373</td>\n",
       "      <td>1</td>\n",
       "    </tr>\n",
       "    <tr>\n",
       "      <th>996</th>\n",
       "      <td>-0.832933</td>\n",
       "      <td>0.578863</td>\n",
       "      <td>0</td>\n",
       "    </tr>\n",
       "    <tr>\n",
       "      <th>997</th>\n",
       "      <td>-0.419417</td>\n",
       "      <td>0.666599</td>\n",
       "      <td>1</td>\n",
       "    </tr>\n",
       "    <tr>\n",
       "      <th>998</th>\n",
       "      <td>-0.891998</td>\n",
       "      <td>-0.467334</td>\n",
       "      <td>0</td>\n",
       "    </tr>\n",
       "    <tr>\n",
       "      <th>999</th>\n",
       "      <td>-0.974340</td>\n",
       "      <td>-0.223751</td>\n",
       "      <td>0</td>\n",
       "    </tr>\n",
       "  </tbody>\n",
       "</table>\n",
       "<p>1000 rows × 3 columns</p>\n",
       "</div>"
      ],
      "text/plain": [
       "           X1        X2  label\n",
       "0    0.319598  0.724006      1\n",
       "1   -0.661993 -0.784063      0\n",
       "2    0.575096 -0.556556      1\n",
       "3    0.385659  0.973028      0\n",
       "4    0.794953  0.169515      1\n",
       "..        ...       ...    ...\n",
       "995  0.336761  0.770373      1\n",
       "996 -0.832933  0.578863      0\n",
       "997 -0.419417  0.666599      1\n",
       "998 -0.891998 -0.467334      0\n",
       "999 -0.974340 -0.223751      0\n",
       "\n",
       "[1000 rows x 3 columns]"
      ]
     },
     "execution_count": 33,
     "metadata": {},
     "output_type": "execute_result"
    }
   ],
   "source": [
    "df = pd.DataFrame({'X1': X[:, 0], 'X2': X[:, 1], 'label': y})\n",
    "df"
   ]
  },
  {
   "cell_type": "code",
   "execution_count": 42,
   "id": "4a238199",
   "metadata": {},
   "outputs": [
    {
     "data": {
      "text/plain": [
       "<matplotlib.collections.PathCollection at 0x7fc03f011be0>"
      ]
     },
     "execution_count": 42,
     "metadata": {},
     "output_type": "execute_result"
    },
    {
     "data": {
      "image/png": "[encoded data removed]",
      "text/plain": [
       "<Figure size 432x288 with 1 Axes>"
      ]
     },
     "metadata": {
      "needs_background": "light"
     },
     "output_type": "display_data"
    }
   ],
   "source": [
    "plt.scatter(df['X1'], df['X2'], c=y, cmap=plt.cm.RdBu)"
   ]
  },
  {
   "cell_type": "markdown",
   "id": "4f858dda",
   "metadata": {},
   "source": [
    "## Split into Training and Testing sets"
   ]
  },
  {
   "cell_type": "code",
   "execution_count": 68,
   "id": "257eac6b",
   "metadata": {},
   "outputs": [
    {
     "data": {
      "text/plain": [
       "((800, 2), (800,), (200, 2), (200,))"
      ]
     },
     "execution_count": 68,
     "metadata": {},
     "output_type": "execute_result"
    }
   ],
   "source": [
    "from sklearn.model_selection import train_test_split\n",
    "X_train, X_test, y_train, y_test = train_test_split(X,y, test_size=.2)\n",
    "X_train.shape, y_train.shape, X_test.shape, y_test.shape"
   ]
  },
  {
   "cell_type": "markdown",
   "id": "900da150",
   "metadata": {},
   "source": [
    "## Modelling\n",
    "\n",
    "1. create a model\n",
    "2. compile a model\n",
    "3. fit the model\n",
    "4. evaluate our model\n",
    "5. improve our model\n",
    "6. repeat if not satisfied"
   ]
  },
  {
   "cell_type": "code",
   "execution_count": 50,
   "id": "352c19c8",
   "metadata": {},
   "outputs": [
    {
     "name": "stdout",
     "output_type": "stream",
     "text": [
      "Epoch 1/10\n",
      "25/25 [==============================] - 0s 833us/step - loss: 2.9483 - accuracy: 0.4563\n",
      "Epoch 2/10\n",
      "25/25 [==============================] - 0s 815us/step - loss: 0.7535 - accuracy: 0.5088\n",
      "Epoch 3/10\n",
      "25/25 [==============================] - 0s 854us/step - loss: 0.7151 - accuracy: 0.5088\n",
      "Epoch 4/10\n",
      "25/25 [==============================] - 0s 901us/step - loss: 0.7029 - accuracy: 0.5063\n",
      "Epoch 5/10\n",
      "25/25 [==============================] - 0s 869us/step - loss: 0.6975 - accuracy: 0.5075\n",
      "Epoch 6/10\n",
      "25/25 [==============================] - 0s 909us/step - loss: 0.6958 - accuracy: 0.5013\n",
      "Epoch 7/10\n",
      "25/25 [==============================] - 0s 882us/step - loss: 0.6950 - accuracy: 0.4975\n",
      "Epoch 8/10\n",
      "25/25 [==============================] - 0s 859us/step - loss: 0.6942 - accuracy: 0.5013\n",
      "Epoch 9/10\n",
      "25/25 [==============================] - 0s 836us/step - loss: 0.6942 - accuracy: 0.4837\n",
      "Epoch 10/10\n",
      "25/25 [==============================] - 0s 853us/step - loss: 0.6944 - accuracy: 0.4863\n"
     ]
    },
    {
     "data": {
      "text/plain": [
       "<keras.callbacks.History at 0x7fc042a254f0>"
      ]
     },
     "execution_count": 50,
     "metadata": {},
     "output_type": "execute_result"
    }
   ],
   "source": [
    "tf.random.set_seed(42)\n",
    "model = tf.keras.Sequential([\n",
    "    tf.keras.layers.Dense(1)\n",
    "])\n",
    "\n",
    "# compile our model\n",
    "model.compile(loss=tf.keras.losses.binary_crossentropy,\n",
    "              optimizer= tf.keras.optimizers.SGD(learning_rate=0.01),\n",
    "              metrics=['accuracy'])\n",
    "\n",
    "# fit the model\n",
    "model.fit(tf.constant(X_train), tf.constant(y_train), epochs=10)"
   ]
  },
  {
   "cell_type": "markdown",
   "id": "e87f94fb",
   "metadata": {},
   "source": [
    "## Improving our classification model"
   ]
  },
  {
   "cell_type": "code",
   "execution_count": 74,
   "id": "ed137f82",
   "metadata": {},
   "outputs": [
    {
     "name": "stdout",
     "output_type": "stream",
     "text": [
      "Epoch 1/20\n",
      "25/25 [==============================] - 0s 923us/step - loss: 2.1782 - accuracy: 0.4963\n",
      "Epoch 2/20\n",
      "25/25 [==============================] - 0s 963us/step - loss: 0.7963 - accuracy: 0.4588\n",
      "Epoch 3/20\n",
      "25/25 [==============================] - 0s 1ms/step - loss: 0.7593 - accuracy: 0.3825\n",
      "Epoch 4/20\n",
      "25/25 [==============================] - 0s 960us/step - loss: 0.7511 - accuracy: 0.3487\n",
      "Epoch 5/20\n",
      "25/25 [==============================] - 0s 986us/step - loss: 0.7470 - accuracy: 0.3688\n",
      "Epoch 6/20\n",
      "25/25 [==============================] - 0s 1ms/step - loss: 0.7434 - accuracy: 0.3625\n",
      "Epoch 7/20\n",
      "25/25 [==============================] - 0s 1ms/step - loss: 0.7393 - accuracy: 0.3663\n",
      "Epoch 8/20\n",
      "25/25 [==============================] - 0s 2ms/step - loss: 0.7355 - accuracy: 0.3363\n",
      "Epoch 9/20\n",
      "25/25 [==============================] - 0s 2ms/step - loss: 0.7314 - accuracy: 0.3500\n",
      "Epoch 10/20\n",
      "25/25 [==============================] - 0s 2ms/step - loss: 0.7252 - accuracy: 0.3887\n",
      "Epoch 11/20\n",
      "25/25 [==============================] - 0s 3ms/step - loss: 0.7213 - accuracy: 0.4363\n",
      "Epoch 12/20\n",
      "25/25 [==============================] - 0s 2ms/step - loss: 0.7145 - accuracy: 0.4437\n",
      "Epoch 13/20\n",
      "25/25 [==============================] - 0s 1ms/step - loss: 0.7080 - accuracy: 0.4663\n",
      "Epoch 14/20\n",
      "25/25 [==============================] - 0s 1ms/step - loss: 0.7026 - accuracy: 0.4775\n",
      "Epoch 15/20\n",
      "25/25 [==============================] - 0s 1ms/step - loss: 0.6974 - accuracy: 0.4963\n",
      "Epoch 16/20\n",
      "25/25 [==============================] - 0s 996us/step - loss: 0.6903 - accuracy: 0.5587\n",
      "Epoch 17/20\n",
      "25/25 [==============================] - 0s 1ms/step - loss: 0.6821 - accuracy: 0.5550\n",
      "Epoch 18/20\n",
      "25/25 [==============================] - 0s 1ms/step - loss: 0.6741 - accuracy: 0.5325\n",
      "Epoch 19/20\n",
      "25/25 [==============================] - 0s 1ms/step - loss: 0.6647 - accuracy: 0.7150\n",
      "Epoch 20/20\n",
      "25/25 [==============================] - 0s 1ms/step - loss: 0.6562 - accuracy: 0.7425\n"
     ]
    },
    {
     "data": {
      "text/plain": [
       "<keras.callbacks.History at 0x7fc043e004f0>"
      ]
     },
     "execution_count": 74,
     "metadata": {},
     "output_type": "execute_result"
    }
   ],
   "source": [
    "model2 = tf.keras.Sequential([\n",
    "    tf.keras.layers.Dense(100, activation='relu'),\n",
    "    tf.keras.layers.Dense(1),\n",
    "])\n",
    "\n",
    "# compile\n",
    "model2.compile(loss=tf.keras.losses.binary_crossentropy,\n",
    "               optimizer = tf.keras.optimizers.Adam(),\n",
    "               metrics = ['accuracy'])\n",
    "\n",
    "# fit the model\n",
    "model2.fit(X_train, y_train, epochs=20)"
   ]
  },
  {
   "cell_type": "code",
   "execution_count": null,
   "id": "f5c0689d",
   "metadata": {
    "scrolled": false
   },
   "outputs": [],
   "source": []
  },
  {
   "cell_type": "code",
   "execution_count": 88,
   "id": "6305f36e",
   "metadata": {},
   "outputs": [
    {
     "data": {
      "text/html": [
       "<div>\n",
       "<style scoped>\n",
       "    .dataframe tbody tr th:only-of-type {\n",
       "        vertical-align: middle;\n",
       "    }\n",
       "\n",
       "    .dataframe tbody tr th {\n",
       "        vertical-align: top;\n",
       "    }\n",
       "\n",
       "    .dataframe thead th {\n",
       "        text-align: right;\n",
       "    }\n",
       "</style>\n",
       "<table border=\"1\" class=\"dataframe\">\n",
       "  <thead>\n",
       "    <tr style=\"text-align: right;\">\n",
       "      <th></th>\n",
       "      <th>0</th>\n",
       "      <th>1</th>\n",
       "    </tr>\n",
       "  </thead>\n",
       "  <tbody>\n",
       "    <tr>\n",
       "      <th>0</th>\n",
       "      <td>72</td>\n",
       "      <td>31</td>\n",
       "    </tr>\n",
       "    <tr>\n",
       "      <th>1</th>\n",
       "      <td>31</td>\n",
       "      <td>66</td>\n",
       "    </tr>\n",
       "  </tbody>\n",
       "</table>\n",
       "</div>"
      ],
      "text/plain": [
       "    0   1\n",
       "0  72  31\n",
       "1  31  66"
      ]
     },
     "execution_count": 88,
     "metadata": {},
     "output_type": "execute_result"
    }
   ],
   "source": [
    "from sklearn.metrics import confusion_matrix\n",
    "pd.DataFrame(confusion_matrix(y_test,np.array(model2.predict(X_test)).round()))"
   ]
  },
  {
   "cell_type": "code",
   "execution_count": 90,
   "id": "136dab29",
   "metadata": {},
   "outputs": [],
   "source": [
    "from sklearn.metrics import roc_curve, roc_auc_score"
   ]
  },
  {
   "cell_type": "code",
   "execution_count": 93,
   "id": "b4956f13",
   "metadata": {},
   "outputs": [
    {
     "data": {
      "text/plain": [
       "0.708637773996597"
      ]
     },
     "execution_count": 93,
     "metadata": {},
     "output_type": "execute_result"
    }
   ],
   "source": [
    "y_pred = model2.predict(X_test)\n",
    "roc_auc_score(y_test, y_pred)"
   ]
  },
  {
   "cell_type": "code",
   "execution_count": 103,
   "id": "0b462b87",
   "metadata": {},
   "outputs": [
    {
     "data": {
      "text/plain": [
       "0.49813297"
      ]
     },
     "execution_count": 103,
     "metadata": {},
     "output_type": "execute_result"
    }
   ],
   "source": []
  },
  {
   "cell_type": "code",
   "execution_count": 104,
   "id": "5884ff46",
   "metadata": {},
   "outputs": [],
   "source": [
    "fpr, tpr, threshold = roc_curve(y_test, y_pred)"
   ]
  },
  {
   "cell_type": "code",
   "execution_count": 105,
   "id": "b57249aa",
   "metadata": {},
   "outputs": [
    {
     "data": {
      "text/plain": [
       "array([1.5739131 , 0.57391304, 0.54666007, 0.5440653 , 0.5431708 ,\n",
       "       0.54254085, 0.5423306 , 0.54219276, 0.54201484, 0.5379197 ,\n",
       "       0.53661686, 0.533168  , 0.5316725 , 0.5293562 , 0.5287563 ,\n",
       "       0.5283575 , 0.5268849 , 0.52614355, 0.5222975 , 0.52188116,\n",
       "       0.51896495, 0.5186284 , 0.51446164, 0.51384133, 0.51367855,\n",
       "       0.51341283, 0.51331836, 0.51329345, 0.5108371 , 0.50870377,\n",
       "       0.50860256, 0.50825995, 0.50821   , 0.5078148 , 0.5055222 ,\n",
       "       0.5030177 , 0.5026621 , 0.5024057 , 0.49995345, 0.49905908,\n",
       "       0.4983582 , 0.49779278, 0.49737453, 0.49646974, 0.49487722,\n",
       "       0.490404  , 0.48962504, 0.48872232, 0.48789036, 0.4855703 ,\n",
       "       0.4845971 , 0.48458248, 0.4841804 , 0.4834895 , 0.48253196,\n",
       "       0.4820447 , 0.48124993, 0.478154  , 0.47788876, 0.47555655,\n",
       "       0.47409075, 0.46957225, 0.4694655 , 0.46867692, 0.46866566,\n",
       "       0.4662155 , 0.46529746, 0.46208602, 0.46199203, 0.45977014,\n",
       "       0.4592963 , 0.4552191 , 0.45492005, 0.45477897, 0.45303047,\n",
       "       0.45280957, 0.45017147, 0.44191825, 0.44181275, 0.4407934 ,\n",
       "       0.43813384, 0.41290444], dtype=float32)"
      ]
     },
     "execution_count": 105,
     "metadata": {},
     "output_type": "execute_result"
    }
   ],
   "source": [
    "threshold"
   ]
  },
  {
   "cell_type": "code",
   "execution_count": 113,
   "id": "0dda4d0e",
   "metadata": {},
   "outputs": [
    {
     "data": {
      "text/plain": [
       "array([2., 1., 1., 1., 1., 1., 1., 1., 1., 1., 1., 1., 1., 1., 1., 1., 1.,\n",
       "       1., 1., 1., 1., 1., 1., 1., 1., 1., 1., 1., 1., 1., 1., 1., 1., 1.,\n",
       "       1., 1., 1., 1., 0., 0., 0., 0., 0., 0., 0., 0., 0., 0., 0., 0., 0.,\n",
       "       0., 0., 0., 0., 0., 0., 0., 0., 0., 0., 0., 0., 0., 0., 0., 0., 0.,\n",
       "       0., 0., 0., 0., 0., 0., 0., 0., 0., 0., 0., 0., 0., 0.],\n",
       "      dtype=float32)"
      ]
     },
     "execution_count": 113,
     "metadata": {},
     "output_type": "execute_result"
    }
   ],
   "source": [
    "y_test.squeeze() == threshold.round()"
   ]
  },
  {
   "cell_type": "code",
   "execution_count": 132,
   "id": "1fb7a831",
   "metadata": {},
   "outputs": [
    {
     "data": {
      "image/png": "[encoded data removed]",
      "text/plain": [
       "<Figure size 432x288 with 1 Axes>"
      ]
     },
     "metadata": {
      "needs_background": "light"
     },
     "output_type": "display_data"
    }
   ],
   "source": [
    "plt.plot(fpr, tpr, c='r')\n",
    "plt.plot([0,1],[0,1], linestyle='--');"
   ]
  },
  {
   "cell_type": "markdown",
   "id": "ea97f148",
   "metadata": {},
   "source": [
    "## Multi Classification Problem"
   ]
  },
  {
   "cell_type": "code",
   "execution_count": 6,
   "id": "8f133882",
   "metadata": {},
   "outputs": [],
   "source": [
    "from tensorflow.keras.datasets import fashion_mnist"
   ]
  },
  {
   "cell_type": "code",
   "execution_count": 7,
   "id": "f219369d",
   "metadata": {},
   "outputs": [],
   "source": [
    "(X_train, y_train), (X_test, y_test) = fashion_mnist.load_data()"
   ]
  },
  {
   "cell_type": "code",
   "execution_count": 8,
   "id": "c62e5f45",
   "metadata": {},
   "outputs": [
    {
     "data": {
      "text/plain": [
       "((60000, 28, 28), (60000,), (10000, 28, 28), (10000,))"
      ]
     },
     "execution_count": 8,
     "metadata": {},
     "output_type": "execute_result"
    }
   ],
   "source": [
    "X_train.shape, y_train.shape, X_test.shape, y_test.shape"
   ]
  },
  {
   "cell_type": "code",
   "execution_count": 282,
   "id": "db308e14",
   "metadata": {
    "scrolled": false
   },
   "outputs": [
    {
     "name": "stdout",
     "output_type": "stream",
     "text": [
      "Epoch 1/10\n",
      "1875/1875 [==============================] - 3s 1ms/step - loss: 1.1773 - accuracy: 0.5865 - val_loss: 0.8219 - val_accuracy: 0.7377\n",
      "Epoch 2/10\n",
      "1875/1875 [==============================] - 2s 1ms/step - loss: 0.7144 - accuracy: 0.7627 - val_loss: 0.6826 - val_accuracy: 0.7713\n",
      "Epoch 3/10\n",
      "1875/1875 [==============================] - 2s 1ms/step - loss: 0.6209 - accuracy: 0.7913 - val_loss: 0.6236 - val_accuracy: 0.7921\n",
      "Epoch 4/10\n",
      "1875/1875 [==============================] - 2s 1ms/step - loss: 0.5762 - accuracy: 0.8024 - val_loss: 0.5972 - val_accuracy: 0.7963\n",
      "Epoch 5/10\n",
      "1875/1875 [==============================] - 2s 1ms/step - loss: 0.5545 - accuracy: 0.8072 - val_loss: 0.5830 - val_accuracy: 0.7965\n",
      "Epoch 6/10\n",
      "1875/1875 [==============================] - 2s 1ms/step - loss: 0.5405 - accuracy: 0.8112 - val_loss: 0.5748 - val_accuracy: 0.8039\n",
      "Epoch 7/10\n",
      "1875/1875 [==============================] - 2s 1ms/step - loss: 0.5303 - accuracy: 0.8135 - val_loss: 0.5870 - val_accuracy: 0.7926\n",
      "Epoch 8/10\n",
      "1875/1875 [==============================] - 2s 1ms/step - loss: 0.5222 - accuracy: 0.8160 - val_loss: 0.5603 - val_accuracy: 0.8099\n",
      "Epoch 9/10\n",
      "1875/1875 [==============================] - 2s 1ms/step - loss: 0.5160 - accuracy: 0.8185 - val_loss: 0.5428 - val_accuracy: 0.8095\n",
      "Epoch 10/10\n",
      "1875/1875 [==============================] - 2s 1ms/step - loss: 0.5112 - accuracy: 0.8203 - val_loss: 0.5420 - val_accuracy: 0.8107\n"
     ]
    }
   ],
   "source": [
    "model = tf.keras.Sequential([\n",
    "    tf.keras.layers.Flatten(input_shape=(28,28)),\n",
    "    tf.keras.layers.Dense(4, activation='relu'),\n",
    "    tf.keras.layers.Dense(4, activation='relu'),\n",
    "    tf.keras.layers.Dense(10, activation='softmax')\n",
    "],name='Model1')\n",
    "\n",
    "# Compile our model\n",
    "model.compile(loss=tf.keras.losses.SparseCategoricalCrossentropy(),\n",
    "              optimizer=tf.keras.optimizers.Adam(),\n",
    "              metrics=['accuracy'])\n",
    "\n",
    "# fit the model\n",
    "model_history = model.fit(X_train/255., y_train, epochs=10, validation_data=(X_test/255., y_test))"
   ]
  },
  {
   "cell_type": "code",
   "execution_count": 276,
   "id": "5fd87faf",
   "metadata": {},
   "outputs": [
    {
     "name": "stdout",
     "output_type": "stream",
     "text": [
      "Model: \"Model1\"\n",
      "_________________________________________________________________\n",
      " Layer (type)                Output Shape              Param #   \n",
      "=================================================================\n",
      " flatten_8 (Flatten)         (None, 784)               0         \n",
      "                                                                 \n",
      " dense_35 (Dense)            (None, 4)                 3140      \n",
      "                                                                 \n",
      " dense_36 (Dense)            (None, 4)                 20        \n",
      "                                                                 \n",
      " dense_37 (Dense)            (None, 10)                50        \n",
      "                                                                 \n",
      "=================================================================\n",
      "Total params: 3,210\n",
      "Trainable params: 3,210\n",
      "Non-trainable params: 0\n",
      "_________________________________________________________________\n"
     ]
    }
   ],
   "source": [
    "model.summary()"
   ]
  },
  {
   "cell_type": "code",
   "execution_count": 288,
   "id": "52bbae89",
   "metadata": {},
   "outputs": [
    {
     "data": {
      "text/html": [
       "<div>\n",
       "<style scoped>\n",
       "    .dataframe tbody tr th:only-of-type {\n",
       "        vertical-align: middle;\n",
       "    }\n",
       "\n",
       "    .dataframe tbody tr th {\n",
       "        vertical-align: top;\n",
       "    }\n",
       "\n",
       "    .dataframe thead th {\n",
       "        text-align: right;\n",
       "    }\n",
       "</style>\n",
       "<table border=\"1\" class=\"dataframe\">\n",
       "  <thead>\n",
       "    <tr style=\"text-align: right;\">\n",
       "      <th></th>\n",
       "      <th>loss</th>\n",
       "      <th>accuracy</th>\n",
       "      <th>val_loss</th>\n",
       "      <th>val_accuracy</th>\n",
       "    </tr>\n",
       "  </thead>\n",
       "  <tbody>\n",
       "    <tr>\n",
       "      <th>0</th>\n",
       "      <td>1.177269</td>\n",
       "      <td>0.586533</td>\n",
       "      <td>0.821942</td>\n",
       "      <td>0.7377</td>\n",
       "    </tr>\n",
       "    <tr>\n",
       "      <th>1</th>\n",
       "      <td>0.714422</td>\n",
       "      <td>0.762700</td>\n",
       "      <td>0.682647</td>\n",
       "      <td>0.7713</td>\n",
       "    </tr>\n",
       "    <tr>\n",
       "      <th>2</th>\n",
       "      <td>0.620875</td>\n",
       "      <td>0.791333</td>\n",
       "      <td>0.623602</td>\n",
       "      <td>0.7921</td>\n",
       "    </tr>\n",
       "    <tr>\n",
       "      <th>3</th>\n",
       "      <td>0.576189</td>\n",
       "      <td>0.802417</td>\n",
       "      <td>0.597160</td>\n",
       "      <td>0.7963</td>\n",
       "    </tr>\n",
       "    <tr>\n",
       "      <th>4</th>\n",
       "      <td>0.554528</td>\n",
       "      <td>0.807233</td>\n",
       "      <td>0.582976</td>\n",
       "      <td>0.7965</td>\n",
       "    </tr>\n",
       "    <tr>\n",
       "      <th>5</th>\n",
       "      <td>0.540514</td>\n",
       "      <td>0.811250</td>\n",
       "      <td>0.574759</td>\n",
       "      <td>0.8039</td>\n",
       "    </tr>\n",
       "    <tr>\n",
       "      <th>6</th>\n",
       "      <td>0.530334</td>\n",
       "      <td>0.813533</td>\n",
       "      <td>0.587002</td>\n",
       "      <td>0.7926</td>\n",
       "    </tr>\n",
       "    <tr>\n",
       "      <th>7</th>\n",
       "      <td>0.522151</td>\n",
       "      <td>0.815983</td>\n",
       "      <td>0.560286</td>\n",
       "      <td>0.8099</td>\n",
       "    </tr>\n",
       "    <tr>\n",
       "      <th>8</th>\n",
       "      <td>0.516047</td>\n",
       "      <td>0.818467</td>\n",
       "      <td>0.542756</td>\n",
       "      <td>0.8095</td>\n",
       "    </tr>\n",
       "    <tr>\n",
       "      <th>9</th>\n",
       "      <td>0.511160</td>\n",
       "      <td>0.820333</td>\n",
       "      <td>0.541957</td>\n",
       "      <td>0.8107</td>\n",
       "    </tr>\n",
       "  </tbody>\n",
       "</table>\n",
       "</div>"
      ],
      "text/plain": [
       "       loss  accuracy  val_loss  val_accuracy\n",
       "0  1.177269  0.586533  0.821942        0.7377\n",
       "1  0.714422  0.762700  0.682647        0.7713\n",
       "2  0.620875  0.791333  0.623602        0.7921\n",
       "3  0.576189  0.802417  0.597160        0.7963\n",
       "4  0.554528  0.807233  0.582976        0.7965\n",
       "5  0.540514  0.811250  0.574759        0.8039\n",
       "6  0.530334  0.813533  0.587002        0.7926\n",
       "7  0.522151  0.815983  0.560286        0.8099\n",
       "8  0.516047  0.818467  0.542756        0.8095\n",
       "9  0.511160  0.820333  0.541957        0.8107"
      ]
     },
     "execution_count": 288,
     "metadata": {},
     "output_type": "execute_result"
    }
   ],
   "source": [
    "history = pd.DataFrame(model_history.history)\n",
    "history"
   ]
  },
  {
   "cell_type": "code",
   "execution_count": 294,
   "id": "8301f66c",
   "metadata": {
    "scrolled": false
   },
   "outputs": [
    {
     "data": {
      "image/png": "[encoded data removed]",
      "text/plain": [
       "<Figure size 720x504 with 1 Axes>"
      ]
     },
     "metadata": {
      "needs_background": "light"
     },
     "output_type": "display_data"
    }
   ],
   "source": [
    "# Visualize the history\n",
    "plt.figure(figsize=(10,7))\n",
    "plt.plot(history['loss'], label='Train Loss')\n",
    "plt.plot(history['val_loss'], label='Val Loss')\n",
    "plt.legend();"
   ]
  },
  {
   "cell_type": "markdown",
   "id": "e3a6d1d0",
   "metadata": {},
   "source": [
    "## Create A Learning Rate Callback"
   ]
  },
  {
   "cell_type": "code",
   "execution_count": 296,
   "id": "71bbe438",
   "metadata": {},
   "outputs": [],
   "source": [
    "# Normalize our data\n",
    "X_train_norm = X_train/255.\n",
    "X_test_norm = X_test/255."
   ]
  },
  {
   "cell_type": "code",
   "execution_count": 326,
   "id": "e566cbb4",
   "metadata": {},
   "outputs": [
    {
     "name": "stdout",
     "output_type": "stream",
     "text": [
      "Epoch 1/20\n",
      "1875/1875 [==============================] - 3s 1ms/step - loss: 1.2752 - accuracy: 0.4979 - val_loss: 0.9975 - val_accuracy: 0.6177 - lr: 0.0010\n",
      "Epoch 2/20\n",
      "1875/1875 [==============================] - 2s 1ms/step - loss: 0.8832 - accuracy: 0.6571 - val_loss: 0.8285 - val_accuracy: 0.6872 - lr: 0.0013\n",
      "Epoch 3/20\n",
      "1875/1875 [==============================] - 2s 1ms/step - loss: 0.7551 - accuracy: 0.7230 - val_loss: 0.7863 - val_accuracy: 0.7010 - lr: 0.0016\n",
      "Epoch 4/20\n",
      "1875/1875 [==============================] - 2s 1ms/step - loss: 0.6948 - accuracy: 0.7461 - val_loss: 0.7181 - val_accuracy: 0.7412 - lr: 0.0020\n",
      "Epoch 5/20\n",
      "1875/1875 [==============================] - 2s 1ms/step - loss: 0.6734 - accuracy: 0.7512 - val_loss: 0.7051 - val_accuracy: 0.7480 - lr: 0.0025\n",
      "Epoch 6/20\n",
      "1875/1875 [==============================] - 2s 1ms/step - loss: 0.6647 - accuracy: 0.7538 - val_loss: 0.6931 - val_accuracy: 0.7493 - lr: 0.0032\n",
      "Epoch 7/20\n",
      "1875/1875 [==============================] - 2s 1ms/step - loss: 0.6599 - accuracy: 0.7547 - val_loss: 0.7673 - val_accuracy: 0.7105 - lr: 0.0040\n",
      "Epoch 8/20\n",
      "1875/1875 [==============================] - 2s 1ms/step - loss: 0.6591 - accuracy: 0.7548 - val_loss: 0.6892 - val_accuracy: 0.7422 - lr: 0.0050\n",
      "Epoch 9/20\n",
      "1875/1875 [==============================] - 2s 1ms/step - loss: 0.6604 - accuracy: 0.7537 - val_loss: 0.7217 - val_accuracy: 0.7348 - lr: 0.0063\n",
      "Epoch 10/20\n",
      "1875/1875 [==============================] - 2s 1ms/step - loss: 0.6653 - accuracy: 0.7516 - val_loss: 0.6819 - val_accuracy: 0.7469 - lr: 0.0079\n",
      "Epoch 11/20\n",
      "1875/1875 [==============================] - 2s 1ms/step - loss: 0.6714 - accuracy: 0.7492 - val_loss: 0.6996 - val_accuracy: 0.7420 - lr: 0.0100\n",
      "Epoch 12/20\n",
      "1875/1875 [==============================] - 2s 1ms/step - loss: 0.6797 - accuracy: 0.7480 - val_loss: 0.7214 - val_accuracy: 0.7373 - lr: 0.0126\n",
      "Epoch 13/20\n",
      "1875/1875 [==============================] - 2s 1ms/step - loss: 0.7015 - accuracy: 0.7378 - val_loss: 0.7032 - val_accuracy: 0.7479 - lr: 0.0158\n",
      "Epoch 14/20\n",
      "1875/1875 [==============================] - 2s 1ms/step - loss: 0.7209 - accuracy: 0.7321 - val_loss: 0.7315 - val_accuracy: 0.7340 - lr: 0.0200\n",
      "Epoch 15/20\n",
      "1875/1875 [==============================] - 2s 1ms/step - loss: 0.7449 - accuracy: 0.7258 - val_loss: 0.7654 - val_accuracy: 0.7344 - lr: 0.0251\n",
      "Epoch 16/20\n",
      "1875/1875 [==============================] - 2s 1ms/step - loss: 0.7957 - accuracy: 0.7092 - val_loss: 0.7823 - val_accuracy: 0.7274 - lr: 0.0316\n",
      "Epoch 17/20\n",
      "1875/1875 [==============================] - 2s 1ms/step - loss: 0.9113 - accuracy: 0.6521 - val_loss: 1.0015 - val_accuracy: 0.5832 - lr: 0.0398\n",
      "Epoch 18/20\n",
      "1875/1875 [==============================] - 2s 1ms/step - loss: 1.3169 - accuracy: 0.4847 - val_loss: 1.4403 - val_accuracy: 0.4062 - lr: 0.0501\n",
      "Epoch 19/20\n",
      "1875/1875 [==============================] - 2s 1ms/step - loss: 1.3491 - accuracy: 0.4115 - val_loss: 1.2725 - val_accuracy: 0.4181 - lr: 0.0631\n",
      "Epoch 20/20\n",
      "1875/1875 [==============================] - 2s 1ms/step - loss: 1.6209 - accuracy: 0.3182 - val_loss: 1.5490 - val_accuracy: 0.3465 - lr: 0.0794\n"
     ]
    }
   ],
   "source": [
    "model2 = tf.keras.Sequential([\n",
    "    tf.keras.layers.Flatten(input_shape=(28,28)),\n",
    "    tf.keras.layers.Dense(4, activation='relu'),\n",
    "    tf.keras.layers.Dense(4, activation='relu'),\n",
    "    tf.keras.layers.Dense(10, activation='softmax')\n",
    "])\n",
    "\n",
    "# compile our model\n",
    "\n",
    "model2.compile(loss=tf.keras.losses.SparseCategoricalCrossentropy(),\n",
    "               optimizer = tf.keras.optimizers.Adam(),\n",
    "               metrics=['accuracy'])\n",
    "\n",
    "# create the learning rate callback\n",
    "lr_scheduler = tf.keras.callbacks.LearningRateScheduler(lambda x: 1e-3*10**(x/10))\n",
    "\n",
    "# fit the model\n",
    "history_2 = model2.fit(X_train_norm, y_train, epochs=20, validation_data=(X_test_norm, y_test), callbacks=[lr_scheduler])"
   ]
  },
  {
   "cell_type": "code",
   "execution_count": 11,
   "id": "4622074c",
   "metadata": {},
   "outputs": [],
   "source": [
    "def plot_lr(history):\n",
    "    \n",
    "    epochs = len(history.history['loss'])\n",
    "    lr = 1e-3*10**(tf.range(epochs)/20)\n",
    "    plt.semilogx(lr, history.history['loss'])\n",
    "    plt.xlabel('Learning Rate')\n",
    "    plt.ylabel('Loss')"
   ]
  },
  {
   "cell_type": "code",
   "execution_count": 318,
   "id": "7685b1fe",
   "metadata": {
    "scrolled": true
   },
   "outputs": [
    {
     "data": {
      "image/png": "[encoded data removed]",
      "text/plain": [
       "<Figure size 432x288 with 1 Axes>"
      ]
     },
     "metadata": {
      "needs_background": "light"
     },
     "output_type": "display_data"
    }
   ],
   "source": [
    "plot_lr(history_2)"
   ]
  },
  {
   "cell_type": "markdown",
   "id": "c1f0b497",
   "metadata": {},
   "source": [
    "Now from our plot the model loss shows to be going down sharply until a sharp break before 0.6, so if we compute the point at which our learning rate was sharply going down at `10^-3` we get 0.001 learning rate. With this we can add this learning rate to our optimizer parameter"
   ]
  },
  {
   "cell_type": "code",
   "execution_count": 325,
   "id": "757b1faa",
   "metadata": {},
   "outputs": [
    {
     "name": "stdout",
     "output_type": "stream",
     "text": [
      "Epoch 1/10\n",
      "1875/1875 [==============================] - 2s 1ms/step - loss: 1.1057 - accuracy: 0.6074 - val_loss: 0.7457 - val_accuracy: 0.7423\n",
      "Epoch 2/10\n",
      "1875/1875 [==============================] - 2s 1ms/step - loss: 0.6836 - accuracy: 0.7601 - val_loss: 0.6625 - val_accuracy: 0.7705\n",
      "Epoch 3/10\n",
      "1875/1875 [==============================] - 2s 1ms/step - loss: 0.6216 - accuracy: 0.7801 - val_loss: 0.6195 - val_accuracy: 0.7831\n",
      "Epoch 4/10\n",
      "1875/1875 [==============================] - 2s 1ms/step - loss: 0.5923 - accuracy: 0.7898 - val_loss: 0.5960 - val_accuracy: 0.7926\n",
      "Epoch 5/10\n",
      "1875/1875 [==============================] - 2s 1ms/step - loss: 0.5737 - accuracy: 0.7965 - val_loss: 0.5875 - val_accuracy: 0.7919\n",
      "Epoch 6/10\n",
      "1875/1875 [==============================] - 2s 1ms/step - loss: 0.5575 - accuracy: 0.8021 - val_loss: 0.5792 - val_accuracy: 0.7981\n",
      "Epoch 7/10\n",
      "1875/1875 [==============================] - 2s 1ms/step - loss: 0.5467 - accuracy: 0.8067 - val_loss: 0.5646 - val_accuracy: 0.8000\n",
      "Epoch 8/10\n",
      "1875/1875 [==============================] - 2s 1ms/step - loss: 0.5357 - accuracy: 0.8122 - val_loss: 0.5533 - val_accuracy: 0.8054\n",
      "Epoch 9/10\n",
      "1875/1875 [==============================] - 2s 1ms/step - loss: 0.5281 - accuracy: 0.8149 - val_loss: 0.5433 - val_accuracy: 0.8109\n",
      "Epoch 10/10\n",
      "1875/1875 [==============================] - 2s 1ms/step - loss: 0.5235 - accuracy: 0.8164 - val_loss: 0.5466 - val_accuracy: 0.8067\n"
     ]
    }
   ],
   "source": [
    "model3 = tf.keras.Sequential([\n",
    "    tf.keras.layers.Flatten(input_shape=(28,28)),\n",
    "    tf.keras.layers.Dense(4, activation='relu'),\n",
    "    tf.keras.layers.Dense(4, activation='relu'),\n",
    "    tf.keras.layers.Dense(10, activation='softmax')\n",
    "])\n",
    "\n",
    "# compile our model\n",
    "model3.compile(loss=tf.keras.losses.SparseCategoricalCrossentropy(),\n",
    "               optimizer=tf.keras.optimizers.Adam(learning_rate=0.001),\n",
    "               metrics='accuracy')\n",
    "\n",
    "# learning rate\n",
    "lr_scheduler = tf.keras.callbacks.LearningRateScheduler(lambda x: 1e-3*10**(x/20))\n",
    "\n",
    "# fit our model\n",
    "history_3 = model3.fit(X_train_norm, y_train, epochs=10, validation_data=(X_test_norm,y_test))"
   ]
  },
  {
   "cell_type": "code",
   "execution_count": 324,
   "id": "c8caec3b",
   "metadata": {},
   "outputs": [
    {
     "data": {
      "image/png": "[encoded data removed]",
      "text/plain": [
       "<Figure size 432x288 with 1 Axes>"
      ]
     },
     "metadata": {
      "needs_background": "light"
     },
     "output_type": "display_data"
    }
   ],
   "source": [
    "plot_lr(history_3)"
   ]
  },
  {
   "cell_type": "code",
   "execution_count": 364,
   "id": "0aeca0f6",
   "metadata": {},
   "outputs": [
    {
     "data": {
      "text/html": [
       "Finishing last run (ID:3ajuyog4) before initializing another..."
      ],
      "text/plain": [
       "<IPython.core.display.HTML object>"
      ]
     },
     "metadata": {},
     "output_type": "display_data"
    },
    {
     "data": {
      "text/html": [
       "<br/>Waiting for W&B process to finish, PID 75935... <strong style=\"color:green\">(success).</strong>"
      ],
      "text/plain": [
       "<IPython.core.display.HTML object>"
      ]
     },
     "metadata": {},
     "output_type": "display_data"
    },
    {
     "data": {
      "application/vnd.jupyter.widget-view+json": {
       "model_id": "",
       "version_major": 2,
       "version_minor": 0
      },
      "text/plain": [
       "VBox(children=(Label(value=' 0.07MB of 0.07MB uploaded (0.00MB deduped)\\r'), FloatProgress(value=1.0, max=1.0)…"
      ]
     },
     "metadata": {},
     "output_type": "display_data"
    },
    {
     "data": {
      "text/html": [
       "<style>\n",
       "    table.wandb td:nth-child(1) { padding: 0 10px; text-align: right }\n",
       "    .wandb-row { display: flex; flex-direction: row; flex-wrap: wrap; width: 100% }\n",
       "    .wandb-col { display: flex; flex-direction: column; flex-basis: 100%; flex: 1; padding: 10px; }\n",
       "    </style>\n",
       "<div class=\"wandb-row\"><div class=\"wandb-col\">\n",
       "<h3>Run history:</h3><br/><table class=\"wandb\"><tr><td>accuracy</td><td>▃▁▅▇████████</td></tr><tr><td>epoch</td><td>▁▁▂▃▃▄▅▆▆▇█▁</td></tr><tr><td>loss</td><td>█▂▁▁▁▁▁▁▁▁▁▁</td></tr><tr><td>val_accuracy</td><td>▁▃▆▇██▇██▇▇█</td></tr><tr><td>val_loss</td><td>█▂▁▁▁▁▁▁▁▁▁▁</td></tr></table><br/></div><div class=\"wandb-col\">\n",
       "<h3>Run summary:</h3><br/><table class=\"wandb\"><tr><td>accuracy</td><td>0.83088</td></tr><tr><td>best_epoch</td><td>0</td></tr><tr><td>best_val_loss</td><td>0.5222</td></tr><tr><td>epoch</td><td>0</td></tr><tr><td>loss</td><td>0.48883</td></tr><tr><td>val_accuracy</td><td>0.8187</td></tr><tr><td>val_loss</td><td>0.5222</td></tr></table>\n",
       "</div></div>\n",
       "Synced 6 W&B file(s), 1 media file(s), 0 artifact file(s) and 1 other file(s)\n",
       "<br/>Synced <strong style=\"color:#cdcd00\">royal-tree-1</strong>: <a href=\"https://wandb.ai/acnice/my-test-project/runs/3ajuyog4\" target=\"_blank\">https://wandb.ai/acnice/my-test-project/runs/3ajuyog4</a><br/>\n",
       "Find logs at: <code>./wandb/run-20220211_164357-3ajuyog4/logs</code><br/>\n"
      ],
      "text/plain": [
       "<IPython.core.display.HTML object>"
      ]
     },
     "metadata": {},
     "output_type": "display_data"
    },
    {
     "data": {
      "text/html": [
       "Successfully finished last run (ID:3ajuyog4). Initializing new run:<br/>"
      ],
      "text/plain": [
       "<IPython.core.display.HTML object>"
      ]
     },
     "metadata": {},
     "output_type": "display_data"
    },
    {
     "data": {
      "text/html": [
       "\n",
       "                    Syncing run <strong><a href=\"https://wandb.ai/acnice/Multi%20Label%20Classification%20Revision/runs/mvj5tv80\" target=\"_blank\">crisp-durian-1</a></strong> to <a href=\"https://wandb.ai/acnice/Multi%20Label%20Classification%20Revision\" target=\"_blank\">Weights & Biases</a> (<a href=\"https://docs.wandb.com/integrations/jupyter.html\" target=\"_blank\">docs</a>).<br/>\n",
       "\n",
       "                "
      ],
      "text/plain": [
       "<IPython.core.display.HTML object>"
      ]
     },
     "metadata": {},
     "output_type": "display_data"
    },
    {
     "data": {
      "text/html": [
       "<button onClick=\"this.nextSibling.style.display='block';this.style.display='none';\">Display W&B run</button><iframe src=\"https://wandb.ai/acnice/Multi%20Label%20Classification%20Revision/runs/mvj5tv80?jupyter=true\" style=\"border:none;width:100%;height:420px;display:none;\"></iframe>"
      ],
      "text/plain": [
       "<wandb.sdk.wandb_run.Run at 0x7fbf46d3e6a0>"
      ]
     },
     "execution_count": 364,
     "metadata": {},
     "output_type": "execute_result"
    }
   ],
   "source": [
    "import wandb\n",
    "from wandb.keras import WandbCallback\n",
    "\n",
    "wandb.init(project=\"Multi Label Classification Revision\", entity=\"acnice\")"
   ]
  },
  {
   "cell_type": "code",
   "execution_count": 365,
   "id": "2a1ab039",
   "metadata": {},
   "outputs": [
    {
     "name": "stdout",
     "output_type": "stream",
     "text": [
      "Epoch 1/10\n",
      "1875/1875 [==============================] - 2s 1ms/step - loss: 0.4830 - accuracy: 0.8330 - val_loss: 0.5206 - val_accuracy: 0.8203 - lr: 0.0010\n",
      "Epoch 2/10\n",
      "1875/1875 [==============================] - 2s 1ms/step - loss: 0.4840 - accuracy: 0.8334 - val_loss: 0.5198 - val_accuracy: 0.8213 - lr: 0.0013\n",
      "Epoch 3/10\n",
      "1875/1875 [==============================] - 2s 1ms/step - loss: 0.4852 - accuracy: 0.8320 - val_loss: 0.5224 - val_accuracy: 0.8168 - lr: 0.0016\n",
      "Epoch 4/10\n",
      "1875/1875 [==============================] - 2s 1ms/step - loss: 0.4863 - accuracy: 0.8325 - val_loss: 0.5355 - val_accuracy: 0.8147 - lr: 0.0020\n",
      "Epoch 5/10\n",
      "1875/1875 [==============================] - 2s 1ms/step - loss: 0.4910 - accuracy: 0.8310 - val_loss: 0.5293 - val_accuracy: 0.8189 - lr: 0.0025\n",
      "Epoch 6/10\n",
      "1875/1875 [==============================] - 2s 1ms/step - loss: 0.4937 - accuracy: 0.8279 - val_loss: 0.5680 - val_accuracy: 0.8032 - lr: 0.0032\n",
      "Epoch 7/10\n",
      "1875/1875 [==============================] - 3s 1ms/step - loss: 0.5029 - accuracy: 0.8262 - val_loss: 0.5633 - val_accuracy: 0.8012 - lr: 0.0040\n",
      "Epoch 8/10\n",
      "1875/1875 [==============================] - 2s 1ms/step - loss: 0.5097 - accuracy: 0.8240 - val_loss: 0.5289 - val_accuracy: 0.8158 - lr: 0.0050\n",
      "Epoch 9/10\n",
      "1875/1875 [==============================] - 2s 1ms/step - loss: 0.5193 - accuracy: 0.8218 - val_loss: 0.5815 - val_accuracy: 0.7983 - lr: 0.0063\n",
      "Epoch 10/10\n",
      "1875/1875 [==============================] - 2s 1ms/step - loss: 0.5346 - accuracy: 0.8164 - val_loss: 0.5952 - val_accuracy: 0.7926 - lr: 0.0079\n"
     ]
    }
   ],
   "source": [
    "wandb.config = {\n",
    "  \"learning_rate\": 0.001,\n",
    "  \"epochs\": 100,\n",
    "  \"batch_size\": 128\n",
    "}\n",
    "\n",
    "# ... Define a model\n",
    "history_3 = model3.fit(X_train_norm, y_train, epochs=10,callbacks=[WandbCallback(), lr_scheduler], validation_data=(X_test_norm,y_test))"
   ]
  },
  {
   "cell_type": "code",
   "execution_count": 379,
   "id": "89d9bf9c",
   "metadata": {},
   "outputs": [
    {
     "data": {
      "text/plain": [
       "(array([6.3052674e-08, 2.1242458e-15, 6.3492799e-08, 9.9132920e-13,\n",
       "        3.0890246e-07, 2.6781997e-01, 1.8381691e-06, 7.8524046e-02,\n",
       "        9.2779249e-03, 6.4437568e-01], dtype=float32),\n",
       " 9)"
      ]
     },
     "execution_count": 379,
     "metadata": {},
     "output_type": "execute_result"
    }
   ],
   "source": [
    "from sklearn.metrics import confusion_matrix\n",
    "\n",
    "y_pred = model3.predict(X_test_norm)\n",
    "y_pred[0], y_pred[0].argmax()"
   ]
  },
  {
   "cell_type": "code",
   "execution_count": 416,
   "id": "f8ce39b6",
   "metadata": {},
   "outputs": [
    {
     "data": {
      "text/plain": [
       "array([9, 2, 1, 1, 6, 1, 4, 6, 5, 7])"
      ]
     },
     "execution_count": 416,
     "metadata": {},
     "output_type": "execute_result"
    }
   ],
   "source": [
    "y_pred[:10].argmax(1)"
   ]
  },
  {
   "cell_type": "code",
   "execution_count": 436,
   "id": "b3f8c8fe",
   "metadata": {},
   "outputs": [
    {
     "data": {
      "text/plain": [
       "<AxesSubplot:>"
      ]
     },
     "execution_count": 436,
     "metadata": {},
     "output_type": "execute_result"
    },
    {
     "data": {
      "image/png": "[encoded data removed]",
      "text/plain": [
       "<Figure size 432x288 with 2 Axes>"
      ]
     },
     "metadata": {},
     "output_type": "display_data"
    }
   ],
   "source": [
    "import seaborn as sns\n",
    "\n",
    "sns.set(font_scale=.9)\n",
    "sns.heatmap(confusion_matrix(y_test, y_pred.argmax(1)), annot=True, fmt='.0f')"
   ]
  },
  {
   "cell_type": "code",
   "execution_count": 10,
   "id": "486e0c26",
   "metadata": {},
   "outputs": [],
   "source": [
    "import random\n",
    "def plot_random_img(model, images, true_labels, classes):\n",
    "    \n",
    "    i = random.randint(0, len(images))\n",
    "    \n",
    "    # create predictions and target\n",
    "    target_image = images[i]\n",
    "    pred_probs = model.predict(tf.expand_dims(target_image,axis=0)) #Predict a single image\n",
    "    pred_label = classes[pred_probs.argmax()]\n",
    "    true_labels = classes[true_labels[i]]\n",
    "    \n",
    "    # Plot the image\n",
    "    plt.imshow(target_image, cmap=plt.cm.binary)\n",
    "    \n",
    "    #change the color of the titles depending on if the prediction is right or wrong\n",
    "    if pred_label == true_labels:\n",
    "        color = 'green'\n",
    "    else:\n",
    "        color = 'red'\n",
    "        \n",
    "    # Add xlabel info\n",
    "    plt.title(f'pred:{pred_label} \\n {tf.round(100*tf.reduce_max(pred_probs))}% (True: {true_labels})', color=color)"
   ]
  },
  {
   "cell_type": "code",
   "execution_count": 496,
   "id": "b14dd68c",
   "metadata": {},
   "outputs": [
    {
     "data": {
      "image/png": "[encoded data removed]",
      "text/plain": [
       "<Figure size 432x288 with 1 Axes>"
      ]
     },
     "metadata": {},
     "output_type": "display_data"
    }
   ],
   "source": [
    "# Checkout a radom image prediction\n",
    "plot_random_img(model3, X_test_norm, y_test,list(np.arange(10)) )"
   ]
  },
  {
   "cell_type": "code",
   "execution_count": 535,
   "id": "395468f8",
   "metadata": {},
   "outputs": [
    {
     "name": "stdout",
     "output_type": "stream",
     "text": [
      "('You must install pydot (`pip install pydot`) and install graphviz (see instructions at https://graphviz.gitlab.io/download/) ', 'for plot_model/model_to_dot to work.')\n"
     ]
    }
   ],
   "source": [
    "from tensorflow.keras.utils import plot_model\n",
    "plot_model(model3, show_shapes=True)"
   ]
  },
  {
   "cell_type": "markdown",
   "id": "19c7ccae",
   "metadata": {},
   "source": [
    "## Using CNN to Make Prediction"
   ]
  },
  {
   "cell_type": "code",
   "execution_count": 602,
   "id": "39bedb7f",
   "metadata": {
    "scrolled": false
   },
   "outputs": [
    {
     "name": "stdout",
     "output_type": "stream",
     "text": [
      "Epoch 1/10\n",
      "1875/1875 [==============================] - 21s 11ms/step - loss: 0.6873 - accuracy: 0.7513 - val_loss: 0.5486 - val_accuracy: 0.8025\n",
      "Epoch 2/10\n",
      "1875/1875 [==============================] - 22s 12ms/step - loss: 0.4904 - accuracy: 0.8195 - val_loss: 0.4982 - val_accuracy: 0.8162\n",
      "Epoch 3/10\n",
      "1875/1875 [==============================] - 22s 12ms/step - loss: 0.4461 - accuracy: 0.8369 - val_loss: 0.4645 - val_accuracy: 0.8274\n",
      "Epoch 4/10\n",
      "1875/1875 [==============================] - 24s 13ms/step - loss: 0.4176 - accuracy: 0.8495 - val_loss: 0.4308 - val_accuracy: 0.8428\n",
      "Epoch 5/10\n",
      "1875/1875 [==============================] - 25s 13ms/step - loss: 0.3969 - accuracy: 0.8561 - val_loss: 0.4312 - val_accuracy: 0.8440\n",
      "Epoch 6/10\n",
      "1875/1875 [==============================] - 25s 13ms/step - loss: 0.3827 - accuracy: 0.8622 - val_loss: 0.4165 - val_accuracy: 0.8522\n",
      "Epoch 7/10\n",
      "1875/1875 [==============================] - 27s 14ms/step - loss: 0.3723 - accuracy: 0.8673 - val_loss: 0.4060 - val_accuracy: 0.8530\n",
      "Epoch 8/10\n",
      "1875/1875 [==============================] - 27s 14ms/step - loss: 0.3643 - accuracy: 0.8691 - val_loss: 0.3818 - val_accuracy: 0.8657\n",
      "Epoch 9/10\n",
      "1875/1875 [==============================] - 25s 13ms/step - loss: 0.3574 - accuracy: 0.8715 - val_loss: 0.3707 - val_accuracy: 0.8719\n",
      "Epoch 10/10\n",
      "1875/1875 [==============================] - 26s 14ms/step - loss: 0.3526 - accuracy: 0.8736 - val_loss: 0.3726 - val_accuracy: 0.8697\n"
     ]
    },
    {
     "data": {
      "text/plain": [
       "<keras.callbacks.History at 0x7fbf34ad4670>"
      ]
     },
     "execution_count": 602,
     "metadata": {},
     "output_type": "execute_result"
    }
   ],
   "source": [
    "model4 = tf.keras.Sequential([\n",
    "    tf.keras.layers.Conv2D(filters=5, kernel_size=3, activation='relu', input_shape=(28,28,1)),\n",
    "    tf.keras.layers.Conv2D(filters=5, kernel_size=3, activation='relu'),\n",
    "    tf.keras.layers.MaxPool2D(pool_size=2, padding='valid'),\n",
    "    tf.keras.layers.Conv2D(5,3, activation='relu'),\n",
    "    tf.keras.layers.Conv2D(5,3, activation='relu'),\n",
    "    tf.keras.layers.MaxPool2D(2),\n",
    "    tf.keras.layers.Flatten(),\n",
    "    tf.keras.layers.Dense(10, activation='softmax')\n",
    "])\n",
    "\n",
    "# Compile the model\n",
    "model4.compile(loss=tf.keras.losses.SparseCategoricalCrossentropy(),\n",
    "               optimizer=tf.keras.optimizers.Adam(),\n",
    "               metrics=['accuracy'])\n",
    "\n",
    "# Fit the model\n",
    "model4.fit(X_train_norm, y_train,\n",
    "           epochs=10,\n",
    "           validation_data=(X_test_norm, y_test))"
   ]
  },
  {
   "cell_type": "code",
   "execution_count": 546,
   "id": "856c56b9",
   "metadata": {},
   "outputs": [
    {
     "name": "stdout",
     "output_type": "stream",
     "text": [
      "Model: \"sequential_31\"\n",
      "_________________________________________________________________\n",
      " Layer (type)                Output Shape              Param #   \n",
      "=================================================================\n",
      " conv2d_32 (Conv2D)          (None, 26, 26, 10)        100       \n",
      "                                                                 \n",
      " conv2d_33 (Conv2D)          (None, 24, 24, 10)        910       \n",
      "                                                                 \n",
      " max_pooling2d_16 (MaxPoolin  (None, 12, 12, 10)       0         \n",
      " g2D)                                                            \n",
      "                                                                 \n",
      " conv2d_34 (Conv2D)          (None, 10, 10, 10)        910       \n",
      "                                                                 \n",
      " conv2d_35 (Conv2D)          (None, 8, 8, 10)          910       \n",
      "                                                                 \n",
      " max_pooling2d_17 (MaxPoolin  (None, 4, 4, 10)         0         \n",
      " g2D)                                                            \n",
      "                                                                 \n",
      " flatten_28 (Flatten)        (None, 160)               0         \n",
      "                                                                 \n",
      " dense_79 (Dense)            (None, 10)                1610      \n",
      "                                                                 \n",
      "=================================================================\n",
      "Total params: 4,440\n",
      "Trainable params: 4,440\n",
      "Non-trainable params: 0\n",
      "_________________________________________________________________\n"
     ]
    }
   ],
   "source": [
    "model4.summary()"
   ]
  },
  {
   "cell_type": "code",
   "execution_count": 547,
   "id": "38a3e664",
   "metadata": {},
   "outputs": [
    {
     "name": "stdout",
     "output_type": "stream",
     "text": [
      "Model: \"sequential_21\"\n",
      "_________________________________________________________________\n",
      " Layer (type)                Output Shape              Param #   \n",
      "=================================================================\n",
      " flatten_18 (Flatten)        (None, 784)               0         \n",
      "                                                                 \n",
      " dense_65 (Dense)            (None, 4)                 3140      \n",
      "                                                                 \n",
      " dense_66 (Dense)            (None, 4)                 20        \n",
      "                                                                 \n",
      " dense_67 (Dense)            (None, 10)                50        \n",
      "                                                                 \n",
      "=================================================================\n",
      "Total params: 3,210\n",
      "Trainable params: 3,210\n",
      "Non-trainable params: 0\n",
      "_________________________________________________________________\n"
     ]
    }
   ],
   "source": [
    "model3.summary()"
   ]
  },
  {
   "cell_type": "code",
   "execution_count": 564,
   "id": "7c2ac385",
   "metadata": {},
   "outputs": [
    {
     "data": {
      "image/png": "[encoded data removed]",
      "text/plain": [
       "<Figure size 432x288 with 1 Axes>"
      ]
     },
     "metadata": {},
     "output_type": "display_data"
    }
   ],
   "source": [
    "plot_random_img(model4, X_test, y_test, list(np.arange(0,10)))"
   ]
  },
  {
   "cell_type": "code",
   "execution_count": 566,
   "id": "6b2a517f",
   "metadata": {},
   "outputs": [
    {
     "name": "stdout",
     "output_type": "stream",
     "text": [
      "313/313 [==============================] - 1s 3ms/step - loss: 0.2922 - accuracy: 0.8978\n"
     ]
    },
    {
     "data": {
      "text/plain": [
       "[0.29221099615097046, 0.8978000283241272]"
      ]
     },
     "execution_count": 566,
     "metadata": {},
     "output_type": "execute_result"
    }
   ],
   "source": [
    "model4.evaluate(X_test_norm, y_test)"
   ]
  },
  {
   "cell_type": "code",
   "execution_count": 567,
   "id": "78873ba3",
   "metadata": {},
   "outputs": [
    {
     "name": "stdout",
     "output_type": "stream",
     "text": [
      "313/313 [==============================] - 0s 857us/step - loss: 0.5952 - accuracy: 0.7926\n"
     ]
    },
    {
     "data": {
      "text/plain": [
       "[0.5951793193817139, 0.7925999760627747]"
      ]
     },
     "execution_count": 567,
     "metadata": {},
     "output_type": "execute_result"
    }
   ],
   "source": [
    "model3.evaluate(X_test_norm, y_test)"
   ]
  },
  {
   "cell_type": "code",
   "execution_count": 596,
   "id": "01bb70cb",
   "metadata": {},
   "outputs": [],
   "source": [
    "preds = model4.predict(X_test_norm).argmax(axis=1) == y_test"
   ]
  },
  {
   "cell_type": "code",
   "execution_count": 601,
   "id": "8c8bd0e9",
   "metadata": {},
   "outputs": [
    {
     "data": {
      "text/plain": [
       "(array([False,  True]), array([1022, 8978]))"
      ]
     },
     "execution_count": 601,
     "metadata": {},
     "output_type": "execute_result"
    }
   ],
   "source": [
    "np.unique(preds, return_counts=True)"
   ]
  },
  {
   "cell_type": "code",
   "execution_count": 589,
   "id": "5349b6d2",
   "metadata": {},
   "outputs": [
    {
     "data": {
      "text/plain": [
       "6"
      ]
     },
     "execution_count": 589,
     "metadata": {},
     "output_type": "execute_result"
    }
   ],
   "source": [
    "model3.predict(X_test_norm[293].reshape(1,28,28)).argmax()"
   ]
  },
  {
   "cell_type": "code",
   "execution_count": 590,
   "id": "bf7db0ce",
   "metadata": {},
   "outputs": [
    {
     "data": {
      "text/plain": [
       "6"
      ]
     },
     "execution_count": 590,
     "metadata": {},
     "output_type": "execute_result"
    }
   ],
   "source": [
    "y_test[293]"
   ]
  },
  {
   "cell_type": "markdown",
   "id": "f192b9f1",
   "metadata": {},
   "source": [
    "# Transfer Learning\n",
    "\n",
    "Transfer Learning allows us to leverage similar model architectures that has proven to work for our own problem.\n",
    "\n",
    "**Callbacks:** Callbacks are extra functionality you can add to you model to be performed during or after training. Some popular callbacks are:\n",
    "\n",
    "* Tracking experiments with `Tensorboard` callback\n",
    "* Model Checkpoint with the `ModelCheckpoint` callback\n",
    "* Stopping a model from training (to avoid overfitting) with the `EarlyStopping` callback"
   ]
  },
  {
   "cell_type": "code",
   "execution_count": 9,
   "id": "b3c979b1",
   "metadata": {},
   "outputs": [],
   "source": [
    "# create a tensorboard callback (functionized just in case we need to create a new one for each experiment)\n",
    "import datetime \n",
    "\n",
    "def create_tensorboard_callback(dir_name, experiment_name:str):\n",
    "    \n",
    "    # Create a dirpath of where it will be stored\n",
    "    log_dir = datetime.datetime.now().strftime('%Y_%m_%d_%H%M%S')+'_'+experiment_name.lower()\n",
    "    \n",
    "    tensorboard_callback = tf.keras.callbacks.TensorBoard(log_dir=log_dir)\n",
    "    print(f'Saved Tensorboard log files to: {log_dir}')\n",
    "    \n",
    "    return tensorboard_callback"
   ]
  },
  {
   "cell_type": "markdown",
   "id": "6a22e274",
   "metadata": {},
   "source": [
    "In other "
   ]
  },
  {
   "cell_type": "code",
   "execution_count": 4,
   "id": "e42dc49c",
   "metadata": {},
   "outputs": [],
   "source": [
    "resnet50_url ='https://tfhub.dev/google/imagenet/resnet_v2_50/classification/5'\n",
    "efficentB0_url = 'https://tfhub.dev/tensorflow/efficientnet/b0/classification/1'"
   ]
  },
  {
   "cell_type": "code",
   "execution_count": 10,
   "id": "1d1112d5",
   "metadata": {},
   "outputs": [
    {
     "name": "stdout",
     "output_type": "stream",
     "text": [
      "Collecting tensorflow_hub\n",
      "  Downloading tensorflow_hub-0.12.0-py2.py3-none-any.whl (108 kB)\n",
      "     |████████████████████████████████| 108 kB 630 kB/s            \n",
      "\u001b[?25hRequirement already satisfied: protobuf>=3.8.0 in /opt/anaconda3/lib/python3.8/site-packages (from tensorflow_hub) (3.19.1)\n",
      "Requirement already satisfied: numpy>=1.12.0 in /opt/anaconda3/lib/python3.8/site-packages (from tensorflow_hub) (1.19.5)\n",
      "Installing collected packages: tensorflow-hub\n",
      "Successfully installed tensorflow-hub-0.12.0\n",
      "\u001b[33mWARNING: You are using pip version 21.3.1; however, version 22.0.3 is available.\n",
      "You should consider upgrading via the '/opt/anaconda3/bin/python -m pip install --upgrade pip' command.\u001b[0m\n"
     ]
    }
   ],
   "source": [
    "!pip3 install tensorflow_hub"
   ]
  },
  {
   "cell_type": "code",
   "execution_count": 11,
   "id": "a7c01e08",
   "metadata": {},
   "outputs": [],
   "source": [
    "# import tensorflow hub\n",
    "import tensorflow_hub as hub"
   ]
  },
  {
   "cell_type": "code",
   "execution_count": 119,
   "id": "00b9fc77",
   "metadata": {},
   "outputs": [],
   "source": [
    "def create_transfer_learning_model(model_url, num_classes=10):\n",
    "    \"\"\"\n",
    "    Takes a tensorflow hub URL and create a Keras Sequential Model with it.\n",
    "    \n",
    "    Args:\n",
    "        model_url (str): A url to a tensorflow hub model\n",
    "        num_classes (int): The number of classes to train for\n",
    "    \n",
    "    Returns:\n",
    "        model (tf.keras.Sequential): A compiled Keras model\n",
    "    \"\"\"\n",
    "    \n",
    "    # Dowload the pretrained model and save it to keras layer\n",
    "    feature_extraction_layer = hub.KerasLayer(model_url, \n",
    "                                              trainable=False,\n",
    "                                              name='FeatureExtractionLayer',\n",
    "                                              input_shape=(28,28,3)\n",
    "                                             )\n",
    "    \n",
    "    # Create our own model\n",
    "    model = tf.keras.Sequential([\n",
    "        feature_extraction_layer,\n",
    "        tf.keras.layers.Dense(num_classes, activation='softmax', name='Output_Layer')\n",
    "    ])\n",
    "    \n",
    "    return model"
   ]
  },
  {
   "cell_type": "code",
   "execution_count": 120,
   "id": "f23c6ef5",
   "metadata": {
    "scrolled": false
   },
   "outputs": [],
   "source": [
    "# EfficientNet Model\n",
    "efficient_model = create_transfer_learning_model(efficentB0_url)\n",
    "\n",
    "# Resnet Model\n",
    "resnet_model = create_transfer_learning_model(resnet)"
   ]
  },
  {
   "cell_type": "code",
   "execution_count": 123,
   "id": "24b7129e",
   "metadata": {},
   "outputs": [
    {
     "name": "stdout",
     "output_type": "stream",
     "text": [
      "Model: \"sequential_11\"\n",
      "_________________________________________________________________\n",
      " Layer (type)                Output Shape              Param #   \n",
      "=================================================================\n",
      " FeatureExtractionLayer (Ker  (None, 1000)             5330564   \n",
      " asLayer)                                                        \n",
      "                                                                 \n",
      " Output_Layer (Dense)        (None, 10)                10010     \n",
      "                                                                 \n",
      "=================================================================\n",
      "Total params: 5,340,574\n",
      "Trainable params: 10,010\n",
      "Non-trainable params: 5,330,564\n",
      "_________________________________________________________________\n"
     ]
    }
   ],
   "source": [
    "efficient_model.summary()"
   ]
  },
  {
   "cell_type": "code",
   "execution_count": 54,
   "id": "0583a2b3",
   "metadata": {},
   "outputs": [],
   "source": [
    "# Resnet Model\n",
    "resnet_model = create_transfer_learning_model(resnet50_url)"
   ]
  },
  {
   "cell_type": "code",
   "execution_count": 124,
   "id": "c88ac992",
   "metadata": {
    "scrolled": false
   },
   "outputs": [],
   "source": [
    "# compile our models\n",
    "efficient_model.compile(loss=tf.keras.losses.SparseCategoricalCrossentropy(),\n",
    "                        optimizer=tf.keras.optimizers.Adam(),\n",
    "                        metrics=['accuracy'])\n",
    "\n",
    "# resnet_model.compile(loss=tf.keras.losses.SparseCategoricalCrossentropy(),\n",
    "#                      optimizer=tf.keras.optimizers.Adam(),\n",
    "#                      metrics=['accuracy'])"
   ]
  },
  {
   "cell_type": "code",
   "execution_count": 63,
   "id": "2ffadada",
   "metadata": {},
   "outputs": [],
   "source": [
    "import cv2"
   ]
  },
  {
   "cell_type": "markdown",
   "id": "133e9b20",
   "metadata": {},
   "source": [
    "convert features from GrayScale to RGB in other to feed our transfer learning model"
   ]
  },
  {
   "cell_type": "code",
   "execution_count": 125,
   "id": "6224eab7",
   "metadata": {},
   "outputs": [],
   "source": [
    "def convert_to_rgb(src):\n",
    "    rgbs = []\n",
    "    \n",
    "    for i in range(src.shape[0]):\n",
    "        new_img = cv2.cvtColor(src[i], cv2.COLOR_GRAY2RGB)\n",
    "        rgbs.append(new_img)\n",
    "        \n",
    "    return tf.constant(rgbs)\n",
    "    \n",
    "    "
   ]
  },
  {
   "cell_type": "code",
   "execution_count": 111,
   "id": "2a243684",
   "metadata": {},
   "outputs": [],
   "source": [
    "# Convert 2D images to 3D image\n",
    "\n",
    "X_train_norm = convert_to_rgb(X_train)\n",
    "X_test_norm = convert_to_rgb(X_test)"
   ]
  },
  {
   "cell_type": "code",
   "execution_count": 135,
   "id": "4a4d5535",
   "metadata": {},
   "outputs": [],
   "source": [
    "# Normalize our images\n",
    "\n",
    "X_train_norm, X_test_norm = tf.cast(X_train_norm, dtype=tf.float32)/255., tf.cast(X_test_norm, dtype=tf.float32)/255."
   ]
  },
  {
   "cell_type": "code",
   "execution_count": 138,
   "id": "a83b8c84",
   "metadata": {},
   "outputs": [
    {
     "data": {
      "text/plain": [
       "(TensorShape([60000, 28, 28, 3]), TensorShape([10000, 28, 28, 3]))"
      ]
     },
     "execution_count": 138,
     "metadata": {},
     "output_type": "execute_result"
    }
   ],
   "source": [
    "X_train_norm.shape, X_test_norm.shape"
   ]
  },
  {
   "cell_type": "code",
   "execution_count": 151,
   "id": "a4a571f8",
   "metadata": {
    "scrolled": true
   },
   "outputs": [
    {
     "name": "stdout",
     "output_type": "stream",
     "text": [
      "Saved Tensorboard log files to: 2022_02_13_225949_efficientnetb0_training\n",
      "Epoch 1/5\n",
      "1875/1875 [==============================] - 67s 35ms/step - loss: 1.5298 - accuracy: 0.6473 - val_loss: 1.5207 - val_accuracy: 0.6471\n",
      "Epoch 2/5\n",
      "1875/1875 [==============================] - 76s 40ms/step - loss: 1.5095 - accuracy: 0.6490 - val_loss: 1.5011 - val_accuracy: 0.6513\n",
      "Epoch 3/5\n",
      "1875/1875 [==============================] - 76s 41ms/step - loss: 1.4901 - accuracy: 0.6506 - val_loss: 1.4822 - val_accuracy: 0.6515\n",
      "Epoch 4/5\n",
      "1875/1875 [==============================] - 82s 44ms/step - loss: 1.4715 - accuracy: 0.6515 - val_loss: 1.4641 - val_accuracy: 0.6521\n",
      "Epoch 5/5\n",
      "1875/1875 [==============================] - 88s 47ms/step - loss: 1.4538 - accuracy: 0.6524 - val_loss: 1.4471 - val_accuracy: 0.6534\n"
     ]
    },
    {
     "data": {
      "text/plain": [
       "<keras.callbacks.History at 0x7fa88a0321f0>"
      ]
     },
     "execution_count": 151,
     "metadata": {},
     "output_type": "execute_result"
    }
   ],
   "source": [
    "# Fit the models\n",
    "efficient_model.fit(X_train_norm, y_train, epochs=5, \n",
    "                    validation_data=(X_test_norm, y_test), \n",
    "                    callbacks=[create_tensorboard_callback('Tensorboard_Callback','EfficientNetB0_Training')])"
   ]
  },
  {
   "cell_type": "code",
   "execution_count": 153,
   "id": "8abf3fd0",
   "metadata": {},
   "outputs": [
    {
     "data": {
      "image/png": "[encoded data removed]",
      "text/plain": [
       "<Figure size 432x288 with 1 Axes>"
      ]
     },
     "metadata": {
      "needs_background": "light"
     },
     "output_type": "display_data"
    }
   ],
   "source": [
    "plot_random_img(efficient_model, X_test_norm, y_test, list(np.arange(0,10)))"
   ]
  },
  {
   "cell_type": "code",
   "execution_count": null,
   "id": "9a16fcef",
   "metadata": {
    "scrolled": true
   },
   "outputs": [
    {
     "name": "stdout",
     "output_type": "stream",
     "text": [
      "\r\n",
      "***** TensorBoard Uploader *****\r\n",
      "\r\n",
      "This will upload your TensorBoard logs to https://tensorboard.dev/ from\r\n",
      "the following directory:\r\n",
      "\r\n",
      "2022_02_13_225949_efficientnetb0_training\r\n",
      "\r\n",
      "This TensorBoard will be visible to everyone. Do not upload sensitive\r\n",
      "data.\r\n",
      "\r\n",
      "Your use of this service is subject to Google's Terms of Service\r\n",
      "<https://policies.google.com/terms> and Privacy Policy\r\n",
      "<https://policies.google.com/privacy>, and TensorBoard.dev's Terms of Service\r\n",
      "<https://tensorboard.dev/policy/terms/>.\r\n",
      "\r\n",
      "This notice will not be shown again while you are logged into the uploader.\r\n",
      "To log out, run `tensorboard dev auth revoke`.\r\n",
      "\r\n",
      "Continue? (yes/NO) "
     ]
    }
   ],
   "source": [
    "# Log our model on Tensorboard\n",
    "! tensorboard dev upload --logdir 2022_02_13_225949_efficientnetb0_training --name='EfficientNet Training and Validation'"
   ]
  },
  {
   "cell_type": "code",
   "execution_count": 3,
   "id": "86924342",
   "metadata": {},
   "outputs": [
    {
     "name": "stdout",
     "output_type": "stream",
     "text": [
      "https://tensorboard.dev/experiment/v2j1mG2eRQWwpmBDjLV3yQ/\r\n",
      "\tName                 EfficientNet Training and Validation\r\n",
      "\tDescription          [No Description]\r\n",
      "\tId                   v2j1mG2eRQWwpmBDjLV3yQ\r\n",
      "\tCreated              2022-02-13 23:30:18 (11 hours ago)\r\n",
      "\tUpdated              2022-02-13 23:34:36 (11 hours ago)\r\n",
      "\tRuns                 2\r\n",
      "\tTags                 5\r\n",
      "\tScalars              30\r\n",
      "\tTensor bytes         0\r\n",
      "\tBinary object bytes  4099901\r\n",
      "https://tensorboard.dev/experiment/2qgVhNOmQXmjC952e2Umlg/\r\n",
      "\tName                 EfficientNet Training and Validation\r\n",
      "\tDescription          [No Description]\r\n",
      "\tId                   2qgVhNOmQXmjC952e2Umlg\r\n",
      "\tCreated              2022-02-13 23:25:39 (11 hours ago)\r\n",
      "\tUpdated              2022-02-13 23:25:40 (11 hours ago)\r\n",
      "\tRuns                 1\r\n",
      "\tTags                 1\r\n",
      "\tScalars              0\r\n",
      "\tTensor bytes         0\r\n",
      "\tBinary object bytes  80\r\n",
      "https://tensorboard.dev/experiment/p1sBGlkyRRKGdxyCVWMhvg/\r\n",
      "\tName                 (optional) My latest experiment\r\n",
      "\tDescription          (optional) Simple comparison of several hyperparameters\r\n",
      "\tId                   p1sBGlkyRRKGdxyCVWMhvg\r\n",
      "\tCreated              2021-10-15 14:43:11\r\n",
      "\tUpdated              2021-10-15 14:43:12\r\n",
      "\tRuns                 2\r\n",
      "\tTags                 9\r\n",
      "\tScalars              30\r\n",
      "\tTensor bytes         16300\r\n",
      "\tBinary object bytes  30410\r\n",
      "Total: 3 experiment(s)\r\n"
     ]
    }
   ],
   "source": [
    "! tensorboard dev list"
   ]
  },
  {
   "cell_type": "code",
   "execution_count": 47,
   "id": "7224ea34",
   "metadata": {
    "scrolled": true
   },
   "outputs": [
    {
     "name": "stdout",
     "output_type": "stream",
     "text": [
      "Model: \"sequential_6\"\n",
      "_________________________________________________________________\n",
      " Layer (type)                Output Shape              Param #   \n",
      "=================================================================\n",
      " FeatureExtractionLayer (Ker  (None, 1000)             5330564   \n",
      " asLayer)                                                        \n",
      "                                                                 \n",
      " Output_Layer (Dense)        (None, 10)                10010     \n",
      "                                                                 \n",
      "=================================================================\n",
      "Total params: 5,340,574\n",
      "Trainable params: 10,010\n",
      "Non-trainable params: 5,330,564\n",
      "_________________________________________________________________\n"
     ]
    }
   ],
   "source": [
    "efficient_model.summary()"
   ]
  },
  {
   "cell_type": "code",
   "execution_count": 48,
   "id": "96f22e7d",
   "metadata": {},
   "outputs": [
    {
     "name": "stdout",
     "output_type": "stream",
     "text": [
      "Model: \"sequential_7\"\n",
      "_________________________________________________________________\n",
      " Layer (type)                Output Shape              Param #   \n",
      "=================================================================\n",
      " FeatureExtractionLayer (Ker  (None, 1001)             25615849  \n",
      " asLayer)                                                        \n",
      "                                                                 \n",
      " Output_Layer (Dense)        (None, 10)                10020     \n",
      "                                                                 \n",
      "=================================================================\n",
      "Total params: 25,625,869\n",
      "Trainable params: 10,020\n",
      "Non-trainable params: 25,615,849\n",
      "_________________________________________________________________\n"
     ]
    }
   ],
   "source": [
    "resnet_model.summary()"
   ]
  },
  {
   "cell_type": "code",
   "execution_count": 105,
   "id": "4b8aec4a",
   "metadata": {},
   "outputs": [
    {
     "data": {
      "text/plain": [
       "(60000, 28, 28)"
      ]
     },
     "execution_count": 105,
     "metadata": {},
     "output_type": "execute_result"
    }
   ],
   "source": [
    "X_train_norm.shape"
   ]
  },
  {
   "cell_type": "markdown",
   "id": "cdf09eb3",
   "metadata": {},
   "source": [
    "## Transfer Learning Fine Tuning\n",
    "Adjusting the pretrained model weights"
   ]
  },
  {
   "cell_type": "code",
   "execution_count": 34,
   "id": "35ad8208",
   "metadata": {},
   "outputs": [
    {
     "name": "stdout",
     "output_type": "stream",
     "text": [
      "(None, 7, 7, 1280)\n",
      "Model: \"model\"\n",
      "_________________________________________________________________\n",
      " Layer (type)                Output Shape              Param #   \n",
      "=================================================================\n",
      " input_30 (InputLayer)       [(None, 228, 228, 3)]     0         \n",
      "                                                                 \n",
      " efficientnetb0 (Functional)  (None, None, None, 1280)  4049571  \n",
      "                                                                 \n",
      " GlobalAveragePooling (Globa  (None, 1280)             0         \n",
      " lAveragePooling2D)                                              \n",
      "                                                                 \n",
      " dense (Dense)               (None, 10)                12810     \n",
      "                                                                 \n",
      "=================================================================\n",
      "Total params: 4,062,381\n",
      "Trainable params: 12,810\n",
      "Non-trainable params: 4,049,571\n",
      "_________________________________________________________________\n"
     ]
    }
   ],
   "source": [
    "#  Let's use functional Api Modelling to create our model this time\n",
    "\n",
    "# create our base model\n",
    "base_model = tf.keras.applications.EfficientNetB0(include_top=False)\n",
    "\n",
    "# create our input layer\n",
    "inputs = tf.keras.layers.Input(shape=(228,228,3))\n",
    "\n",
    "# freeze the model weights\n",
    "base_model.trainable = False\n",
    "\n",
    "# Normalize if model is Resnet50v2\n",
    "# x = tf.keras.layers.experimental.preprocessing.Rescale(1./255)(inputs)\n",
    "\n",
    "# otherwise:\n",
    "\n",
    "x = base_model(inputs)\n",
    "print(x.shape)\n",
    "\n",
    "# AveragePool (Aggregrate all the most important feature information, reduce number of computations)\n",
    "\n",
    "x = tf.keras.layers.GlobalAveragePooling2D(name='GlobalAveragePooling')(x)\n",
    "\n",
    "# Create teh output layer\n",
    "\n",
    "outputs = tf.keras.layers.Dense(10, activation='softmax')(x)\n",
    "\n",
    "# Model\n",
    "functional_api_model = tf.keras.Model(inputs, outputs)\n",
    "\n",
    "functional_api_model.summary()"
   ]
  },
  {
   "cell_type": "code",
   "execution_count": 35,
   "id": "856a3678",
   "metadata": {},
   "outputs": [],
   "source": [
    "# compile the functional API model\n",
    "functional_api_model.compile(loss=tf.keras.losses.categorical_crossentropy,\n",
    "                             optimizer = tf.keras.optimizers.Adam(),\n",
    "                             metrics = ['accuracy'])"
   ]
  },
  {
   "cell_type": "code",
   "execution_count": null,
   "id": "1bc81fe4",
   "metadata": {},
   "outputs": [],
   "source": []
  }
 ],
 "metadata": {
  "kernelspec": {
   "display_name": "Python 3",
   "language": "python",
   "name": "python3"
  },
  "language_info": {
   "codemirror_mode": {
    "name": "ipython",
    "version": 3
   },
   "file_extension": ".py",
   "mimetype": "text/x-python",
   "name": "python",
   "nbconvert_exporter": "python",
   "pygments_lexer": "ipython3",
   "version": "3.8.8"
  }
 },
 "nbformat": 4,
 "nbformat_minor": 5
}
