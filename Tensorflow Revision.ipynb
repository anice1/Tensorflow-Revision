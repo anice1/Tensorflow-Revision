{
 "cells": [
  {
   "cell_type": "markdown",
   "id": "eebaf9a2",
   "metadata": {},
   "source": [
    "# Revision on Tensorflow"
   ]
  },
  {
   "cell_type": "code",
   "execution_count": 1,
   "id": "d2b2d2b2",
   "metadata": {},
   "outputs": [],
   "source": [
    "import tensorflow as tf"
   ]
  },
  {
   "cell_type": "markdown",
   "id": "6e53295a",
   "metadata": {},
   "source": [
    "## Create a tensor using tf.constant()"
   ]
  },
  {
   "cell_type": "code",
   "execution_count": 2,
   "id": "d7d020ae",
   "metadata": {},
   "outputs": [
    {
     "data": {
      "text/plain": [
       "<tf.Tensor: shape=(), dtype=int32, numpy=7>"
      ]
     },
     "execution_count": 2,
     "metadata": {},
     "output_type": "execute_result"
    }
   ],
   "source": [
    "# create a tensor\n",
    "scalar = tf.constant(7)\n",
    "scalar"
   ]
  },
  {
   "cell_type": "code",
   "execution_count": 5,
   "id": "eb86bb86",
   "metadata": {},
   "outputs": [
    {
     "data": {
      "text/plain": [
       "0"
      ]
     },
     "execution_count": 5,
     "metadata": {},
     "output_type": "execute_result"
    }
   ],
   "source": [
    "scalar.ndim"
   ]
  },
  {
   "cell_type": "code",
   "execution_count": 6,
   "id": "a7f91259",
   "metadata": {},
   "outputs": [
    {
     "data": {
      "text/plain": [
       "<tf.Tensor: shape=(2,), dtype=int32, numpy=array([10, 10], dtype=int32)>"
      ]
     },
     "execution_count": 6,
     "metadata": {},
     "output_type": "execute_result"
    }
   ],
   "source": [
    "# create a vector \n",
    "vector = tf.constant([10,10])\n",
    "vector"
   ]
  },
  {
   "cell_type": "code",
   "execution_count": 7,
   "id": "0503a4df",
   "metadata": {},
   "outputs": [
    {
     "data": {
      "text/plain": [
       "1"
      ]
     },
     "execution_count": 7,
     "metadata": {},
     "output_type": "execute_result"
    }
   ],
   "source": [
    "vector.ndim"
   ]
  },
  {
   "cell_type": "code",
   "execution_count": 8,
   "id": "402b4198",
   "metadata": {},
   "outputs": [
    {
     "data": {
      "text/plain": [
       "TensorShape([2])"
      ]
     },
     "execution_count": 8,
     "metadata": {},
     "output_type": "execute_result"
    }
   ],
   "source": [
    "vector.shape"
   ]
  },
  {
   "cell_type": "code",
   "execution_count": 9,
   "id": "ae24b8a8",
   "metadata": {},
   "outputs": [
    {
     "data": {
      "text/plain": [
       "<tf.Tensor: shape=(2, 3), dtype=int32, numpy=\n",
       "array([[1, 2, 3],\n",
       "       [4, 5, 6]], dtype=int32)>"
      ]
     },
     "execution_count": 9,
     "metadata": {},
     "output_type": "execute_result"
    }
   ],
   "source": [
    "# create a matrix (a matrix has more than one dimension)\n",
    "matrix = tf.constant([[1,2,3],\n",
    "                      [4,5,6]])\n",
    "matrix"
   ]
  },
  {
   "cell_type": "code",
   "execution_count": 10,
   "id": "e29d575a",
   "metadata": {},
   "outputs": [
    {
     "data": {
      "text/plain": [
       "2"
      ]
     },
     "execution_count": 10,
     "metadata": {},
     "output_type": "execute_result"
    }
   ],
   "source": [
    "matrix.ndim"
   ]
  },
  {
   "cell_type": "code",
   "execution_count": 11,
   "id": "7beca146",
   "metadata": {},
   "outputs": [
    {
     "data": {
      "text/plain": [
       "TensorShape([2, 3])"
      ]
     },
     "execution_count": 11,
     "metadata": {},
     "output_type": "execute_result"
    }
   ],
   "source": [
    "matrix.shape"
   ]
  },
  {
   "cell_type": "code",
   "execution_count": 12,
   "id": "7a56bd6b",
   "metadata": {},
   "outputs": [
    {
     "data": {
      "text/plain": [
       "<tf.Tensor: shape=(2, 3), dtype=float16, numpy=\n",
       "array([[1., 2., 3.],\n",
       "       [4., 5., 6.]], dtype=float16)>"
      ]
     },
     "execution_count": 12,
     "metadata": {},
     "output_type": "execute_result"
    }
   ],
   "source": [
    "# create another matrix\n",
    "matrix2 = tf.constant([[1.,2.,3.],\n",
    "                       [4.,5.,6.]], dtype=tf.float16)\n",
    "matrix2"
   ]
  },
  {
   "cell_type": "markdown",
   "id": "8feae15f",
   "metadata": {},
   "source": [
    "## tf.Variable(...)"
   ]
  },
  {
   "cell_type": "code",
   "execution_count": 28,
   "id": "f409ed39",
   "metadata": {},
   "outputs": [
    {
     "ename": "TypeError",
     "evalue": "'tensorflow.python.framework.ops.EagerTensor' object does not support item assignment",
     "output_type": "error",
     "traceback": [
      "\u001b[0;31m---------------------------------------------------------------------------\u001b[0m",
      "\u001b[0;31mTypeError\u001b[0m                                 Traceback (most recent call last)",
      "\u001b[0;32m<ipython-input-28-eca87e93670c>\u001b[0m in \u001b[0;36m<module>\u001b[0;34m\u001b[0m\n\u001b[0;32m----> 1\u001b[0;31m \u001b[0mmatrix2\u001b[0m\u001b[0;34m[\u001b[0m\u001b[0;36m0\u001b[0m\u001b[0;34m]\u001b[0m \u001b[0;34m=\u001b[0m \u001b[0;34m[\u001b[0m\u001b[0;36m2.\u001b[0m\u001b[0;34m,\u001b[0m\u001b[0;36m2.\u001b[0m\u001b[0;34m,\u001b[0m\u001b[0;36m2.\u001b[0m\u001b[0;34m]\u001b[0m\u001b[0;34m\u001b[0m\u001b[0;34m\u001b[0m\u001b[0m\n\u001b[0m",
      "\u001b[0;31mTypeError\u001b[0m: 'tensorflow.python.framework.ops.EagerTensor' object does not support item assignment"
     ]
    }
   ],
   "source": [
    "matrix2[0] = [2.,2.,2.]"
   ]
  },
  {
   "cell_type": "markdown",
   "id": "5887ffec",
   "metadata": {},
   "source": [
    "It's very clear we can't manipulate a constant tensor, hence the advent of a `tf.Variable`"
   ]
  },
  {
   "cell_type": "code",
   "execution_count": 22,
   "id": "6ee1eeaa",
   "metadata": {},
   "outputs": [
    {
     "data": {
      "text/plain": [
       "<tf.Variable 'Variable:0' shape=() dtype=int32, numpy=7>"
      ]
     },
     "execution_count": 22,
     "metadata": {},
     "output_type": "execute_result"
    }
   ],
   "source": [
    "_scalar_variable = tf.Variable(7)\n",
    "_scalar_variable"
   ]
  },
  {
   "cell_type": "code",
   "execution_count": 23,
   "id": "85a0cda8",
   "metadata": {},
   "outputs": [
    {
     "data": {
      "text/plain": [
       "<tf.Variable 'Variable:0' shape=(3,) dtype=int32, numpy=array([1, 2, 3], dtype=int32)>"
      ]
     },
     "execution_count": 23,
     "metadata": {},
     "output_type": "execute_result"
    }
   ],
   "source": [
    "_vector_variable = tf.Variable([1,2,3])\n",
    "_vector_variable"
   ]
  },
  {
   "cell_type": "code",
   "execution_count": 24,
   "id": "b6595fad",
   "metadata": {},
   "outputs": [
    {
     "data": {
      "text/plain": [
       "<tf.Variable 'Variable:0' shape=(3, 3) dtype=int32, numpy=\n",
       "array([[1, 2, 3],\n",
       "       [4, 5, 6],\n",
       "       [6, 7, 8]], dtype=int32)>"
      ]
     },
     "execution_count": 24,
     "metadata": {},
     "output_type": "execute_result"
    }
   ],
   "source": [
    "_matrix_variable = tf.Variable([[1,2,3],[4,5,6],[6,7,8]])\n",
    "_matrix_variable"
   ]
  },
  {
   "cell_type": "code",
   "execution_count": 32,
   "id": "82a67d04",
   "metadata": {},
   "outputs": [
    {
     "data": {
      "text/plain": [
       "<tf.Variable 'Variable:0' shape=(3, 3) dtype=int32, numpy=\n",
       "array([[0, 0, 0],\n",
       "       [4, 5, 6],\n",
       "       [6, 7, 8]], dtype=int32)>"
      ]
     },
     "execution_count": 32,
     "metadata": {},
     "output_type": "execute_result"
    }
   ],
   "source": [
    "_matrix_variable[0].assign([0,0,0])\n",
    "_matrix_variable"
   ]
  },
  {
   "cell_type": "markdown",
   "id": "22d5ec7e",
   "metadata": {},
   "source": [
    "## Create a Random Tensor"
   ]
  },
  {
   "cell_type": "code",
   "execution_count": 38,
   "id": "b1558dca",
   "metadata": {},
   "outputs": [],
   "source": [
    "random1 = tf.random.Generator.from_seed(42)\n",
    "normal_random = random1.normal((3,2))"
   ]
  },
  {
   "cell_type": "code",
   "execution_count": 39,
   "id": "d8fb1d47",
   "metadata": {},
   "outputs": [
    {
     "data": {
      "text/plain": [
       "<tf.Tensor: shape=(3, 2), dtype=float32, numpy=\n",
       "array([[-0.7565803 , -0.06854702],\n",
       "       [ 0.07595026, -1.2573844 ],\n",
       "       [-0.23193763, -1.8107855 ]], dtype=float32)>"
      ]
     },
     "execution_count": 39,
     "metadata": {},
     "output_type": "execute_result"
    }
   ],
   "source": [
    "normal_random"
   ]
  },
  {
   "cell_type": "markdown",
   "id": "92ff28b0",
   "metadata": {},
   "source": [
    "## Shuffle the order of elements in a tensor"
   ]
  },
  {
   "cell_type": "code",
   "execution_count": 74,
   "id": "d21119ca",
   "metadata": {},
   "outputs": [
    {
     "data": {
      "text/plain": [
       "<tf.Tensor: shape=(3, 3), dtype=int32, numpy=\n",
       "array([[4, 5, 6],\n",
       "       [7, 8, 9],\n",
       "       [1, 2, 3]], dtype=int32)>"
      ]
     },
     "execution_count": 74,
     "metadata": {},
     "output_type": "execute_result"
    }
   ],
   "source": [
    "# This may be helpful if we want to shuffle our data\n",
    "tensor_to_shuffle = tf.constant([[1,2,3],\n",
    "                                 [4,5,6],\n",
    "                                 [7,8,9]])\n",
    "# shuffle the tensor \n",
    "tf.random.set_seed(42)\n",
    "tf.random.shuffle(tensor_to_shuffle)"
   ]
  },
  {
   "cell_type": "code",
   "execution_count": 108,
   "id": "7f6af44d",
   "metadata": {},
   "outputs": [
    {
     "data": {
      "text/plain": [
       "<tf.Tensor: shape=(5, 7), dtype=float32, numpy=\n",
       "array([[1., 1., 1., 1., 1., 1., 1.],\n",
       "       [1., 1., 1., 1., 1., 1., 1.],\n",
       "       [1., 1., 1., 1., 1., 1., 1.],\n",
       "       [1., 1., 1., 1., 1., 1., 1.],\n",
       "       [1., 1., 1., 1., 1., 1., 1.]], dtype=float32)>"
      ]
     },
     "execution_count": 108,
     "metadata": {},
     "output_type": "execute_result"
    }
   ],
   "source": [
    "# create a tensor filled with ones\n",
    "tf.ones((5,7))"
   ]
  },
  {
   "cell_type": "code",
   "execution_count": 109,
   "id": "50077c3e",
   "metadata": {},
   "outputs": [
    {
     "data": {
      "text/plain": [
       "<tf.Tensor: shape=(5, 7), dtype=float32, numpy=\n",
       "array([[0., 0., 0., 0., 0., 0., 0.],\n",
       "       [0., 0., 0., 0., 0., 0., 0.],\n",
       "       [0., 0., 0., 0., 0., 0., 0.],\n",
       "       [0., 0., 0., 0., 0., 0., 0.],\n",
       "       [0., 0., 0., 0., 0., 0., 0.]], dtype=float32)>"
      ]
     },
     "execution_count": 109,
     "metadata": {},
     "output_type": "execute_result"
    }
   ],
   "source": [
    "# create a tensor filled with zeros\n",
    "tf.zeros((5,7))"
   ]
  },
  {
   "cell_type": "markdown",
   "id": "d141d295",
   "metadata": {},
   "source": [
    "## Turn a numpy array to Tensor\n",
    "📝 It's nice we turn our numpy arrays to tensors, cause tensors run faster on GPUs"
   ]
  },
  {
   "cell_type": "code",
   "execution_count": 112,
   "id": "c9e50246",
   "metadata": {},
   "outputs": [
    {
     "data": {
      "text/plain": [
       "array([ 1,  2,  3,  4,  5,  6,  7,  8,  9, 10, 11, 12, 13, 14, 15, 16, 17,\n",
       "       18, 19, 20, 21, 22, 23, 24], dtype=int16)"
      ]
     },
     "execution_count": 112,
     "metadata": {},
     "output_type": "execute_result"
    }
   ],
   "source": [
    "import numpy as np\n",
    "\n",
    "numpy_arr = np.arange(1,25, dtype=np.int16)\n",
    "numpy_arr"
   ]
  },
  {
   "cell_type": "code",
   "execution_count": 127,
   "id": "9d0c3f33",
   "metadata": {},
   "outputs": [
    {
     "data": {
      "text/plain": [
       "<tf.Tensor: shape=(6, 4), dtype=int16, numpy=\n",
       "array([[ 1,  2,  3,  4],\n",
       "       [ 5,  6,  7,  8],\n",
       "       [ 9, 10, 11, 12],\n",
       "       [13, 14, 15, 16],\n",
       "       [17, 18, 19, 20],\n",
       "       [21, 22, 23, 24]], dtype=int16)>"
      ]
     },
     "execution_count": 127,
     "metadata": {},
     "output_type": "execute_result"
    }
   ],
   "source": [
    "tf.constant(numpy_arr, shape=(6,4)) #we can choose to reshape the tensor by passing the shape parameter"
   ]
  },
  {
   "cell_type": "code",
   "execution_count": 125,
   "id": "5eef8a36",
   "metadata": {},
   "outputs": [
    {
     "data": {
      "text/plain": [
       "24"
      ]
     },
     "execution_count": 125,
     "metadata": {},
     "output_type": "execute_result"
    }
   ],
   "source": [
    "6*4"
   ]
  },
  {
   "cell_type": "markdown",
   "id": "186ec085",
   "metadata": {},
   "source": [
    "## Getting Tensor Information\n",
    "Tensors have the following attributes:\n",
    "* Shape\n",
    "* Rank\n",
    "* Axis/Dimension\n",
    "* Size"
   ]
  },
  {
   "cell_type": "code",
   "execution_count": 129,
   "id": "b0be9426",
   "metadata": {
    "scrolled": false
   },
   "outputs": [
    {
     "data": {
      "text/plain": [
       "<tf.Tensor: shape=(2, 3, 4, 5), dtype=float32, numpy=\n",
       "array([[[[0., 0., 0., 0., 0.],\n",
       "         [0., 0., 0., 0., 0.],\n",
       "         [0., 0., 0., 0., 0.],\n",
       "         [0., 0., 0., 0., 0.]],\n",
       "\n",
       "        [[0., 0., 0., 0., 0.],\n",
       "         [0., 0., 0., 0., 0.],\n",
       "         [0., 0., 0., 0., 0.],\n",
       "         [0., 0., 0., 0., 0.]],\n",
       "\n",
       "        [[0., 0., 0., 0., 0.],\n",
       "         [0., 0., 0., 0., 0.],\n",
       "         [0., 0., 0., 0., 0.],\n",
       "         [0., 0., 0., 0., 0.]]],\n",
       "\n",
       "\n",
       "       [[[0., 0., 0., 0., 0.],\n",
       "         [0., 0., 0., 0., 0.],\n",
       "         [0., 0., 0., 0., 0.],\n",
       "         [0., 0., 0., 0., 0.]],\n",
       "\n",
       "        [[0., 0., 0., 0., 0.],\n",
       "         [0., 0., 0., 0., 0.],\n",
       "         [0., 0., 0., 0., 0.],\n",
       "         [0., 0., 0., 0., 0.]],\n",
       "\n",
       "        [[0., 0., 0., 0., 0.],\n",
       "         [0., 0., 0., 0., 0.],\n",
       "         [0., 0., 0., 0., 0.],\n",
       "         [0., 0., 0., 0., 0.]]]], dtype=float32)>"
      ]
     },
     "execution_count": 129,
     "metadata": {},
     "output_type": "execute_result"
    }
   ],
   "source": [
    "# Create a 4 rank tensor (4 Dimensions)\n",
    "tensor_rank = tf.zeros((2,3,4,5))\n",
    "tensor_rank"
   ]
  },
  {
   "cell_type": "code",
   "execution_count": 130,
   "id": "3bf43e02",
   "metadata": {},
   "outputs": [
    {
     "data": {
      "text/plain": [
       "<tf.Tensor: shape=(3, 4, 5), dtype=float32, numpy=\n",
       "array([[[0., 0., 0., 0., 0.],\n",
       "        [0., 0., 0., 0., 0.],\n",
       "        [0., 0., 0., 0., 0.],\n",
       "        [0., 0., 0., 0., 0.]],\n",
       "\n",
       "       [[0., 0., 0., 0., 0.],\n",
       "        [0., 0., 0., 0., 0.],\n",
       "        [0., 0., 0., 0., 0.],\n",
       "        [0., 0., 0., 0., 0.]],\n",
       "\n",
       "       [[0., 0., 0., 0., 0.],\n",
       "        [0., 0., 0., 0., 0.],\n",
       "        [0., 0., 0., 0., 0.],\n",
       "        [0., 0., 0., 0., 0.]]], dtype=float32)>"
      ]
     },
     "execution_count": 130,
     "metadata": {},
     "output_type": "execute_result"
    }
   ],
   "source": [
    "tensor_rank[0]"
   ]
  },
  {
   "cell_type": "code",
   "execution_count": 132,
   "id": "6d90bf4c",
   "metadata": {},
   "outputs": [
    {
     "data": {
      "text/plain": [
       "(TensorShape([2, 3, 4, 5]), 4, <tf.Tensor: shape=(), dtype=int32, numpy=120>)"
      ]
     },
     "execution_count": 132,
     "metadata": {},
     "output_type": "execute_result"
    }
   ],
   "source": [
    "tensor_rank.shape, tensor_rank.ndim, tf.size(tensor_rank)"
   ]
  },
  {
   "cell_type": "markdown",
   "id": "344f09c8",
   "metadata": {},
   "source": [
    "## Indexing Tensors\n",
    "🔩 Get the first 2 elements in each tensor"
   ]
  },
  {
   "cell_type": "code",
   "execution_count": 149,
   "id": "afaf57ba",
   "metadata": {},
   "outputs": [
    {
     "data": {
      "text/plain": [
       "<tf.Tensor: shape=(2, 3, 1, 2), dtype=float32, numpy=\n",
       "array([[[[0., 0.]],\n",
       "\n",
       "        [[0., 0.]],\n",
       "\n",
       "        [[0., 0.]]],\n",
       "\n",
       "\n",
       "       [[[0., 0.]],\n",
       "\n",
       "        [[0., 0.]],\n",
       "\n",
       "        [[0., 0.]]]], dtype=float32)>"
      ]
     },
     "execution_count": 149,
     "metadata": {},
     "output_type": "execute_result"
    }
   ],
   "source": [
    "tensor_rank[:2,:,:1,:2]"
   ]
  },
  {
   "cell_type": "code",
   "execution_count": 142,
   "id": "63fc84d9",
   "metadata": {},
   "outputs": [
    {
     "data": {
      "text/plain": [
       "<tf.Tensor: shape=(2, 3), dtype=int32, numpy=\n",
       "array([[1, 2, 3],\n",
       "       [4, 5, 6]], dtype=int32)>"
      ]
     },
     "execution_count": 142,
     "metadata": {},
     "output_type": "execute_result"
    }
   ],
   "source": [
    "# Add an extra dimension to a tensor\n",
    "tensor = tf.constant([[1,2,3],\n",
    "                     [4,5,6]])\n",
    "tensor"
   ]
  },
  {
   "cell_type": "code",
   "execution_count": 147,
   "id": "1c42c346",
   "metadata": {},
   "outputs": [
    {
     "data": {
      "text/plain": [
       "<tf.Tensor: shape=(2, 3, 1), dtype=int32, numpy=\n",
       "array([[[1],\n",
       "        [2],\n",
       "        [3]],\n",
       "\n",
       "       [[4],\n",
       "        [5],\n",
       "        [6]]], dtype=int32)>"
      ]
     },
     "execution_count": 147,
     "metadata": {},
     "output_type": "execute_result"
    }
   ],
   "source": [
    "tensor[..., tf.newaxis]"
   ]
  },
  {
   "cell_type": "code",
   "execution_count": 159,
   "id": "4fd08ccf",
   "metadata": {},
   "outputs": [
    {
     "data": {
      "text/plain": [
       "<tf.Tensor: shape=(2, 3, 1), dtype=int32, numpy=\n",
       "array([[[1],\n",
       "        [2],\n",
       "        [3]],\n",
       "\n",
       "       [[4],\n",
       "        [5],\n",
       "        [6]]], dtype=int32)>"
      ]
     },
     "execution_count": 159,
     "metadata": {},
     "output_type": "execute_result"
    }
   ],
   "source": [
    "# Alternative to tf.newaxis is tf.expand_dims()\n",
    "tf.expand_dims(tensor, axis=-1) # -1 means expand by the last dimension which in this case is 3, so after 3 add a new dimension"
   ]
  },
  {
   "cell_type": "markdown",
   "id": "c3e2a19f",
   "metadata": {},
   "source": [
    "## Change the Dtype of a tensor"
   ]
  },
  {
   "cell_type": "code",
   "execution_count": 162,
   "id": "ce0de2ac",
   "metadata": {},
   "outputs": [
    {
     "data": {
      "text/plain": [
       "<tf.Tensor: shape=(2, 3), dtype=int32, numpy=\n",
       "array([[1, 2, 3],\n",
       "       [4, 5, 6]], dtype=int32)>"
      ]
     },
     "execution_count": 162,
     "metadata": {},
     "output_type": "execute_result"
    }
   ],
   "source": [
    "tensor"
   ]
  },
  {
   "cell_type": "code",
   "execution_count": 160,
   "id": "1ca37bc1",
   "metadata": {},
   "outputs": [
    {
     "data": {
      "text/plain": [
       "<tf.Tensor: shape=(2, 3), dtype=float16, numpy=\n",
       "array([[1., 2., 3.],\n",
       "       [4., 5., 6.]], dtype=float16)>"
      ]
     },
     "execution_count": 160,
     "metadata": {},
     "output_type": "execute_result"
    }
   ],
   "source": [
    "tf.cast(tensor, tf.float16)"
   ]
  },
  {
   "cell_type": "markdown",
   "id": "038e6756",
   "metadata": {},
   "source": [
    "## Aggregating Tensors"
   ]
  },
  {
   "cell_type": "code",
   "execution_count": 165,
   "id": "2d727e2f",
   "metadata": {},
   "outputs": [
    {
     "data": {
      "text/plain": [
       "<tf.Tensor: shape=(5,), dtype=int32, numpy=array([1, 4, 5, 6, 8], dtype=int32)>"
      ]
     },
     "execution_count": 165,
     "metadata": {},
     "output_type": "execute_result"
    }
   ],
   "source": [
    "tensor = tf.constant([-1,-4,5,6,-8,])\n",
    "tf.abs(tensor) # This turns all negative values to positive"
   ]
  },
  {
   "cell_type": "code",
   "execution_count": 168,
   "id": "03f1df95",
   "metadata": {},
   "outputs": [
    {
     "data": {
      "text/plain": [
       "-8"
      ]
     },
     "execution_count": 168,
     "metadata": {},
     "output_type": "execute_result"
    }
   ],
   "source": [
    "# Find the min of a tensor\n",
    "tf.reduce_min(tensor).numpy()"
   ]
  },
  {
   "cell_type": "code",
   "execution_count": 169,
   "id": "6dee7b51",
   "metadata": {},
   "outputs": [
    {
     "data": {
      "text/plain": [
       "6"
      ]
     },
     "execution_count": 169,
     "metadata": {},
     "output_type": "execute_result"
    }
   ],
   "source": [
    "# find the max of tensor\n",
    "tf.reduce_max(tensor).numpy()"
   ]
  },
  {
   "cell_type": "code",
   "execution_count": 172,
   "id": "beb53583",
   "metadata": {},
   "outputs": [
    {
     "data": {
      "text/plain": [
       "0"
      ]
     },
     "execution_count": 172,
     "metadata": {},
     "output_type": "execute_result"
    }
   ],
   "source": [
    "# Find the mean of a tensor\n",
    "tf.reduce_mean(tensor).numpy()"
   ]
  },
  {
   "cell_type": "code",
   "execution_count": 173,
   "id": "789d4a09",
   "metadata": {},
   "outputs": [
    {
     "data": {
      "text/plain": [
       "-2"
      ]
     },
     "execution_count": 173,
     "metadata": {},
     "output_type": "execute_result"
    }
   ],
   "source": [
    "# find the sum of a tensor\n",
    "tf.reduce_sum(tensor).numpy()"
   ]
  },
  {
   "cell_type": "code",
   "execution_count": 188,
   "id": "7f65697f",
   "metadata": {},
   "outputs": [
    {
     "data": {
      "text/plain": [
       "<tf.Tensor: shape=(), dtype=float32, numpy=28.24>"
      ]
     },
     "execution_count": 188,
     "metadata": {},
     "output_type": "execute_result"
    }
   ],
   "source": [
    "# find the variance of a tensor\n",
    "tf.math.reduce_variance(tf.cast(tensor, tf.float32))"
   ]
  },
  {
   "cell_type": "code",
   "execution_count": 184,
   "id": "50147894",
   "metadata": {},
   "outputs": [
    {
     "data": {
      "text/plain": [
       "<tf.Tensor: shape=(), dtype=float16, numpy=5.312>"
      ]
     },
     "execution_count": 184,
     "metadata": {},
     "output_type": "execute_result"
    }
   ],
   "source": [
    "# find the stadard deviation of a tensor\n",
    "tf.math.reduce_std(tf.cast(tensor, tf.float16))"
   ]
  },
  {
   "cell_type": "markdown",
   "id": "ce4f517f",
   "metadata": {},
   "source": [
    "## Find positional minimum and maximum"
   ]
  },
  {
   "cell_type": "code",
   "execution_count": 189,
   "id": "e39ae1ab",
   "metadata": {},
   "outputs": [],
   "source": [
    "tensor = tf.random.uniform([50])"
   ]
  },
  {
   "cell_type": "code",
   "execution_count": 190,
   "id": "a48bc792",
   "metadata": {},
   "outputs": [
    {
     "data": {
      "text/plain": [
       "<tf.Tensor: shape=(50,), dtype=float32, numpy=\n",
       "array([0.5554141 , 0.22129297, 0.8649249 , 0.77728355, 0.6451167 ,\n",
       "       0.53036225, 0.01444101, 0.87350917, 0.4697218 , 0.38672888,\n",
       "       0.88615394, 0.6367892 , 0.00187671, 0.8577635 , 0.1078794 ,\n",
       "       0.96006143, 0.21138084, 0.6625186 , 0.12099075, 0.14918971,\n",
       "       0.9871228 , 0.8446301 , 0.06265104, 0.6570767 , 0.46151686,\n",
       "       0.9836309 , 0.8899983 , 0.76602376, 0.75097287, 0.2961111 ,\n",
       "       0.45900202, 0.6787349 , 0.25667095, 0.6584588 , 0.78408873,\n",
       "       0.98857284, 0.21614432, 0.01757312, 0.49910355, 0.09775543,\n",
       "       0.9687592 , 0.85669684, 0.85790884, 0.47216988, 0.52431476,\n",
       "       0.6876439 , 0.58496094, 0.72447526, 0.0526253 , 0.23365176],\n",
       "      dtype=float32)>"
      ]
     },
     "execution_count": 190,
     "metadata": {},
     "output_type": "execute_result"
    }
   ],
   "source": [
    "tensor"
   ]
  },
  {
   "cell_type": "code",
   "execution_count": 192,
   "id": "2f864315",
   "metadata": {},
   "outputs": [
    {
     "data": {
      "text/plain": [
       "35"
      ]
     },
     "execution_count": 192,
     "metadata": {},
     "output_type": "execute_result"
    }
   ],
   "source": [
    "tf.argmax(tensor).numpy() # Find the maximum "
   ]
  },
  {
   "cell_type": "code",
   "execution_count": 194,
   "id": "3b801656",
   "metadata": {},
   "outputs": [
    {
     "data": {
      "text/plain": [
       "0.98857284"
      ]
     },
     "execution_count": 194,
     "metadata": {},
     "output_type": "execute_result"
    }
   ],
   "source": [
    "tensor[tf.argmax(tensor)].numpy()"
   ]
  },
  {
   "cell_type": "code",
   "execution_count": 196,
   "id": "1ed152c0",
   "metadata": {},
   "outputs": [
    {
     "data": {
      "text/plain": [
       "<tf.Tensor: shape=(), dtype=bool, numpy=True>"
      ]
     },
     "execution_count": 196,
     "metadata": {},
     "output_type": "execute_result"
    }
   ],
   "source": [
    "tensor[tf.argmax(tensor)] == tf.reduce_max(tensor)"
   ]
  },
  {
   "cell_type": "code",
   "execution_count": 198,
   "id": "b49a542c",
   "metadata": {},
   "outputs": [
    {
     "data": {
      "text/plain": [
       "12"
      ]
     },
     "execution_count": 198,
     "metadata": {},
     "output_type": "execute_result"
    }
   ],
   "source": [
    "# find the minimum\n",
    "tf.argmin(tensor).numpy()"
   ]
  },
  {
   "cell_type": "code",
   "execution_count": 200,
   "id": "c89c6f66",
   "metadata": {},
   "outputs": [
    {
     "data": {
      "text/plain": [
       "0.0018767118"
      ]
     },
     "execution_count": 200,
     "metadata": {},
     "output_type": "execute_result"
    }
   ],
   "source": [
    "tensor[tf.argmin(tensor)].numpy()"
   ]
  },
  {
   "cell_type": "markdown",
   "id": "e9d4e95a",
   "metadata": {},
   "source": [
    "## Squeezing a tensor\n",
    "Remove all single dimensions"
   ]
  },
  {
   "cell_type": "code",
   "execution_count": 211,
   "id": "4b80f8d8",
   "metadata": {},
   "outputs": [
    {
     "data": {
      "text/plain": [
       "<tf.Tensor: shape=(5, 4, 1), dtype=float32, numpy=\n",
       "array([[[-0.7565803 ],\n",
       "        [-0.06854702],\n",
       "        [ 0.07595026],\n",
       "        [-1.2573844 ]],\n",
       "\n",
       "       [[-0.23193763],\n",
       "        [-1.8107855 ],\n",
       "        [ 0.09988727],\n",
       "        [-0.50998646]],\n",
       "\n",
       "       [[-0.7535805 ],\n",
       "        [-0.57166284],\n",
       "        [ 0.1480774 ],\n",
       "        [-0.23362993]],\n",
       "\n",
       "       [[-0.3522796 ],\n",
       "        [ 0.40621263],\n",
       "        [-1.0523509 ],\n",
       "        [ 1.2054597 ]],\n",
       "\n",
       "       [[ 1.6874489 ],\n",
       "        [-0.4462975 ],\n",
       "        [-2.3410842 ],\n",
       "        [ 0.99009085]]], dtype=float32)>"
      ]
     },
     "execution_count": 211,
     "metadata": {},
     "output_type": "execute_result"
    }
   ],
   "source": [
    "tensor = tf.random.Generator.from_seed(42)\n",
    "tensor = tensor.normal((5,4))\n",
    "tensor = tensor[..., tf.newaxis]\n",
    "tensor"
   ]
  },
  {
   "cell_type": "code",
   "execution_count": 212,
   "id": "a95e88e3",
   "metadata": {
    "scrolled": true
   },
   "outputs": [
    {
     "data": {
      "text/plain": [
       "<tf.Tensor: shape=(5, 4), dtype=float32, numpy=\n",
       "array([[-0.7565803 , -0.06854702,  0.07595026, -1.2573844 ],\n",
       "       [-0.23193763, -1.8107855 ,  0.09988727, -0.50998646],\n",
       "       [-0.7535805 , -0.57166284,  0.1480774 , -0.23362993],\n",
       "       [-0.3522796 ,  0.40621263, -1.0523509 ,  1.2054597 ],\n",
       "       [ 1.6874489 , -0.4462975 , -2.3410842 ,  0.99009085]],\n",
       "      dtype=float32)>"
      ]
     },
     "execution_count": 212,
     "metadata": {},
     "output_type": "execute_result"
    }
   ],
   "source": [
    "tf.squeeze(tensor)"
   ]
  },
  {
   "cell_type": "markdown",
   "id": "2ffd2392",
   "metadata": {},
   "source": [
    "## One hot encode Tensors"
   ]
  },
  {
   "cell_type": "code",
   "execution_count": 219,
   "id": "ab4c42c5",
   "metadata": {},
   "outputs": [
    {
     "data": {
      "text/plain": [
       "<tf.Tensor: shape=(3, 3), dtype=float32, numpy=\n",
       "array([[0., 1., 0.],\n",
       "       [0., 0., 1.],\n",
       "       [0., 0., 0.]], dtype=float32)>"
      ]
     },
     "execution_count": 219,
     "metadata": {},
     "output_type": "execute_result"
    }
   ],
   "source": [
    "new_list = [1,2,3]\n",
    "tf.one_hot(new_list, depth=3)"
   ]
  },
  {
   "cell_type": "code",
   "execution_count": 222,
   "id": "a0d41ec5",
   "metadata": {},
   "outputs": [
    {
     "data": {
      "text/plain": [
       "<tf.Tensor: shape=(3, 3), dtype=string, numpy=\n",
       "array([[b'You', b'Me', b'You'],\n",
       "       [b'You', b'You', b'Me'],\n",
       "       [b'You', b'You', b'You']], dtype=object)>"
      ]
     },
     "execution_count": 222,
     "metadata": {},
     "output_type": "execute_result"
    }
   ],
   "source": [
    "# we can also provide custom values\n",
    "tf.one_hot(new_list, depth=3, on_value='Me', off_value='You')"
   ]
  },
  {
   "cell_type": "markdown",
   "id": "9e433446",
   "metadata": {},
   "source": [
    "## find access to GPUs "
   ]
  },
  {
   "cell_type": "code",
   "execution_count": 227,
   "id": "77b2be0a",
   "metadata": {},
   "outputs": [
    {
     "data": {
      "text/plain": [
       "PhysicalDevice(name='/physical_device:CPU:0', device_type='CPU')"
      ]
     },
     "execution_count": 227,
     "metadata": {},
     "output_type": "execute_result"
    }
   ],
   "source": [
    "tf.config.list_physical_devices('CPU')"
   ]
  },
  {
   "cell_type": "code",
   "execution_count": 224,
   "id": "1823752f",
   "metadata": {},
   "outputs": [
    {
     "data": {
      "text/plain": [
       "[]"
      ]
     },
     "execution_count": 224,
     "metadata": {},
     "output_type": "execute_result"
    }
   ],
   "source": [
    "tf.config.list_physical_devices('GPU')"
   ]
  },
  {
   "cell_type": "code",
   "execution_count": 231,
   "id": "cc080fd1",
   "metadata": {},
   "outputs": [
    {
     "name": "stdout",
     "output_type": "stream",
     "text": [
      "zsh:1: command not found: nvidia-smi\r\n"
     ]
    }
   ],
   "source": [
    "!nvidia-smi"
   ]
  },
  {
   "cell_type": "code",
   "execution_count": null,
   "id": "403b7540",
   "metadata": {},
   "outputs": [],
   "source": []
  },
  {
   "cell_type": "code",
   "execution_count": null,
   "id": "4a700ef1",
   "metadata": {},
   "outputs": [],
   "source": []
  },
  {
   "cell_type": "code",
   "execution_count": null,
   "id": "069f9f1a",
   "metadata": {},
   "outputs": [],
   "source": []
  },
  {
   "cell_type": "markdown",
   "id": "8723977b",
   "metadata": {},
   "source": [
    "# Regression model in Tensorflow"
   ]
  },
  {
   "cell_type": "markdown",
   "id": "8cddf9bf",
   "metadata": {},
   "source": [
    "**Steps in Tensorflow Modelling:**\n",
    "* Create the model architecture or use pretrained ones\n",
    "* Compile the model\n",
    "* Fit the model\n",
    "* Evaluate the model"
   ]
  },
  {
   "cell_type": "code",
   "execution_count": 236,
   "id": "e20c4d71",
   "metadata": {},
   "outputs": [],
   "source": [
    "import numpy as np\n",
    "import matplotlib.pyplot as plt"
   ]
  },
  {
   "cell_type": "code",
   "execution_count": 250,
   "id": "d094de5b",
   "metadata": {},
   "outputs": [
    {
     "data": {
      "image/png": "[encoded data removed]",
      "text/plain": [
       "<Figure size 432x288 with 1 Axes>"
      ]
     },
     "metadata": {
      "needs_background": "light"
     },
     "output_type": "display_data"
    }
   ],
   "source": [
    "X = np.array([-7.0,-4.0,-1.0,2.0,5.0,8.0,11.0,14.0])\n",
    "y = np.array([3.0, 6.0, 9.0,12.0, 15.0,18.0, 21.0, 24.0])\n",
    "plt.scatter(X,y);"
   ]
  },
  {
   "cell_type": "code",
   "execution_count": 251,
   "id": "2c626cfa",
   "metadata": {},
   "outputs": [
    {
     "data": {
      "text/plain": [
       "array([ True,  True,  True,  True,  True,  True,  True,  True])"
      ]
     },
     "execution_count": 251,
     "metadata": {},
     "output_type": "execute_result"
    }
   ],
   "source": [
    "y == X+10"
   ]
  },
  {
   "cell_type": "code",
   "execution_count": 266,
   "id": "9de49e94",
   "metadata": {},
   "outputs": [
    {
     "data": {
      "text/plain": [
       "(<tf.Tensor: shape=(8,), dtype=float64, numpy=array([-7., -4., -1.,  2.,  5.,  8., 11., 14.])>,\n",
       " <tf.Tensor: shape=(8,), dtype=float64, numpy=array([ 3.,  6.,  9., 12., 15., 18., 21., 24.])>)"
      ]
     },
     "execution_count": 266,
     "metadata": {},
     "output_type": "execute_result"
    }
   ],
   "source": [
    "X = np.array([-7.0,-4.0,-1.0,2.0,5.0,8.0,11.0,14.0])\n",
    "y = np.array([3.0, 6.0, 9.0,12.0, 15.0,18.0, 21.0, 24.0])\n",
    "\n",
    "# Convert the inputs to tensors\n",
    "X = tf.constant(X)\n",
    "y = tf.constant(y)\n",
    "X,y"
   ]
  },
  {
   "cell_type": "markdown",
   "id": "62ee0495",
   "metadata": {},
   "source": [
    "### Create our model"
   ]
  },
  {
   "cell_type": "code",
   "execution_count": 268,
   "id": "9c44b5f0",
   "metadata": {},
   "outputs": [
    {
     "name": "stdout",
     "output_type": "stream",
     "text": [
      "Epoch 1/5\n",
      "1/1 [==============================] - 0s 232ms/step - loss: 11.5048 - mae: 11.5048\n",
      "Epoch 2/5\n",
      "1/1 [==============================] - 0s 3ms/step - loss: 11.3723 - mae: 11.3723\n",
      "Epoch 3/5\n",
      "1/1 [==============================] - 0s 3ms/step - loss: 11.2398 - mae: 11.2398\n",
      "Epoch 4/5\n",
      "1/1 [==============================] - 0s 2ms/step - loss: 11.1073 - mae: 11.1073\n",
      "Epoch 5/5\n",
      "1/1 [==============================] - 0s 2ms/step - loss: 10.9748 - mae: 10.9748\n"
     ]
    },
    {
     "data": {
      "text/plain": [
       "<keras.callbacks.History at 0x7fec35f3bee0>"
      ]
     },
     "execution_count": 268,
     "metadata": {},
     "output_type": "execute_result"
    }
   ],
   "source": [
    "tf.random.set_seed(42)\n",
    "model = tf.keras.Sequential([\n",
    "    tf.keras.layers.Dense(1),\n",
    "])\n",
    "\n",
    "model.compile(loss=tf.keras.losses.mae,\n",
    "              optimizer=tf.keras.optimizers.SGD(),\n",
    "              metrics=['mae'])\n",
    "\n",
    "model.fit(tf.expand_dims(X,axis=1),tf.expand_dims(y, axis=1), epochs=5)"
   ]
  },
  {
   "cell_type": "code",
   "execution_count": 271,
   "id": "d6c83d75",
   "metadata": {},
   "outputs": [
    {
     "data": {
      "text/plain": [
       "(<tf.Tensor: shape=(8,), dtype=float64, numpy=array([-7., -4., -1.,  2.,  5.,  8., 11., 14.])>,\n",
       " <tf.Tensor: shape=(8,), dtype=float64, numpy=array([ 3.,  6.,  9., 12., 15., 18., 21., 24.])>)"
      ]
     },
     "execution_count": 271,
     "metadata": {},
     "output_type": "execute_result"
    }
   ],
   "source": [
    "X,y"
   ]
  },
  {
   "cell_type": "code",
   "execution_count": 273,
   "id": "ae5ff5f4",
   "metadata": {},
   "outputs": [
    {
     "data": {
      "text/plain": [
       "array([[12.716021]], dtype=float32)"
      ]
     },
     "execution_count": 273,
     "metadata": {},
     "output_type": "execute_result"
    }
   ],
   "source": [
    "model.predict([17.0])"
   ]
  },
  {
   "cell_type": "markdown",
   "id": "b063c3f5",
   "metadata": {},
   "source": [
    "Our model didn't quite give us the expected prediction `27`\n",
    "\n",
    "## Improving A Model\n",
    "From a model perspective\n",
    "* Add more layers\n",
    "* Increase the number of hidden units (neurons)\n",
    "* Change the activation function\n",
    "* Change the optmization function\n",
    "* Train for longer"
   ]
  },
  {
   "cell_type": "code",
   "execution_count": 275,
   "id": "d752b01d",
   "metadata": {},
   "outputs": [],
   "source": [
    "X = tf.constant(X[..., np.newaxis])\n",
    "y = tf.constant(y[..., np.newaxis])"
   ]
  },
  {
   "cell_type": "code",
   "execution_count": 359,
   "id": "34d8e8ee",
   "metadata": {
    "scrolled": false
   },
   "outputs": [
    {
     "name": "stdout",
     "output_type": "stream",
     "text": [
      "Epoch 1/100\n",
      "1/1 [==============================] - 0s 316ms/step - loss: 12.9122 - mae: 12.9122\n",
      "Epoch 2/100\n",
      "1/1 [==============================] - 0s 3ms/step - loss: 9.7353 - mae: 9.7353\n",
      "Epoch 3/100\n",
      "1/1 [==============================] - 0s 3ms/step - loss: 7.3123 - mae: 7.3123\n",
      "Epoch 4/100\n",
      "1/1 [==============================] - 0s 2ms/step - loss: 4.6807 - mae: 4.6807\n",
      "Epoch 5/100\n",
      "1/1 [==============================] - 0s 3ms/step - loss: 4.3019 - mae: 4.3019\n",
      "Epoch 6/100\n",
      "1/1 [==============================] - 0s 3ms/step - loss: 5.3537 - mae: 5.3537\n",
      "Epoch 7/100\n",
      "1/1 [==============================] - 0s 3ms/step - loss: 5.6058 - mae: 5.6058\n",
      "Epoch 8/100\n",
      "1/1 [==============================] - 0s 3ms/step - loss: 5.3945 - mae: 5.3945\n",
      "Epoch 9/100\n",
      "1/1 [==============================] - 0s 2ms/step - loss: 4.8005 - mae: 4.8005\n",
      "Epoch 10/100\n",
      "1/1 [==============================] - 0s 5ms/step - loss: 4.0464 - mae: 4.0464\n",
      "Epoch 11/100\n",
      "1/1 [==============================] - 0s 3ms/step - loss: 3.7462 - mae: 3.7462\n",
      "Epoch 12/100\n",
      "1/1 [==============================] - 0s 3ms/step - loss: 3.8815 - mae: 3.8815\n",
      "Epoch 13/100\n",
      "1/1 [==============================] - 0s 3ms/step - loss: 4.1786 - mae: 4.1786\n",
      "Epoch 14/100\n",
      "1/1 [==============================] - 0s 2ms/step - loss: 4.2172 - mae: 4.2172\n",
      "Epoch 15/100\n",
      "1/1 [==============================] - 0s 3ms/step - loss: 3.8023 - mae: 3.8023\n",
      "Epoch 16/100\n",
      "1/1 [==============================] - 0s 3ms/step - loss: 3.4547 - mae: 3.4547\n",
      "Epoch 17/100\n",
      "1/1 [==============================] - 0s 3ms/step - loss: 3.4928 - mae: 3.4928\n",
      "Epoch 18/100\n",
      "1/1 [==============================] - 0s 3ms/step - loss: 3.6179 - mae: 3.6179\n",
      "Epoch 19/100\n",
      "1/1 [==============================] - 0s 3ms/step - loss: 3.7020 - mae: 3.7020\n",
      "Epoch 20/100\n",
      "1/1 [==============================] - 0s 2ms/step - loss: 3.5532 - mae: 3.5532\n",
      "Epoch 21/100\n",
      "1/1 [==============================] - 0s 4ms/step - loss: 3.2319 - mae: 3.2319\n",
      "Epoch 22/100\n",
      "1/1 [==============================] - 0s 3ms/step - loss: 2.9865 - mae: 2.9865\n",
      "Epoch 23/100\n",
      "1/1 [==============================] - 0s 3ms/step - loss: 2.7605 - mae: 2.7605\n",
      "Epoch 24/100\n",
      "1/1 [==============================] - 0s 4ms/step - loss: 2.4836 - mae: 2.4836\n",
      "Epoch 25/100\n",
      "1/1 [==============================] - 0s 3ms/step - loss: 2.4946 - mae: 2.4946\n",
      "Epoch 26/100\n",
      "1/1 [==============================] - 0s 3ms/step - loss: 2.2799 - mae: 2.2799\n",
      "Epoch 27/100\n",
      "1/1 [==============================] - 0s 2ms/step - loss: 1.8691 - mae: 1.8691\n",
      "Epoch 28/100\n",
      "1/1 [==============================] - 0s 3ms/step - loss: 1.8306 - mae: 1.8306\n",
      "Epoch 29/100\n",
      "1/1 [==============================] - 0s 2ms/step - loss: 1.6553 - mae: 1.6553\n",
      "Epoch 30/100\n",
      "1/1 [==============================] - 0s 3ms/step - loss: 1.1231 - mae: 1.1231\n",
      "Epoch 31/100\n",
      "1/1 [==============================] - 0s 3ms/step - loss: 0.7926 - mae: 0.7926\n",
      "Epoch 32/100\n",
      "1/1 [==============================] - 0s 3ms/step - loss: 0.4982 - mae: 0.4982\n",
      "Epoch 33/100\n",
      "1/1 [==============================] - 0s 2ms/step - loss: 1.1676 - mae: 1.1676\n",
      "Epoch 34/100\n",
      "1/1 [==============================] - 0s 2ms/step - loss: 0.9407 - mae: 0.9407\n",
      "Epoch 35/100\n",
      "1/1 [==============================] - 0s 3ms/step - loss: 0.8250 - mae: 0.8250\n",
      "Epoch 36/100\n",
      "1/1 [==============================] - 0s 3ms/step - loss: 1.1148 - mae: 1.1148\n",
      "Epoch 37/100\n",
      "1/1 [==============================] - 0s 3ms/step - loss: 0.5333 - mae: 0.5333\n",
      "Epoch 38/100\n",
      "1/1 [==============================] - 0s 3ms/step - loss: 1.3242 - mae: 1.3242\n",
      "Epoch 39/100\n",
      "1/1 [==============================] - 0s 3ms/step - loss: 1.3884 - mae: 1.3884\n",
      "Epoch 40/100\n",
      "1/1 [==============================] - 0s 3ms/step - loss: 0.5689 - mae: 0.5689\n",
      "Epoch 41/100\n",
      "1/1 [==============================] - 0s 4ms/step - loss: 1.1099 - mae: 1.1099\n",
      "Epoch 42/100\n",
      "1/1 [==============================] - 0s 3ms/step - loss: 1.6584 - mae: 1.6584\n",
      "Epoch 43/100\n",
      "1/1 [==============================] - 0s 3ms/step - loss: 1.4817 - mae: 1.4817\n",
      "Epoch 44/100\n",
      "1/1 [==============================] - 0s 3ms/step - loss: 0.7693 - mae: 0.7693\n",
      "Epoch 45/100\n",
      "1/1 [==============================] - 0s 3ms/step - loss: 0.7236 - mae: 0.7236\n",
      "Epoch 46/100\n",
      "1/1 [==============================] - 0s 3ms/step - loss: 1.1443 - mae: 1.1443\n",
      "Epoch 47/100\n",
      "1/1 [==============================] - 0s 3ms/step - loss: 0.8625 - mae: 0.8625\n",
      "Epoch 48/100\n",
      "1/1 [==============================] - 0s 3ms/step - loss: 0.4255 - mae: 0.4255\n",
      "Epoch 49/100\n",
      "1/1 [==============================] - 0s 5ms/step - loss: 0.9950 - mae: 0.9950\n",
      "Epoch 50/100\n",
      "1/1 [==============================] - 0s 7ms/step - loss: 1.1430 - mae: 1.1430\n",
      "Epoch 51/100\n",
      "1/1 [==============================] - 0s 4ms/step - loss: 0.7038 - mae: 0.7038\n",
      "Epoch 52/100\n",
      "1/1 [==============================] - 0s 4ms/step - loss: 0.5653 - mae: 0.5653\n",
      "Epoch 53/100\n",
      "1/1 [==============================] - 0s 5ms/step - loss: 0.8972 - mae: 0.8972\n",
      "Epoch 54/100\n",
      "1/1 [==============================] - 0s 7ms/step - loss: 0.7112 - mae: 0.7112\n",
      "Epoch 55/100\n",
      "1/1 [==============================] - 0s 5ms/step - loss: 0.2750 - mae: 0.2750\n",
      "Epoch 56/100\n",
      "1/1 [==============================] - 0s 5ms/step - loss: 0.7522 - mae: 0.7522\n",
      "Epoch 57/100\n",
      "1/1 [==============================] - 0s 5ms/step - loss: 0.8382 - mae: 0.8382\n",
      "Epoch 58/100\n",
      "1/1 [==============================] - 0s 7ms/step - loss: 0.3341 - mae: 0.3341\n",
      "Epoch 59/100\n",
      "1/1 [==============================] - 0s 10ms/step - loss: 0.8948 - mae: 0.8948\n",
      "Epoch 60/100\n",
      "1/1 [==============================] - 0s 3ms/step - loss: 1.2413 - mae: 1.2413\n",
      "Epoch 61/100\n",
      "1/1 [==============================] - 0s 4ms/step - loss: 0.8596 - mae: 0.8596\n",
      "Epoch 62/100\n",
      "1/1 [==============================] - 0s 3ms/step - loss: 0.4605 - mae: 0.4605\n",
      "Epoch 63/100\n",
      "1/1 [==============================] - 0s 4ms/step - loss: 0.6213 - mae: 0.6213\n",
      "Epoch 64/100\n",
      "1/1 [==============================] - 0s 4ms/step - loss: 0.4829 - mae: 0.4829\n",
      "Epoch 65/100\n",
      "1/1 [==============================] - 0s 3ms/step - loss: 0.4426 - mae: 0.4426\n",
      "Epoch 66/100\n",
      "1/1 [==============================] - 0s 4ms/step - loss: 0.4818 - mae: 0.4818\n",
      "Epoch 67/100\n",
      "1/1 [==============================] - 0s 4ms/step - loss: 0.2030 - mae: 0.2030\n",
      "Epoch 68/100\n",
      "1/1 [==============================] - 0s 3ms/step - loss: 0.3023 - mae: 0.3023\n",
      "Epoch 69/100\n",
      "1/1 [==============================] - 0s 2ms/step - loss: 0.1749 - mae: 0.1749\n",
      "Epoch 70/100\n",
      "1/1 [==============================] - 0s 5ms/step - loss: 0.4141 - mae: 0.4141\n",
      "Epoch 71/100\n",
      "1/1 [==============================] - 0s 7ms/step - loss: 0.1455 - mae: 0.1455\n",
      "Epoch 72/100\n",
      "1/1 [==============================] - 0s 5ms/step - loss: 0.3862 - mae: 0.3862\n",
      "Epoch 73/100\n",
      "1/1 [==============================] - 0s 4ms/step - loss: 0.2002 - mae: 0.2002\n",
      "Epoch 74/100\n",
      "1/1 [==============================] - 0s 4ms/step - loss: 0.6031 - mae: 0.6031\n",
      "Epoch 75/100\n",
      "1/1 [==============================] - 0s 3ms/step - loss: 0.7738 - mae: 0.7738\n",
      "Epoch 76/100\n",
      "1/1 [==============================] - 0s 3ms/step - loss: 0.3140 - mae: 0.3140\n",
      "Epoch 77/100\n",
      "1/1 [==============================] - 0s 4ms/step - loss: 0.7136 - mae: 0.7136\n",
      "Epoch 78/100\n",
      "1/1 [==============================] - 0s 7ms/step - loss: 1.0679 - mae: 1.0679\n",
      "Epoch 79/100\n",
      "1/1 [==============================] - 0s 5ms/step - loss: 0.8650 - mae: 0.8650\n",
      "Epoch 80/100\n",
      "1/1 [==============================] - 0s 3ms/step - loss: 0.2874 - mae: 0.2874\n",
      "Epoch 81/100\n",
      "1/1 [==============================] - 0s 3ms/step - loss: 0.8437 - mae: 0.8437\n",
      "Epoch 82/100\n",
      "1/1 [==============================] - 0s 4ms/step - loss: 1.1842 - mae: 1.1842\n",
      "Epoch 83/100\n",
      "1/1 [==============================] - 0s 3ms/step - loss: 0.9027 - mae: 0.9027\n",
      "Epoch 84/100\n",
      "1/1 [==============================] - 0s 4ms/step - loss: 0.1221 - mae: 0.1221\n",
      "Epoch 85/100\n",
      "1/1 [==============================] - 0s 4ms/step - loss: 0.9339 - mae: 0.9339\n",
      "Epoch 86/100\n",
      "1/1 [==============================] - 0s 4ms/step - loss: 1.3577 - mae: 1.3577\n",
      "Epoch 87/100\n",
      "1/1 [==============================] - 0s 4ms/step - loss: 1.2979 - mae: 1.2979\n",
      "Epoch 88/100\n",
      "1/1 [==============================] - 0s 4ms/step - loss: 0.7886 - mae: 0.7886\n",
      "Epoch 89/100\n"
     ]
    },
    {
     "name": "stdout",
     "output_type": "stream",
     "text": [
      "1/1 [==============================] - 0s 3ms/step - loss: 0.2693 - mae: 0.2693\n",
      "Epoch 90/100\n",
      "1/1 [==============================] - 0s 3ms/step - loss: 0.5894 - mae: 0.5894\n",
      "Epoch 91/100\n",
      "1/1 [==============================] - 0s 4ms/step - loss: 0.5105 - mae: 0.5105\n",
      "Epoch 92/100\n",
      "1/1 [==============================] - 0s 3ms/step - loss: 0.3224 - mae: 0.3224\n",
      "Epoch 93/100\n",
      "1/1 [==============================] - 0s 4ms/step - loss: 0.5789 - mae: 0.5789\n",
      "Epoch 94/100\n",
      "1/1 [==============================] - 0s 3ms/step - loss: 0.4465 - mae: 0.4465\n",
      "Epoch 95/100\n",
      "1/1 [==============================] - 0s 4ms/step - loss: 0.3720 - mae: 0.3720\n",
      "Epoch 96/100\n",
      "1/1 [==============================] - 0s 3ms/step - loss: 0.4171 - mae: 0.4171\n",
      "Epoch 97/100\n",
      "1/1 [==============================] - 0s 7ms/step - loss: 0.1531 - mae: 0.1531\n",
      "Epoch 98/100\n",
      "1/1 [==============================] - 0s 2ms/step - loss: 0.2502 - mae: 0.2502\n",
      "Epoch 99/100\n",
      "1/1 [==============================] - 0s 3ms/step - loss: 0.3742 - mae: 0.3742\n",
      "Epoch 100/100\n",
      "1/1 [==============================] - 0s 3ms/step - loss: 0.2683 - mae: 0.2683\n"
     ]
    },
    {
     "data": {
      "text/plain": [
       "<keras.callbacks.History at 0x7fec3fc57e80>"
      ]
     },
     "execution_count": 359,
     "metadata": {},
     "output_type": "execute_result"
    }
   ],
   "source": [
    "new_model = tf.keras.Sequential([\n",
    "    tf.keras.layers.Dense(100, activation='relu'),\n",
    "    tf.keras.layers.Dense(100, activation='relu'),\n",
    "    tf.keras.layers.Dense(1)\n",
    "])\n",
    "\n",
    "new_model.compile(loss=tf.keras.losses.mae,\n",
    "                  optimizer=tf.keras.optimizers.Adam(lr=0.01),\n",
    "                  metrics=['mae'])\n",
    "\n",
    "new_model.fit(X,y, epochs=100)"
   ]
  },
  {
   "cell_type": "code",
   "execution_count": 360,
   "id": "36fda687",
   "metadata": {},
   "outputs": [
    {
     "data": {
      "text/plain": [
       "array([[27.210974]], dtype=float32)"
      ]
     },
     "execution_count": 360,
     "metadata": {},
     "output_type": "execute_result"
    }
   ],
   "source": [
    "new_model.predict([17.0])"
   ]
  },
  {
   "cell_type": "code",
   "execution_count": 355,
   "id": "215fd3d2",
   "metadata": {
    "scrolled": true
   },
   "outputs": [
    {
     "name": "stdout",
     "output_type": "stream",
     "text": [
      "Model: \"sequential_12\"\n",
      "_________________________________________________________________\n",
      " Layer (type)                Output Shape              Param #   \n",
      "=================================================================\n",
      " dense_12 (Dense)            (None, 1)                 2         \n",
      "                                                                 \n",
      "=================================================================\n",
      "Total params: 2\n",
      "Trainable params: 2\n",
      "Non-trainable params: 0\n",
      "_________________________________________________________________\n"
     ]
    }
   ],
   "source": [
    "model.summary()"
   ]
  },
  {
   "cell_type": "code",
   "execution_count": 361,
   "id": "56bf87ec",
   "metadata": {},
   "outputs": [
    {
     "name": "stdout",
     "output_type": "stream",
     "text": [
      "Model: \"sequential_24\"\n",
      "_________________________________________________________________\n",
      " Layer (type)                Output Shape              Param #   \n",
      "=================================================================\n",
      " dense_52 (Dense)            (None, 100)               200       \n",
      "                                                                 \n",
      " dense_53 (Dense)            (None, 100)               10100     \n",
      "                                                                 \n",
      " dense_54 (Dense)            (None, 1)                 101       \n",
      "                                                                 \n",
      "=================================================================\n",
      "Total params: 10,401\n",
      "Trainable params: 10,401\n",
      "Non-trainable params: 0\n",
      "_________________________________________________________________\n"
     ]
    }
   ],
   "source": [
    "new_model.summary()"
   ]
  },
  {
   "cell_type": "markdown",
   "id": "9bde39dd",
   "metadata": {},
   "source": [
    "## Modelling  and Evaluation"
   ]
  },
  {
   "cell_type": "code",
   "execution_count": 364,
   "id": "6661845d",
   "metadata": {},
   "outputs": [
    {
     "data": {
      "text/plain": [
       "<tf.Tensor: shape=(127,), dtype=int32, numpy=\n",
       "array([ -5,  -1,   3,   7,  11,  15,  19,  23,  27,  31,  35,  39,  43,\n",
       "        47,  51,  55,  59,  63,  67,  71,  75,  79,  83,  87,  91,  95,\n",
       "        99, 103, 107, 111, 115, 119, 123, 127, 131, 135, 139, 143, 147,\n",
       "       151, 155, 159, 163, 167, 171, 175, 179, 183, 187, 191, 195, 199,\n",
       "       203, 207, 211, 215, 219, 223, 227, 231, 235, 239, 243, 247, 251,\n",
       "       255, 259, 263, 267, 271, 275, 279, 283, 287, 291, 295, 299, 303,\n",
       "       307, 311, 315, 319, 323, 327, 331, 335, 339, 343, 347, 351, 355,\n",
       "       359, 363, 367, 371, 375, 379, 383, 387, 391, 395, 399, 403, 407,\n",
       "       411, 415, 419, 423, 427, 431, 435, 439, 443, 447, 451, 455, 459,\n",
       "       463, 467, 471, 475, 479, 483, 487, 491, 495, 499], dtype=int32)>"
      ]
     },
     "execution_count": 364,
     "metadata": {},
     "output_type": "execute_result"
    }
   ],
   "source": [
    "samples = tf.range(-5, 500,4)\n",
    "samples"
   ]
  },
  {
   "cell_type": "markdown",
   "id": "06a9f070",
   "metadata": {},
   "source": [
    "## Split our data into:\n",
    "**Train set:** Analogically the course materials to learn from in a school\n",
    "**Validation set:** Analogically the p"
   ]
  },
  {
   "cell_type": "code",
   "execution_count": null,
   "id": "417eb43a",
   "metadata": {},
   "outputs": [],
   "source": []
  }
 ],
 "metadata": {
  "kernelspec": {
   "display_name": "Python 3",
   "language": "python",
   "name": "python3"
  },
  "language_info": {
   "codemirror_mode": {
    "name": "ipython",
    "version": 3
   },
   "file_extension": ".py",
   "mimetype": "text/x-python",
   "name": "python",
   "nbconvert_exporter": "python",
   "pygments_lexer": "ipython3",
   "version": "3.8.8"
  }
 },
 "nbformat": 4,
 "nbformat_minor": 5
}
