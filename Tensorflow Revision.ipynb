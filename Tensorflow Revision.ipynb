{
 "cells": [
  {
   "cell_type": "markdown",
   "id": "d63e0dde",
   "metadata": {},
   "source": [
    "# Revision on Tensorflow"
   ]
  },
  {
   "cell_type": "code",
   "execution_count": 1,
   "id": "a14c3fec",
   "metadata": {},
   "outputs": [],
   "source": [
    "import tensorflow as tf"
   ]
  },
  {
   "cell_type": "markdown",
   "id": "986a774d",
   "metadata": {},
   "source": [
    "## Create a tensor using tf.constant()"
   ]
  },
  {
   "cell_type": "code",
   "execution_count": 2,
   "id": "62da1e99",
   "metadata": {},
   "outputs": [
    {
     "data": {
      "text/plain": [
       "<tf.Tensor: shape=(), dtype=int32, numpy=7>"
      ]
     },
     "execution_count": 2,
     "metadata": {},
     "output_type": "execute_result"
    }
   ],
   "source": [
    "# create a tensor\n",
    "scalar = tf.constant(7)\n",
    "scalar"
   ]
  },
  {
   "cell_type": "code",
   "execution_count": 5,
   "id": "67055f5d",
   "metadata": {},
   "outputs": [
    {
     "data": {
      "text/plain": [
       "0"
      ]
     },
     "execution_count": 5,
     "metadata": {},
     "output_type": "execute_result"
    }
   ],
   "source": [
    "scalar.ndim"
   ]
  },
  {
   "cell_type": "code",
   "execution_count": 6,
   "id": "42df228d",
   "metadata": {},
   "outputs": [
    {
     "data": {
      "text/plain": [
       "<tf.Tensor: shape=(2,), dtype=int32, numpy=array([10, 10], dtype=int32)>"
      ]
     },
     "execution_count": 6,
     "metadata": {},
     "output_type": "execute_result"
    }
   ],
   "source": [
    "# create a vector \n",
    "vector = tf.constant([10,10])\n",
    "vector"
   ]
  },
  {
   "cell_type": "code",
   "execution_count": 7,
   "id": "f3a5ca14",
   "metadata": {},
   "outputs": [
    {
     "data": {
      "text/plain": [
       "1"
      ]
     },
     "execution_count": 7,
     "metadata": {},
     "output_type": "execute_result"
    }
   ],
   "source": [
    "vector.ndim"
   ]
  },
  {
   "cell_type": "code",
   "execution_count": 8,
   "id": "de991c65",
   "metadata": {},
   "outputs": [
    {
     "data": {
      "text/plain": [
       "TensorShape([2])"
      ]
     },
     "execution_count": 8,
     "metadata": {},
     "output_type": "execute_result"
    }
   ],
   "source": [
    "vector.shape"
   ]
  },
  {
   "cell_type": "code",
   "execution_count": 9,
   "id": "23b05584",
   "metadata": {},
   "outputs": [
    {
     "data": {
      "text/plain": [
       "<tf.Tensor: shape=(2, 3), dtype=int32, numpy=\n",
       "array([[1, 2, 3],\n",
       "       [4, 5, 6]], dtype=int32)>"
      ]
     },
     "execution_count": 9,
     "metadata": {},
     "output_type": "execute_result"
    }
   ],
   "source": [
    "# create a matrix (a matrix has more than one dimension)\n",
    "matrix = tf.constant([[1,2,3],\n",
    "                      [4,5,6]])\n",
    "matrix"
   ]
  },
  {
   "cell_type": "code",
   "execution_count": 10,
   "id": "b0416aa9",
   "metadata": {},
   "outputs": [
    {
     "data": {
      "text/plain": [
       "2"
      ]
     },
     "execution_count": 10,
     "metadata": {},
     "output_type": "execute_result"
    }
   ],
   "source": [
    "matrix.ndim"
   ]
  },
  {
   "cell_type": "code",
   "execution_count": 11,
   "id": "dbe8bc56",
   "metadata": {},
   "outputs": [
    {
     "data": {
      "text/plain": [
       "TensorShape([2, 3])"
      ]
     },
     "execution_count": 11,
     "metadata": {},
     "output_type": "execute_result"
    }
   ],
   "source": [
    "matrix.shape"
   ]
  },
  {
   "cell_type": "code",
   "execution_count": 12,
   "id": "2d883da9",
   "metadata": {},
   "outputs": [
    {
     "data": {
      "text/plain": [
       "<tf.Tensor: shape=(2, 3), dtype=float16, numpy=\n",
       "array([[1., 2., 3.],\n",
       "       [4., 5., 6.]], dtype=float16)>"
      ]
     },
     "execution_count": 12,
     "metadata": {},
     "output_type": "execute_result"
    }
   ],
   "source": [
    "# create another matrix\n",
    "matrix2 = tf.constant([[1.,2.,3.],\n",
    "                       [4.,5.,6.]], dtype=tf.float16)\n",
    "matrix2"
   ]
  },
  {
   "cell_type": "markdown",
   "id": "a71dec64",
   "metadata": {},
   "source": [
    "## tf.Variable(...)"
   ]
  },
  {
   "cell_type": "code",
   "execution_count": 28,
   "id": "a5091ad9",
   "metadata": {},
   "outputs": [
    {
     "ename": "TypeError",
     "evalue": "'tensorflow.python.framework.ops.EagerTensor' object does not support item assignment",
     "output_type": "error",
     "traceback": [
      "\u001b[0;31m---------------------------------------------------------------------------\u001b[0m",
      "\u001b[0;31mTypeError\u001b[0m                                 Traceback (most recent call last)",
      "\u001b[0;32m<ipython-input-28-eca87e93670c>\u001b[0m in \u001b[0;36m<module>\u001b[0;34m\u001b[0m\n\u001b[0;32m----> 1\u001b[0;31m \u001b[0mmatrix2\u001b[0m\u001b[0;34m[\u001b[0m\u001b[0;36m0\u001b[0m\u001b[0;34m]\u001b[0m \u001b[0;34m=\u001b[0m \u001b[0;34m[\u001b[0m\u001b[0;36m2.\u001b[0m\u001b[0;34m,\u001b[0m\u001b[0;36m2.\u001b[0m\u001b[0;34m,\u001b[0m\u001b[0;36m2.\u001b[0m\u001b[0;34m]\u001b[0m\u001b[0;34m\u001b[0m\u001b[0;34m\u001b[0m\u001b[0m\n\u001b[0m",
      "\u001b[0;31mTypeError\u001b[0m: 'tensorflow.python.framework.ops.EagerTensor' object does not support item assignment"
     ]
    }
   ],
   "source": [
    "matrix2[0] = [2.,2.,2.]"
   ]
  },
  {
   "cell_type": "markdown",
   "id": "f737235d",
   "metadata": {},
   "source": [
    "It's very clear we can't manipulate a constant tensor, hence the advent of a `tf.Variable`"
   ]
  },
  {
   "cell_type": "code",
   "execution_count": 22,
   "id": "55429886",
   "metadata": {},
   "outputs": [
    {
     "data": {
      "text/plain": [
       "<tf.Variable 'Variable:0' shape=() dtype=int32, numpy=7>"
      ]
     },
     "execution_count": 22,
     "metadata": {},
     "output_type": "execute_result"
    }
   ],
   "source": [
    "_scalar_variable = tf.Variable(7)\n",
    "_scalar_variable"
   ]
  },
  {
   "cell_type": "code",
   "execution_count": 23,
   "id": "99f7c4fe",
   "metadata": {},
   "outputs": [
    {
     "data": {
      "text/plain": [
       "<tf.Variable 'Variable:0' shape=(3,) dtype=int32, numpy=array([1, 2, 3], dtype=int32)>"
      ]
     },
     "execution_count": 23,
     "metadata": {},
     "output_type": "execute_result"
    }
   ],
   "source": [
    "_vector_variable = tf.Variable([1,2,3])\n",
    "_vector_variable"
   ]
  },
  {
   "cell_type": "code",
   "execution_count": 24,
   "id": "4a7022d2",
   "metadata": {},
   "outputs": [
    {
     "data": {
      "text/plain": [
       "<tf.Variable 'Variable:0' shape=(3, 3) dtype=int32, numpy=\n",
       "array([[1, 2, 3],\n",
       "       [4, 5, 6],\n",
       "       [6, 7, 8]], dtype=int32)>"
      ]
     },
     "execution_count": 24,
     "metadata": {},
     "output_type": "execute_result"
    }
   ],
   "source": [
    "_matrix_variable = tf.Variable([[1,2,3],[4,5,6],[6,7,8]])\n",
    "_matrix_variable"
   ]
  },
  {
   "cell_type": "code",
   "execution_count": 32,
   "id": "09bf5d34",
   "metadata": {},
   "outputs": [
    {
     "data": {
      "text/plain": [
       "<tf.Variable 'Variable:0' shape=(3, 3) dtype=int32, numpy=\n",
       "array([[0, 0, 0],\n",
       "       [4, 5, 6],\n",
       "       [6, 7, 8]], dtype=int32)>"
      ]
     },
     "execution_count": 32,
     "metadata": {},
     "output_type": "execute_result"
    }
   ],
   "source": [
    "_matrix_variable[0].assign([0,0,0])\n",
    "_matrix_variable"
   ]
  },
  {
   "cell_type": "markdown",
   "id": "4fee9b89",
   "metadata": {},
   "source": [
    "## Create a Random Tensor"
   ]
  },
  {
   "cell_type": "code",
   "execution_count": 38,
   "id": "8e8a58be",
   "metadata": {},
   "outputs": [],
   "source": [
    "random1 = tf.random.Generator.from_seed(42)\n",
    "normal_random = random1.normal((3,2))"
   ]
  },
  {
   "cell_type": "code",
   "execution_count": 39,
   "id": "fbab978e",
   "metadata": {},
   "outputs": [
    {
     "data": {
      "text/plain": [
       "<tf.Tensor: shape=(3, 2), dtype=float32, numpy=\n",
       "array([[-0.7565803 , -0.06854702],\n",
       "       [ 0.07595026, -1.2573844 ],\n",
       "       [-0.23193763, -1.8107855 ]], dtype=float32)>"
      ]
     },
     "execution_count": 39,
     "metadata": {},
     "output_type": "execute_result"
    }
   ],
   "source": [
    "normal_random"
   ]
  },
  {
   "cell_type": "markdown",
   "id": "15a87e84",
   "metadata": {},
   "source": [
    "## Shuffle the order of elements in a tensor"
   ]
  },
  {
   "cell_type": "code",
   "execution_count": 74,
   "id": "5143e108",
   "metadata": {},
   "outputs": [
    {
     "data": {
      "text/plain": [
       "<tf.Tensor: shape=(3, 3), dtype=int32, numpy=\n",
       "array([[4, 5, 6],\n",
       "       [7, 8, 9],\n",
       "       [1, 2, 3]], dtype=int32)>"
      ]
     },
     "execution_count": 74,
     "metadata": {},
     "output_type": "execute_result"
    }
   ],
   "source": [
    "# This may be helpful if we want to shuffle our data\n",
    "tensor_to_shuffle = tf.constant([[1,2,3],\n",
    "                                 [4,5,6],\n",
    "                                 [7,8,9]])\n",
    "# shuffle the tensor \n",
    "tf.random.set_seed(42)\n",
    "tf.random.shuffle(tensor_to_shuffle)"
   ]
  },
  {
   "cell_type": "code",
   "execution_count": 108,
   "id": "2c17a2cf",
   "metadata": {},
   "outputs": [
    {
     "data": {
      "text/plain": [
       "<tf.Tensor: shape=(5, 7), dtype=float32, numpy=\n",
       "array([[1., 1., 1., 1., 1., 1., 1.],\n",
       "       [1., 1., 1., 1., 1., 1., 1.],\n",
       "       [1., 1., 1., 1., 1., 1., 1.],\n",
       "       [1., 1., 1., 1., 1., 1., 1.],\n",
       "       [1., 1., 1., 1., 1., 1., 1.]], dtype=float32)>"
      ]
     },
     "execution_count": 108,
     "metadata": {},
     "output_type": "execute_result"
    }
   ],
   "source": [
    "# create a tensor filled with ones\n",
    "tf.ones((5,7))"
   ]
  },
  {
   "cell_type": "code",
   "execution_count": 109,
   "id": "109f6c14",
   "metadata": {},
   "outputs": [
    {
     "data": {
      "text/plain": [
       "<tf.Tensor: shape=(5, 7), dtype=float32, numpy=\n",
       "array([[0., 0., 0., 0., 0., 0., 0.],\n",
       "       [0., 0., 0., 0., 0., 0., 0.],\n",
       "       [0., 0., 0., 0., 0., 0., 0.],\n",
       "       [0., 0., 0., 0., 0., 0., 0.],\n",
       "       [0., 0., 0., 0., 0., 0., 0.]], dtype=float32)>"
      ]
     },
     "execution_count": 109,
     "metadata": {},
     "output_type": "execute_result"
    }
   ],
   "source": [
    "# create a tensor filled with zeros\n",
    "tf.zeros((5,7))"
   ]
  },
  {
   "cell_type": "markdown",
   "id": "4fefa381",
   "metadata": {},
   "source": [
    "## Turn a numpy array to Tensor\n",
    "📝 It's nice we turn our numpy arrays to tensors, cause tensors run faster on GPUs"
   ]
  },
  {
   "cell_type": "code",
   "execution_count": 112,
   "id": "1eaac7c7",
   "metadata": {},
   "outputs": [
    {
     "data": {
      "text/plain": [
       "array([ 1,  2,  3,  4,  5,  6,  7,  8,  9, 10, 11, 12, 13, 14, 15, 16, 17,\n",
       "       18, 19, 20, 21, 22, 23, 24], dtype=int16)"
      ]
     },
     "execution_count": 112,
     "metadata": {},
     "output_type": "execute_result"
    }
   ],
   "source": [
    "import numpy as np\n",
    "\n",
    "numpy_arr = np.arange(1,25, dtype=np.int16)\n",
    "numpy_arr"
   ]
  },
  {
   "cell_type": "code",
   "execution_count": 127,
   "id": "513785bc",
   "metadata": {},
   "outputs": [
    {
     "data": {
      "text/plain": [
       "<tf.Tensor: shape=(6, 4), dtype=int16, numpy=\n",
       "array([[ 1,  2,  3,  4],\n",
       "       [ 5,  6,  7,  8],\n",
       "       [ 9, 10, 11, 12],\n",
       "       [13, 14, 15, 16],\n",
       "       [17, 18, 19, 20],\n",
       "       [21, 22, 23, 24]], dtype=int16)>"
      ]
     },
     "execution_count": 127,
     "metadata": {},
     "output_type": "execute_result"
    }
   ],
   "source": [
    "tf.constant(numpy_arr, shape=(6,4)) #we can choose to reshape the tensor by passing the shape parameter"
   ]
  },
  {
   "cell_type": "code",
   "execution_count": 125,
   "id": "4dcaf801",
   "metadata": {},
   "outputs": [
    {
     "data": {
      "text/plain": [
       "24"
      ]
     },
     "execution_count": 125,
     "metadata": {},
     "output_type": "execute_result"
    }
   ],
   "source": [
    "6*4"
   ]
  },
  {
   "cell_type": "markdown",
   "id": "9ebb8631",
   "metadata": {},
   "source": [
    "## Getting Tensor Information\n",
    "Tensors have the following attributes:\n",
    "* Shape\n",
    "* Rank\n",
    "* Axis/Dimension\n",
    "* Size"
   ]
  },
  {
   "cell_type": "code",
   "execution_count": 129,
   "id": "c8a3b4ff",
   "metadata": {
    "scrolled": false
   },
   "outputs": [
    {
     "data": {
      "text/plain": [
       "<tf.Tensor: shape=(2, 3, 4, 5), dtype=float32, numpy=\n",
       "array([[[[0., 0., 0., 0., 0.],\n",
       "         [0., 0., 0., 0., 0.],\n",
       "         [0., 0., 0., 0., 0.],\n",
       "         [0., 0., 0., 0., 0.]],\n",
       "\n",
       "        [[0., 0., 0., 0., 0.],\n",
       "         [0., 0., 0., 0., 0.],\n",
       "         [0., 0., 0., 0., 0.],\n",
       "         [0., 0., 0., 0., 0.]],\n",
       "\n",
       "        [[0., 0., 0., 0., 0.],\n",
       "         [0., 0., 0., 0., 0.],\n",
       "         [0., 0., 0., 0., 0.],\n",
       "         [0., 0., 0., 0., 0.]]],\n",
       "\n",
       "\n",
       "       [[[0., 0., 0., 0., 0.],\n",
       "         [0., 0., 0., 0., 0.],\n",
       "         [0., 0., 0., 0., 0.],\n",
       "         [0., 0., 0., 0., 0.]],\n",
       "\n",
       "        [[0., 0., 0., 0., 0.],\n",
       "         [0., 0., 0., 0., 0.],\n",
       "         [0., 0., 0., 0., 0.],\n",
       "         [0., 0., 0., 0., 0.]],\n",
       "\n",
       "        [[0., 0., 0., 0., 0.],\n",
       "         [0., 0., 0., 0., 0.],\n",
       "         [0., 0., 0., 0., 0.],\n",
       "         [0., 0., 0., 0., 0.]]]], dtype=float32)>"
      ]
     },
     "execution_count": 129,
     "metadata": {},
     "output_type": "execute_result"
    }
   ],
   "source": [
    "# Create a 4 rank tensor (4 Dimensions)\n",
    "tensor_rank = tf.zeros((2,3,4,5))\n",
    "tensor_rank"
   ]
  },
  {
   "cell_type": "code",
   "execution_count": 130,
   "id": "045d1275",
   "metadata": {},
   "outputs": [
    {
     "data": {
      "text/plain": [
       "<tf.Tensor: shape=(3, 4, 5), dtype=float32, numpy=\n",
       "array([[[0., 0., 0., 0., 0.],\n",
       "        [0., 0., 0., 0., 0.],\n",
       "        [0., 0., 0., 0., 0.],\n",
       "        [0., 0., 0., 0., 0.]],\n",
       "\n",
       "       [[0., 0., 0., 0., 0.],\n",
       "        [0., 0., 0., 0., 0.],\n",
       "        [0., 0., 0., 0., 0.],\n",
       "        [0., 0., 0., 0., 0.]],\n",
       "\n",
       "       [[0., 0., 0., 0., 0.],\n",
       "        [0., 0., 0., 0., 0.],\n",
       "        [0., 0., 0., 0., 0.],\n",
       "        [0., 0., 0., 0., 0.]]], dtype=float32)>"
      ]
     },
     "execution_count": 130,
     "metadata": {},
     "output_type": "execute_result"
    }
   ],
   "source": [
    "tensor_rank[0]"
   ]
  },
  {
   "cell_type": "code",
   "execution_count": 132,
   "id": "bbfe5ae3",
   "metadata": {},
   "outputs": [
    {
     "data": {
      "text/plain": [
       "(TensorShape([2, 3, 4, 5]), 4, <tf.Tensor: shape=(), dtype=int32, numpy=120>)"
      ]
     },
     "execution_count": 132,
     "metadata": {},
     "output_type": "execute_result"
    }
   ],
   "source": [
    "tensor_rank.shape, tensor_rank.ndim, tf.size(tensor_rank)"
   ]
  },
  {
   "cell_type": "markdown",
   "id": "d07ebb4a",
   "metadata": {},
   "source": [
    "## Indexing Tensors\n",
    "🔩 Get the first 2 elements in each tensor"
   ]
  },
  {
   "cell_type": "code",
   "execution_count": 149,
   "id": "669b6718",
   "metadata": {},
   "outputs": [
    {
     "data": {
      "text/plain": [
       "<tf.Tensor: shape=(2, 3, 1, 2), dtype=float32, numpy=\n",
       "array([[[[0., 0.]],\n",
       "\n",
       "        [[0., 0.]],\n",
       "\n",
       "        [[0., 0.]]],\n",
       "\n",
       "\n",
       "       [[[0., 0.]],\n",
       "\n",
       "        [[0., 0.]],\n",
       "\n",
       "        [[0., 0.]]]], dtype=float32)>"
      ]
     },
     "execution_count": 149,
     "metadata": {},
     "output_type": "execute_result"
    }
   ],
   "source": [
    "tensor_rank[:2,:,:1,:2]"
   ]
  },
  {
   "cell_type": "code",
   "execution_count": 142,
   "id": "9a348dd0",
   "metadata": {},
   "outputs": [
    {
     "data": {
      "text/plain": [
       "<tf.Tensor: shape=(2, 3), dtype=int32, numpy=\n",
       "array([[1, 2, 3],\n",
       "       [4, 5, 6]], dtype=int32)>"
      ]
     },
     "execution_count": 142,
     "metadata": {},
     "output_type": "execute_result"
    }
   ],
   "source": [
    "# Add an extra dimension to a tensor\n",
    "tensor = tf.constant([[1,2,3],\n",
    "                     [4,5,6]])\n",
    "tensor"
   ]
  },
  {
   "cell_type": "code",
   "execution_count": 147,
   "id": "ce2662a4",
   "metadata": {},
   "outputs": [
    {
     "data": {
      "text/plain": [
       "<tf.Tensor: shape=(2, 3, 1), dtype=int32, numpy=\n",
       "array([[[1],\n",
       "        [2],\n",
       "        [3]],\n",
       "\n",
       "       [[4],\n",
       "        [5],\n",
       "        [6]]], dtype=int32)>"
      ]
     },
     "execution_count": 147,
     "metadata": {},
     "output_type": "execute_result"
    }
   ],
   "source": [
    "tensor[..., tf.newaxis]"
   ]
  },
  {
   "cell_type": "code",
   "execution_count": 159,
   "id": "c1367433",
   "metadata": {},
   "outputs": [
    {
     "data": {
      "text/plain": [
       "<tf.Tensor: shape=(2, 3, 1), dtype=int32, numpy=\n",
       "array([[[1],\n",
       "        [2],\n",
       "        [3]],\n",
       "\n",
       "       [[4],\n",
       "        [5],\n",
       "        [6]]], dtype=int32)>"
      ]
     },
     "execution_count": 159,
     "metadata": {},
     "output_type": "execute_result"
    }
   ],
   "source": [
    "# Alternative to tf.newaxis is tf.expand_dims()\n",
    "tf.expand_dims(tensor, axis=-1) # -1 means expand by the last dimension which in this case is 3, so after 3 add a new dimension"
   ]
  },
  {
   "cell_type": "markdown",
   "id": "20aa5810",
   "metadata": {},
   "source": [
    "## Change the Dtype of a tensor"
   ]
  },
  {
   "cell_type": "code",
   "execution_count": 162,
   "id": "58b91a65",
   "metadata": {},
   "outputs": [
    {
     "data": {
      "text/plain": [
       "<tf.Tensor: shape=(2, 3), dtype=int32, numpy=\n",
       "array([[1, 2, 3],\n",
       "       [4, 5, 6]], dtype=int32)>"
      ]
     },
     "execution_count": 162,
     "metadata": {},
     "output_type": "execute_result"
    }
   ],
   "source": [
    "tensor"
   ]
  },
  {
   "cell_type": "code",
   "execution_count": 160,
   "id": "185d23f9",
   "metadata": {},
   "outputs": [
    {
     "data": {
      "text/plain": [
       "<tf.Tensor: shape=(2, 3), dtype=float16, numpy=\n",
       "array([[1., 2., 3.],\n",
       "       [4., 5., 6.]], dtype=float16)>"
      ]
     },
     "execution_count": 160,
     "metadata": {},
     "output_type": "execute_result"
    }
   ],
   "source": [
    "tf.cast(tensor, tf.float16)"
   ]
  },
  {
   "cell_type": "markdown",
   "id": "a7d4e4b8",
   "metadata": {},
   "source": [
    "## Aggregating Tensors"
   ]
  },
  {
   "cell_type": "code",
   "execution_count": 165,
   "id": "908911b4",
   "metadata": {},
   "outputs": [
    {
     "data": {
      "text/plain": [
       "<tf.Tensor: shape=(5,), dtype=int32, numpy=array([1, 4, 5, 6, 8], dtype=int32)>"
      ]
     },
     "execution_count": 165,
     "metadata": {},
     "output_type": "execute_result"
    }
   ],
   "source": [
    "tensor = tf.constant([-1,-4,5,6,-8,])\n",
    "tf.abs(tensor) # This turns all negative values to positive"
   ]
  },
  {
   "cell_type": "code",
   "execution_count": 168,
   "id": "4d05adae",
   "metadata": {},
   "outputs": [
    {
     "data": {
      "text/plain": [
       "-8"
      ]
     },
     "execution_count": 168,
     "metadata": {},
     "output_type": "execute_result"
    }
   ],
   "source": [
    "# Find the min of a tensor\n",
    "tf.reduce_min(tensor).numpy()"
   ]
  },
  {
   "cell_type": "code",
   "execution_count": 169,
   "id": "89fd9af8",
   "metadata": {},
   "outputs": [
    {
     "data": {
      "text/plain": [
       "6"
      ]
     },
     "execution_count": 169,
     "metadata": {},
     "output_type": "execute_result"
    }
   ],
   "source": [
    "# find the max of tensor\n",
    "tf.reduce_max(tensor).numpy()"
   ]
  },
  {
   "cell_type": "code",
   "execution_count": 172,
   "id": "73886292",
   "metadata": {},
   "outputs": [
    {
     "data": {
      "text/plain": [
       "0"
      ]
     },
     "execution_count": 172,
     "metadata": {},
     "output_type": "execute_result"
    }
   ],
   "source": [
    "# Find the mean of a tensor\n",
    "tf.reduce_mean(tensor).numpy()"
   ]
  },
  {
   "cell_type": "code",
   "execution_count": 173,
   "id": "62a69cc3",
   "metadata": {},
   "outputs": [
    {
     "data": {
      "text/plain": [
       "-2"
      ]
     },
     "execution_count": 173,
     "metadata": {},
     "output_type": "execute_result"
    }
   ],
   "source": [
    "# find the sum of a tensor\n",
    "tf.reduce_sum(tensor).numpy()"
   ]
  },
  {
   "cell_type": "code",
   "execution_count": 188,
   "id": "4aef064e",
   "metadata": {},
   "outputs": [
    {
     "data": {
      "text/plain": [
       "<tf.Tensor: shape=(), dtype=float32, numpy=28.24>"
      ]
     },
     "execution_count": 188,
     "metadata": {},
     "output_type": "execute_result"
    }
   ],
   "source": [
    "# find the variance of a tensor\n",
    "tf.math.reduce_variance(tf.cast(tensor, tf.float32))"
   ]
  },
  {
   "cell_type": "code",
   "execution_count": 184,
   "id": "fe2e0a8c",
   "metadata": {},
   "outputs": [
    {
     "data": {
      "text/plain": [
       "<tf.Tensor: shape=(), dtype=float16, numpy=5.312>"
      ]
     },
     "execution_count": 184,
     "metadata": {},
     "output_type": "execute_result"
    }
   ],
   "source": [
    "# find the stadard deviation of a tensor\n",
    "tf.math.reduce_std(tf.cast(tensor, tf.float16))"
   ]
  },
  {
   "cell_type": "markdown",
   "id": "71ab1239",
   "metadata": {},
   "source": [
    "## Find positional minimum and maximum"
   ]
  },
  {
   "cell_type": "code",
   "execution_count": 189,
   "id": "f32f7548",
   "metadata": {},
   "outputs": [],
   "source": [
    "tensor = tf.random.uniform([50])"
   ]
  },
  {
   "cell_type": "code",
   "execution_count": 190,
   "id": "f25bc836",
   "metadata": {},
   "outputs": [
    {
     "data": {
      "text/plain": [
       "<tf.Tensor: shape=(50,), dtype=float32, numpy=\n",
       "array([0.5554141 , 0.22129297, 0.8649249 , 0.77728355, 0.6451167 ,\n",
       "       0.53036225, 0.01444101, 0.87350917, 0.4697218 , 0.38672888,\n",
       "       0.88615394, 0.6367892 , 0.00187671, 0.8577635 , 0.1078794 ,\n",
       "       0.96006143, 0.21138084, 0.6625186 , 0.12099075, 0.14918971,\n",
       "       0.9871228 , 0.8446301 , 0.06265104, 0.6570767 , 0.46151686,\n",
       "       0.9836309 , 0.8899983 , 0.76602376, 0.75097287, 0.2961111 ,\n",
       "       0.45900202, 0.6787349 , 0.25667095, 0.6584588 , 0.78408873,\n",
       "       0.98857284, 0.21614432, 0.01757312, 0.49910355, 0.09775543,\n",
       "       0.9687592 , 0.85669684, 0.85790884, 0.47216988, 0.52431476,\n",
       "       0.6876439 , 0.58496094, 0.72447526, 0.0526253 , 0.23365176],\n",
       "      dtype=float32)>"
      ]
     },
     "execution_count": 190,
     "metadata": {},
     "output_type": "execute_result"
    }
   ],
   "source": [
    "tensor"
   ]
  },
  {
   "cell_type": "code",
   "execution_count": 192,
   "id": "16cef7ff",
   "metadata": {},
   "outputs": [
    {
     "data": {
      "text/plain": [
       "35"
      ]
     },
     "execution_count": 192,
     "metadata": {},
     "output_type": "execute_result"
    }
   ],
   "source": [
    "tf.argmax(tensor).numpy() # Find the maximum "
   ]
  },
  {
   "cell_type": "code",
   "execution_count": 194,
   "id": "457bb0d6",
   "metadata": {},
   "outputs": [
    {
     "data": {
      "text/plain": [
       "0.98857284"
      ]
     },
     "execution_count": 194,
     "metadata": {},
     "output_type": "execute_result"
    }
   ],
   "source": [
    "tensor[tf.argmax(tensor)].numpy()"
   ]
  },
  {
   "cell_type": "code",
   "execution_count": 196,
   "id": "49a64441",
   "metadata": {},
   "outputs": [
    {
     "data": {
      "text/plain": [
       "<tf.Tensor: shape=(), dtype=bool, numpy=True>"
      ]
     },
     "execution_count": 196,
     "metadata": {},
     "output_type": "execute_result"
    }
   ],
   "source": [
    "tensor[tf.argmax(tensor)] == tf.reduce_max(tensor)"
   ]
  },
  {
   "cell_type": "code",
   "execution_count": 198,
   "id": "90ec02ac",
   "metadata": {},
   "outputs": [
    {
     "data": {
      "text/plain": [
       "12"
      ]
     },
     "execution_count": 198,
     "metadata": {},
     "output_type": "execute_result"
    }
   ],
   "source": [
    "# find the minimum\n",
    "tf.argmin(tensor).numpy()"
   ]
  },
  {
   "cell_type": "code",
   "execution_count": 200,
   "id": "a0c100ca",
   "metadata": {},
   "outputs": [
    {
     "data": {
      "text/plain": [
       "0.0018767118"
      ]
     },
     "execution_count": 200,
     "metadata": {},
     "output_type": "execute_result"
    }
   ],
   "source": [
    "tensor[tf.argmin(tensor)].numpy()"
   ]
  },
  {
   "cell_type": "markdown",
   "id": "dfa800a0",
   "metadata": {},
   "source": [
    "## Squeezing a tensor\n",
    "Remove all single dimensions"
   ]
  },
  {
   "cell_type": "code",
   "execution_count": 211,
   "id": "23512c61",
   "metadata": {},
   "outputs": [
    {
     "data": {
      "text/plain": [
       "<tf.Tensor: shape=(5, 4, 1), dtype=float32, numpy=\n",
       "array([[[-0.7565803 ],\n",
       "        [-0.06854702],\n",
       "        [ 0.07595026],\n",
       "        [-1.2573844 ]],\n",
       "\n",
       "       [[-0.23193763],\n",
       "        [-1.8107855 ],\n",
       "        [ 0.09988727],\n",
       "        [-0.50998646]],\n",
       "\n",
       "       [[-0.7535805 ],\n",
       "        [-0.57166284],\n",
       "        [ 0.1480774 ],\n",
       "        [-0.23362993]],\n",
       "\n",
       "       [[-0.3522796 ],\n",
       "        [ 0.40621263],\n",
       "        [-1.0523509 ],\n",
       "        [ 1.2054597 ]],\n",
       "\n",
       "       [[ 1.6874489 ],\n",
       "        [-0.4462975 ],\n",
       "        [-2.3410842 ],\n",
       "        [ 0.99009085]]], dtype=float32)>"
      ]
     },
     "execution_count": 211,
     "metadata": {},
     "output_type": "execute_result"
    }
   ],
   "source": [
    "tensor = tf.random.Generator.from_seed(42)\n",
    "tensor = tensor.normal((5,4))\n",
    "tensor = tensor[..., tf.newaxis]\n",
    "tensor"
   ]
  },
  {
   "cell_type": "code",
   "execution_count": 212,
   "id": "9fbd9d78",
   "metadata": {
    "scrolled": true
   },
   "outputs": [
    {
     "data": {
      "text/plain": [
       "<tf.Tensor: shape=(5, 4), dtype=float32, numpy=\n",
       "array([[-0.7565803 , -0.06854702,  0.07595026, -1.2573844 ],\n",
       "       [-0.23193763, -1.8107855 ,  0.09988727, -0.50998646],\n",
       "       [-0.7535805 , -0.57166284,  0.1480774 , -0.23362993],\n",
       "       [-0.3522796 ,  0.40621263, -1.0523509 ,  1.2054597 ],\n",
       "       [ 1.6874489 , -0.4462975 , -2.3410842 ,  0.99009085]],\n",
       "      dtype=float32)>"
      ]
     },
     "execution_count": 212,
     "metadata": {},
     "output_type": "execute_result"
    }
   ],
   "source": [
    "tf.squeeze(tensor)"
   ]
  },
  {
   "cell_type": "markdown",
   "id": "b3f40bdd",
   "metadata": {},
   "source": [
    "## One hot encode Tensors"
   ]
  },
  {
   "cell_type": "code",
   "execution_count": 219,
   "id": "68985a4e",
   "metadata": {},
   "outputs": [
    {
     "data": {
      "text/plain": [
       "<tf.Tensor: shape=(3, 3), dtype=float32, numpy=\n",
       "array([[0., 1., 0.],\n",
       "       [0., 0., 1.],\n",
       "       [0., 0., 0.]], dtype=float32)>"
      ]
     },
     "execution_count": 219,
     "metadata": {},
     "output_type": "execute_result"
    }
   ],
   "source": [
    "new_list = [1,2,3]\n",
    "tf.one_hot(new_list, depth=3)"
   ]
  },
  {
   "cell_type": "code",
   "execution_count": 222,
   "id": "f4fcbabb",
   "metadata": {},
   "outputs": [
    {
     "data": {
      "text/plain": [
       "<tf.Tensor: shape=(3, 3), dtype=string, numpy=\n",
       "array([[b'You', b'Me', b'You'],\n",
       "       [b'You', b'You', b'Me'],\n",
       "       [b'You', b'You', b'You']], dtype=object)>"
      ]
     },
     "execution_count": 222,
     "metadata": {},
     "output_type": "execute_result"
    }
   ],
   "source": [
    "# we can also provide custom values\n",
    "tf.one_hot(new_list, depth=3, on_value='Me', off_value='You')"
   ]
  },
  {
   "cell_type": "markdown",
   "id": "9a53f353",
   "metadata": {},
   "source": [
    "## find access to GPUs "
   ]
  },
  {
   "cell_type": "code",
   "execution_count": 227,
   "id": "3b52bda0",
   "metadata": {},
   "outputs": [
    {
     "data": {
      "text/plain": [
       "PhysicalDevice(name='/physical_device:CPU:0', device_type='CPU')"
      ]
     },
     "execution_count": 227,
     "metadata": {},
     "output_type": "execute_result"
    }
   ],
   "source": [
    "tf.config.list_physical_devices('CPU')"
   ]
  },
  {
   "cell_type": "code",
   "execution_count": 224,
   "id": "db772bd5",
   "metadata": {},
   "outputs": [
    {
     "data": {
      "text/plain": [
       "[]"
      ]
     },
     "execution_count": 224,
     "metadata": {},
     "output_type": "execute_result"
    }
   ],
   "source": [
    "tf.config.list_physical_devices('GPU')"
   ]
  },
  {
   "cell_type": "code",
   "execution_count": 231,
   "id": "390ad32f",
   "metadata": {},
   "outputs": [
    {
     "name": "stdout",
     "output_type": "stream",
     "text": [
      "zsh:1: command not found: nvidia-smi\r\n"
     ]
    }
   ],
   "source": [
    "!nvidia-smi"
   ]
  },
  {
   "cell_type": "code",
   "execution_count": null,
   "id": "e0152a19",
   "metadata": {},
   "outputs": [],
   "source": []
  },
  {
   "cell_type": "code",
   "execution_count": null,
   "id": "270ba37e",
   "metadata": {},
   "outputs": [],
   "source": []
  },
  {
   "cell_type": "code",
   "execution_count": null,
   "id": "b86864e1",
   "metadata": {},
   "outputs": [],
   "source": []
  },
  {
   "cell_type": "markdown",
   "id": "77afd7d7",
   "metadata": {},
   "source": [
    "# Regression model in Tensorflow"
   ]
  },
  {
   "cell_type": "markdown",
   "id": "ad06205f",
   "metadata": {},
   "source": [
    "**Steps in Tensorflow Modelling:**\n",
    "* Create the model architecture or use pretrained ones\n",
    "* Compile the model\n",
    "* Fit the model\n",
    "* Evaluate the model"
   ]
  },
  {
   "cell_type": "code",
   "execution_count": 236,
   "id": "fb7f5caa",
   "metadata": {},
   "outputs": [],
   "source": [
    "import numpy as np\n",
    "import matplotlib.pyplot as plt"
   ]
  },
  {
   "cell_type": "code",
   "execution_count": 250,
   "id": "91ceed3c",
   "metadata": {},
   "outputs": [
    {
     "data": {
      "image/png": "[encoded data removed]",
      "text/plain": [
       "<Figure size 432x288 with 1 Axes>"
      ]
     },
     "metadata": {
      "needs_background": "light"
     },
     "output_type": "display_data"
    }
   ],
   "source": [
    "X = np.array([-7.0,-4.0,-1.0,2.0,5.0,8.0,11.0,14.0])\n",
    "y = np.array([3.0, 6.0, 9.0,12.0, 15.0,18.0, 21.0, 24.0])\n",
    "plt.scatter(X,y);"
   ]
  },
  {
   "cell_type": "code",
   "execution_count": 251,
   "id": "18fc43c3",
   "metadata": {},
   "outputs": [
    {
     "data": {
      "text/plain": [
       "array([ True,  True,  True,  True,  True,  True,  True,  True])"
      ]
     },
     "execution_count": 251,
     "metadata": {},
     "output_type": "execute_result"
    }
   ],
   "source": [
    "y == X+10"
   ]
  },
  {
   "cell_type": "code",
   "execution_count": 266,
   "id": "b143a16f",
   "metadata": {},
   "outputs": [
    {
     "data": {
      "text/plain": [
       "(<tf.Tensor: shape=(8,), dtype=float64, numpy=array([-7., -4., -1.,  2.,  5.,  8., 11., 14.])>,\n",
       " <tf.Tensor: shape=(8,), dtype=float64, numpy=array([ 3.,  6.,  9., 12., 15., 18., 21., 24.])>)"
      ]
     },
     "execution_count": 266,
     "metadata": {},
     "output_type": "execute_result"
    }
   ],
   "source": [
    "X = np.array([-7.0,-4.0,-1.0,2.0,5.0,8.0,11.0,14.0])\n",
    "y = np.array([3.0, 6.0, 9.0,12.0, 15.0,18.0, 21.0, 24.0])\n",
    "\n",
    "# Convert the inputs to tensors\n",
    "X = tf.constant(X)\n",
    "y = tf.constant(y)\n",
    "X,y"
   ]
  },
  {
   "cell_type": "markdown",
   "id": "04a4e682",
   "metadata": {},
   "source": [
    "### Create our model"
   ]
  },
  {
   "cell_type": "code",
   "execution_count": 268,
   "id": "878d8bed",
   "metadata": {},
   "outputs": [
    {
     "name": "stdout",
     "output_type": "stream",
     "text": [
      "Epoch 1/5\n",
      "1/1 [==============================] - 0s 232ms/step - loss: 11.5048 - mae: 11.5048\n",
      "Epoch 2/5\n",
      "1/1 [==============================] - 0s 3ms/step - loss: 11.3723 - mae: 11.3723\n",
      "Epoch 3/5\n",
      "1/1 [==============================] - 0s 3ms/step - loss: 11.2398 - mae: 11.2398\n",
      "Epoch 4/5\n",
      "1/1 [==============================] - 0s 2ms/step - loss: 11.1073 - mae: 11.1073\n",
      "Epoch 5/5\n",
      "1/1 [==============================] - 0s 2ms/step - loss: 10.9748 - mae: 10.9748\n"
     ]
    },
    {
     "data": {
      "text/plain": [
       "<keras.callbacks.History at 0x7fec35f3bee0>"
      ]
     },
     "execution_count": 268,
     "metadata": {},
     "output_type": "execute_result"
    }
   ],
   "source": [
    "tf.random.set_seed(42)\n",
    "model = tf.keras.Sequential([\n",
    "    tf.keras.layers.Dense(1),\n",
    "])\n",
    "\n",
    "model.compile(loss=tf.keras.losses.mae,\n",
    "              optimizer=tf.keras.optimizers.SGD(),\n",
    "              metrics=['mae'])\n",
    "\n",
    "model.fit(tf.expand_dims(X,axis=1),tf.expand_dims(y, axis=1), epochs=5)"
   ]
  },
  {
   "cell_type": "code",
   "execution_count": 271,
   "id": "74853686",
   "metadata": {},
   "outputs": [
    {
     "data": {
      "text/plain": [
       "(<tf.Tensor: shape=(8,), dtype=float64, numpy=array([-7., -4., -1.,  2.,  5.,  8., 11., 14.])>,\n",
       " <tf.Tensor: shape=(8,), dtype=float64, numpy=array([ 3.,  6.,  9., 12., 15., 18., 21., 24.])>)"
      ]
     },
     "execution_count": 271,
     "metadata": {},
     "output_type": "execute_result"
    }
   ],
   "source": [
    "X,y"
   ]
  },
  {
   "cell_type": "code",
   "execution_count": 273,
   "id": "028a6dfe",
   "metadata": {},
   "outputs": [
    {
     "data": {
      "text/plain": [
       "array([[12.716021]], dtype=float32)"
      ]
     },
     "execution_count": 273,
     "metadata": {},
     "output_type": "execute_result"
    }
   ],
   "source": [
    "model.predict([17.0])"
   ]
  },
  {
   "cell_type": "markdown",
   "id": "63ff5977",
   "metadata": {},
   "source": [
    "Our model didn't quite give us the expected prediction `27`\n",
    "\n",
    "## Improving A Model\n",
    "From a model perspective\n",
    "* Add more layers\n",
    "* Increase the number of hidden units (neurons)\n",
    "* Change the activation function\n",
    "* Change the optmization function\n",
    "* Train for longer"
   ]
  },
  {
   "cell_type": "code",
   "execution_count": 275,
   "id": "71951956",
   "metadata": {},
   "outputs": [],
   "source": [
    "X = tf.constant(X[..., np.newaxis])\n",
    "y = tf.constant(y[..., np.newaxis])"
   ]
  },
  {
   "cell_type": "code",
   "execution_count": 359,
   "id": "35f456bf",
   "metadata": {
    "scrolled": false
   },
   "outputs": [
    {
     "name": "stdout",
     "output_type": "stream",
     "text": [
      "Epoch 1/100\n",
      "1/1 [==============================] - 0s 316ms/step - loss: 12.9122 - mae: 12.9122\n",
      "Epoch 2/100\n",
      "1/1 [==============================] - 0s 3ms/step - loss: 9.7353 - mae: 9.7353\n",
      "Epoch 3/100\n",
      "1/1 [==============================] - 0s 3ms/step - loss: 7.3123 - mae: 7.3123\n",
      "Epoch 4/100\n",
      "1/1 [==============================] - 0s 2ms/step - loss: 4.6807 - mae: 4.6807\n",
      "Epoch 5/100\n",
      "1/1 [==============================] - 0s 3ms/step - loss: 4.3019 - mae: 4.3019\n",
      "Epoch 6/100\n",
      "1/1 [==============================] - 0s 3ms/step - loss: 5.3537 - mae: 5.3537\n",
      "Epoch 7/100\n",
      "1/1 [==============================] - 0s 3ms/step - loss: 5.6058 - mae: 5.6058\n",
      "Epoch 8/100\n",
      "1/1 [==============================] - 0s 3ms/step - loss: 5.3945 - mae: 5.3945\n",
      "Epoch 9/100\n",
      "1/1 [==============================] - 0s 2ms/step - loss: 4.8005 - mae: 4.8005\n",
      "Epoch 10/100\n",
      "1/1 [==============================] - 0s 5ms/step - loss: 4.0464 - mae: 4.0464\n",
      "Epoch 11/100\n",
      "1/1 [==============================] - 0s 3ms/step - loss: 3.7462 - mae: 3.7462\n",
      "Epoch 12/100\n",
      "1/1 [==============================] - 0s 3ms/step - loss: 3.8815 - mae: 3.8815\n",
      "Epoch 13/100\n",
      "1/1 [==============================] - 0s 3ms/step - loss: 4.1786 - mae: 4.1786\n",
      "Epoch 14/100\n",
      "1/1 [==============================] - 0s 2ms/step - loss: 4.2172 - mae: 4.2172\n",
      "Epoch 15/100\n",
      "1/1 [==============================] - 0s 3ms/step - loss: 3.8023 - mae: 3.8023\n",
      "Epoch 16/100\n",
      "1/1 [==============================] - 0s 3ms/step - loss: 3.4547 - mae: 3.4547\n",
      "Epoch 17/100\n",
      "1/1 [==============================] - 0s 3ms/step - loss: 3.4928 - mae: 3.4928\n",
      "Epoch 18/100\n",
      "1/1 [==============================] - 0s 3ms/step - loss: 3.6179 - mae: 3.6179\n",
      "Epoch 19/100\n",
      "1/1 [==============================] - 0s 3ms/step - loss: 3.7020 - mae: 3.7020\n",
      "Epoch 20/100\n",
      "1/1 [==============================] - 0s 2ms/step - loss: 3.5532 - mae: 3.5532\n",
      "Epoch 21/100\n",
      "1/1 [==============================] - 0s 4ms/step - loss: 3.2319 - mae: 3.2319\n",
      "Epoch 22/100\n",
      "1/1 [==============================] - 0s 3ms/step - loss: 2.9865 - mae: 2.9865\n",
      "Epoch 23/100\n",
      "1/1 [==============================] - 0s 3ms/step - loss: 2.7605 - mae: 2.7605\n",
      "Epoch 24/100\n",
      "1/1 [==============================] - 0s 4ms/step - loss: 2.4836 - mae: 2.4836\n",
      "Epoch 25/100\n",
      "1/1 [==============================] - 0s 3ms/step - loss: 2.4946 - mae: 2.4946\n",
      "Epoch 26/100\n",
      "1/1 [==============================] - 0s 3ms/step - loss: 2.2799 - mae: 2.2799\n",
      "Epoch 27/100\n",
      "1/1 [==============================] - 0s 2ms/step - loss: 1.8691 - mae: 1.8691\n",
      "Epoch 28/100\n",
      "1/1 [==============================] - 0s 3ms/step - loss: 1.8306 - mae: 1.8306\n",
      "Epoch 29/100\n",
      "1/1 [==============================] - 0s 2ms/step - loss: 1.6553 - mae: 1.6553\n",
      "Epoch 30/100\n",
      "1/1 [==============================] - 0s 3ms/step - loss: 1.1231 - mae: 1.1231\n",
      "Epoch 31/100\n",
      "1/1 [==============================] - 0s 3ms/step - loss: 0.7926 - mae: 0.7926\n",
      "Epoch 32/100\n",
      "1/1 [==============================] - 0s 3ms/step - loss: 0.4982 - mae: 0.4982\n",
      "Epoch 33/100\n",
      "1/1 [==============================] - 0s 2ms/step - loss: 1.1676 - mae: 1.1676\n",
      "Epoch 34/100\n",
      "1/1 [==============================] - 0s 2ms/step - loss: 0.9407 - mae: 0.9407\n",
      "Epoch 35/100\n",
      "1/1 [==============================] - 0s 3ms/step - loss: 0.8250 - mae: 0.8250\n",
      "Epoch 36/100\n",
      "1/1 [==============================] - 0s 3ms/step - loss: 1.1148 - mae: 1.1148\n",
      "Epoch 37/100\n",
      "1/1 [==============================] - 0s 3ms/step - loss: 0.5333 - mae: 0.5333\n",
      "Epoch 38/100\n",
      "1/1 [==============================] - 0s 3ms/step - loss: 1.3242 - mae: 1.3242\n",
      "Epoch 39/100\n",
      "1/1 [==============================] - 0s 3ms/step - loss: 1.3884 - mae: 1.3884\n",
      "Epoch 40/100\n",
      "1/1 [==============================] - 0s 3ms/step - loss: 0.5689 - mae: 0.5689\n",
      "Epoch 41/100\n",
      "1/1 [==============================] - 0s 4ms/step - loss: 1.1099 - mae: 1.1099\n",
      "Epoch 42/100\n",
      "1/1 [==============================] - 0s 3ms/step - loss: 1.6584 - mae: 1.6584\n",
      "Epoch 43/100\n",
      "1/1 [==============================] - 0s 3ms/step - loss: 1.4817 - mae: 1.4817\n",
      "Epoch 44/100\n",
      "1/1 [==============================] - 0s 3ms/step - loss: 0.7693 - mae: 0.7693\n",
      "Epoch 45/100\n",
      "1/1 [==============================] - 0s 3ms/step - loss: 0.7236 - mae: 0.7236\n",
      "Epoch 46/100\n",
      "1/1 [==============================] - 0s 3ms/step - loss: 1.1443 - mae: 1.1443\n",
      "Epoch 47/100\n",
      "1/1 [==============================] - 0s 3ms/step - loss: 0.8625 - mae: 0.8625\n",
      "Epoch 48/100\n",
      "1/1 [==============================] - 0s 3ms/step - loss: 0.4255 - mae: 0.4255\n",
      "Epoch 49/100\n",
      "1/1 [==============================] - 0s 5ms/step - loss: 0.9950 - mae: 0.9950\n",
      "Epoch 50/100\n",
      "1/1 [==============================] - 0s 7ms/step - loss: 1.1430 - mae: 1.1430\n",
      "Epoch 51/100\n",
      "1/1 [==============================] - 0s 4ms/step - loss: 0.7038 - mae: 0.7038\n",
      "Epoch 52/100\n",
      "1/1 [==============================] - 0s 4ms/step - loss: 0.5653 - mae: 0.5653\n",
      "Epoch 53/100\n",
      "1/1 [==============================] - 0s 5ms/step - loss: 0.8972 - mae: 0.8972\n",
      "Epoch 54/100\n",
      "1/1 [==============================] - 0s 7ms/step - loss: 0.7112 - mae: 0.7112\n",
      "Epoch 55/100\n",
      "1/1 [==============================] - 0s 5ms/step - loss: 0.2750 - mae: 0.2750\n",
      "Epoch 56/100\n",
      "1/1 [==============================] - 0s 5ms/step - loss: 0.7522 - mae: 0.7522\n",
      "Epoch 57/100\n",
      "1/1 [==============================] - 0s 5ms/step - loss: 0.8382 - mae: 0.8382\n",
      "Epoch 58/100\n",
      "1/1 [==============================] - 0s 7ms/step - loss: 0.3341 - mae: 0.3341\n",
      "Epoch 59/100\n",
      "1/1 [==============================] - 0s 10ms/step - loss: 0.8948 - mae: 0.8948\n",
      "Epoch 60/100\n",
      "1/1 [==============================] - 0s 3ms/step - loss: 1.2413 - mae: 1.2413\n",
      "Epoch 61/100\n",
      "1/1 [==============================] - 0s 4ms/step - loss: 0.8596 - mae: 0.8596\n",
      "Epoch 62/100\n",
      "1/1 [==============================] - 0s 3ms/step - loss: 0.4605 - mae: 0.4605\n",
      "Epoch 63/100\n",
      "1/1 [==============================] - 0s 4ms/step - loss: 0.6213 - mae: 0.6213\n",
      "Epoch 64/100\n",
      "1/1 [==============================] - 0s 4ms/step - loss: 0.4829 - mae: 0.4829\n",
      "Epoch 65/100\n",
      "1/1 [==============================] - 0s 3ms/step - loss: 0.4426 - mae: 0.4426\n",
      "Epoch 66/100\n",
      "1/1 [==============================] - 0s 4ms/step - loss: 0.4818 - mae: 0.4818\n",
      "Epoch 67/100\n",
      "1/1 [==============================] - 0s 4ms/step - loss: 0.2030 - mae: 0.2030\n",
      "Epoch 68/100\n",
      "1/1 [==============================] - 0s 3ms/step - loss: 0.3023 - mae: 0.3023\n",
      "Epoch 69/100\n",
      "1/1 [==============================] - 0s 2ms/step - loss: 0.1749 - mae: 0.1749\n",
      "Epoch 70/100\n",
      "1/1 [==============================] - 0s 5ms/step - loss: 0.4141 - mae: 0.4141\n",
      "Epoch 71/100\n",
      "1/1 [==============================] - 0s 7ms/step - loss: 0.1455 - mae: 0.1455\n",
      "Epoch 72/100\n",
      "1/1 [==============================] - 0s 5ms/step - loss: 0.3862 - mae: 0.3862\n",
      "Epoch 73/100\n",
      "1/1 [==============================] - 0s 4ms/step - loss: 0.2002 - mae: 0.2002\n",
      "Epoch 74/100\n",
      "1/1 [==============================] - 0s 4ms/step - loss: 0.6031 - mae: 0.6031\n",
      "Epoch 75/100\n",
      "1/1 [==============================] - 0s 3ms/step - loss: 0.7738 - mae: 0.7738\n",
      "Epoch 76/100\n",
      "1/1 [==============================] - 0s 3ms/step - loss: 0.3140 - mae: 0.3140\n",
      "Epoch 77/100\n",
      "1/1 [==============================] - 0s 4ms/step - loss: 0.7136 - mae: 0.7136\n",
      "Epoch 78/100\n",
      "1/1 [==============================] - 0s 7ms/step - loss: 1.0679 - mae: 1.0679\n",
      "Epoch 79/100\n",
      "1/1 [==============================] - 0s 5ms/step - loss: 0.8650 - mae: 0.8650\n",
      "Epoch 80/100\n",
      "1/1 [==============================] - 0s 3ms/step - loss: 0.2874 - mae: 0.2874\n",
      "Epoch 81/100\n",
      "1/1 [==============================] - 0s 3ms/step - loss: 0.8437 - mae: 0.8437\n",
      "Epoch 82/100\n",
      "1/1 [==============================] - 0s 4ms/step - loss: 1.1842 - mae: 1.1842\n",
      "Epoch 83/100\n",
      "1/1 [==============================] - 0s 3ms/step - loss: 0.9027 - mae: 0.9027\n",
      "Epoch 84/100\n",
      "1/1 [==============================] - 0s 4ms/step - loss: 0.1221 - mae: 0.1221\n",
      "Epoch 85/100\n",
      "1/1 [==============================] - 0s 4ms/step - loss: 0.9339 - mae: 0.9339\n",
      "Epoch 86/100\n",
      "1/1 [==============================] - 0s 4ms/step - loss: 1.3577 - mae: 1.3577\n",
      "Epoch 87/100\n",
      "1/1 [==============================] - 0s 4ms/step - loss: 1.2979 - mae: 1.2979\n",
      "Epoch 88/100\n",
      "1/1 [==============================] - 0s 4ms/step - loss: 0.7886 - mae: 0.7886\n",
      "Epoch 89/100\n"
     ]
    },
    {
     "name": "stdout",
     "output_type": "stream",
     "text": [
      "1/1 [==============================] - 0s 3ms/step - loss: 0.2693 - mae: 0.2693\n",
      "Epoch 90/100\n",
      "1/1 [==============================] - 0s 3ms/step - loss: 0.5894 - mae: 0.5894\n",
      "Epoch 91/100\n",
      "1/1 [==============================] - 0s 4ms/step - loss: 0.5105 - mae: 0.5105\n",
      "Epoch 92/100\n",
      "1/1 [==============================] - 0s 3ms/step - loss: 0.3224 - mae: 0.3224\n",
      "Epoch 93/100\n",
      "1/1 [==============================] - 0s 4ms/step - loss: 0.5789 - mae: 0.5789\n",
      "Epoch 94/100\n",
      "1/1 [==============================] - 0s 3ms/step - loss: 0.4465 - mae: 0.4465\n",
      "Epoch 95/100\n",
      "1/1 [==============================] - 0s 4ms/step - loss: 0.3720 - mae: 0.3720\n",
      "Epoch 96/100\n",
      "1/1 [==============================] - 0s 3ms/step - loss: 0.4171 - mae: 0.4171\n",
      "Epoch 97/100\n",
      "1/1 [==============================] - 0s 7ms/step - loss: 0.1531 - mae: 0.1531\n",
      "Epoch 98/100\n",
      "1/1 [==============================] - 0s 2ms/step - loss: 0.2502 - mae: 0.2502\n",
      "Epoch 99/100\n",
      "1/1 [==============================] - 0s 3ms/step - loss: 0.3742 - mae: 0.3742\n",
      "Epoch 100/100\n",
      "1/1 [==============================] - 0s 3ms/step - loss: 0.2683 - mae: 0.2683\n"
     ]
    },
    {
     "data": {
      "text/plain": [
       "<keras.callbacks.History at 0x7fec3fc57e80>"
      ]
     },
     "execution_count": 359,
     "metadata": {},
     "output_type": "execute_result"
    }
   ],
   "source": [
    "new_model = tf.keras.Sequential([\n",
    "    tf.keras.layers.Dense(100, activation='relu'),\n",
    "    tf.keras.layers.Dense(100, activation='relu'),\n",
    "    tf.keras.layers.Dense(1)\n",
    "])\n",
    "\n",
    "new_model.compile(loss=tf.keras.losses.mae,\n",
    "                  optimizer=tf.keras.optimizers.Adam(lr=0.01),\n",
    "                  metrics=['mae'])\n",
    "\n",
    "new_model.fit(X,y, epochs=100)"
   ]
  },
  {
   "cell_type": "code",
   "execution_count": 360,
   "id": "132f61d5",
   "metadata": {},
   "outputs": [
    {
     "data": {
      "text/plain": [
       "array([[27.210974]], dtype=float32)"
      ]
     },
     "execution_count": 360,
     "metadata": {},
     "output_type": "execute_result"
    }
   ],
   "source": [
    "new_model.predict([17.0])"
   ]
  },
  {
   "cell_type": "code",
   "execution_count": 355,
   "id": "552b6a35",
   "metadata": {
    "scrolled": true
   },
   "outputs": [
    {
     "name": "stdout",
     "output_type": "stream",
     "text": [
      "Model: \"sequential_12\"\n",
      "_________________________________________________________________\n",
      " Layer (type)                Output Shape              Param #   \n",
      "=================================================================\n",
      " dense_12 (Dense)            (None, 1)                 2         \n",
      "                                                                 \n",
      "=================================================================\n",
      "Total params: 2\n",
      "Trainable params: 2\n",
      "Non-trainable params: 0\n",
      "_________________________________________________________________\n"
     ]
    }
   ],
   "source": [
    "model.summary()"
   ]
  },
  {
   "cell_type": "code",
   "execution_count": 361,
   "id": "410a4dee",
   "metadata": {},
   "outputs": [
    {
     "name": "stdout",
     "output_type": "stream",
     "text": [
      "Model: \"sequential_24\"\n",
      "_________________________________________________________________\n",
      " Layer (type)                Output Shape              Param #   \n",
      "=================================================================\n",
      " dense_52 (Dense)            (None, 100)               200       \n",
      "                                                                 \n",
      " dense_53 (Dense)            (None, 100)               10100     \n",
      "                                                                 \n",
      " dense_54 (Dense)            (None, 1)                 101       \n",
      "                                                                 \n",
      "=================================================================\n",
      "Total params: 10,401\n",
      "Trainable params: 10,401\n",
      "Non-trainable params: 0\n",
      "_________________________________________________________________\n"
     ]
    }
   ],
   "source": [
    "new_model.summary()"
   ]
  },
  {
   "cell_type": "markdown",
   "id": "de33355d",
   "metadata": {},
   "source": [
    "## Modelling  and Evaluation"
   ]
  },
  {
   "cell_type": "code",
   "execution_count": 371,
   "id": "61a63aba",
   "metadata": {},
   "outputs": [
    {
     "data": {
      "text/plain": [
       "<tf.Tensor: shape=(127,), dtype=int32, numpy=\n",
       "array([ -5,  -1,   3,   7,  11,  15,  19,  23,  27,  31,  35,  39,  43,\n",
       "        47,  51,  55,  59,  63,  67,  71,  75,  79,  83,  87,  91,  95,\n",
       "        99, 103, 107, 111, 115, 119, 123, 127, 131, 135, 139, 143, 147,\n",
       "       151, 155, 159, 163, 167, 171, 175, 179, 183, 187, 191, 195, 199,\n",
       "       203, 207, 211, 215, 219, 223, 227, 231, 235, 239, 243, 247, 251,\n",
       "       255, 259, 263, 267, 271, 275, 279, 283, 287, 291, 295, 299, 303,\n",
       "       307, 311, 315, 319, 323, 327, 331, 335, 339, 343, 347, 351, 355,\n",
       "       359, 363, 367, 371, 375, 379, 383, 387, 391, 395, 399, 403, 407,\n",
       "       411, 415, 419, 423, 427, 431, 435, 439, 443, 447, 451, 455, 459,\n",
       "       463, 467, 471, 475, 479, 483, 487, 491, 495, 499], dtype=int32)>"
      ]
     },
     "execution_count": 371,
     "metadata": {},
     "output_type": "execute_result"
    }
   ],
   "source": [
    "X_samples = tf.range(-5, 500,4)\n",
    "X_samples"
   ]
  },
  {
   "cell_type": "markdown",
   "id": "72a27fa2",
   "metadata": {},
   "source": [
    "## Split our data into:\n",
    "* **Train set:** Analogically the course materials to learn from in a school \n",
    "* **Validation set:** Analogically the tests given to a student to observe his/her performance\n",
    "* **Test set:** Analogically, the school exams to evaluate student ability to observe and generalize to unseen questions"
   ]
  },
  {
   "cell_type": "code",
   "execution_count": 373,
   "id": "9f306847",
   "metadata": {},
   "outputs": [
    {
     "data": {
      "text/plain": [
       "<tf.Tensor: shape=(127,), dtype=int32, numpy=\n",
       "array([  5,   9,  13,  17,  21,  25,  29,  33,  37,  41,  45,  49,  53,\n",
       "        57,  61,  65,  69,  73,  77,  81,  85,  89,  93,  97, 101, 105,\n",
       "       109, 113, 117, 121, 125, 129, 133, 137, 141, 145, 149, 153, 157,\n",
       "       161, 165, 169, 173, 177, 181, 185, 189, 193, 197, 201, 205, 209,\n",
       "       213, 217, 221, 225, 229, 233, 237, 241, 245, 249, 253, 257, 261,\n",
       "       265, 269, 273, 277, 281, 285, 289, 293, 297, 301, 305, 309, 313,\n",
       "       317, 321, 325, 329, 333, 337, 341, 345, 349, 353, 357, 361, 365,\n",
       "       369, 373, 377, 381, 385, 389, 393, 397, 401, 405, 409, 413, 417,\n",
       "       421, 425, 429, 433, 437, 441, 445, 449, 453, 457, 461, 465, 469,\n",
       "       473, 477, 481, 485, 489, 493, 497, 501, 505, 509], dtype=int32)>"
      ]
     },
     "execution_count": 373,
     "metadata": {},
     "output_type": "execute_result"
    }
   ],
   "source": [
    "y_samples = X_samples+10\n",
    "y_samples"
   ]
  },
  {
   "cell_type": "code",
   "execution_count": 379,
   "id": "82898a31",
   "metadata": {},
   "outputs": [],
   "source": [
    "# split the data into train and test sets\n",
    "X_train = X_samples[:]\n",
    "y_train = y_samples[:int(len(y_samples)*0.80)]"
   ]
  },
  {
   "cell_type": "code",
   "execution_count": 384,
   "id": "e70da8f8",
   "metadata": {},
   "outputs": [],
   "source": [
    "X_test = X_samples[int(len(X_samples)*0.80):]\n",
    "y_test = y_samples[int(len(y_samples)*0.80):]"
   ]
  },
  {
   "cell_type": "code",
   "execution_count": 385,
   "id": "6cfd61c0",
   "metadata": {},
   "outputs": [
    {
     "data": {
      "text/plain": [
       "(TensorShape([101]), TensorShape([26]), TensorShape([101]), TensorShape([26]))"
      ]
     },
     "execution_count": 385,
     "metadata": {},
     "output_type": "execute_result"
    }
   ],
   "source": [
    "X_train.shape, X_test.shape, y_train.shape, y_test.shape"
   ]
  },
  {
   "cell_type": "markdown",
   "id": "13c18444",
   "metadata": {},
   "source": [
    "Another way we could split our data is by using the sklearn `train and test split`"
   ]
  },
  {
   "cell_type": "code",
   "execution_count": 388,
   "id": "7143497f",
   "metadata": {},
   "outputs": [],
   "source": [
    "from sklearn.model_selection import train_test_split\n",
    "X_train, X_test, y_train, y_test = train_test_split(np.array(X_samples), np.array(y_samples), test_size=.2)"
   ]
  },
  {
   "cell_type": "code",
   "execution_count": 389,
   "id": "c944de53",
   "metadata": {},
   "outputs": [
    {
     "data": {
      "text/plain": [
       "((101,), (26,), (101,), (26,))"
      ]
     },
     "execution_count": 389,
     "metadata": {},
     "output_type": "execute_result"
    }
   ],
   "source": [
    "X_train.shape, X_test.shape, y_train.shape, y_test.shape"
   ]
  },
  {
   "cell_type": "markdown",
   "id": "96969841",
   "metadata": {},
   "source": [
    "## Visualize the data"
   ]
  },
  {
   "cell_type": "code",
   "execution_count": 393,
   "id": "b23feca9",
   "metadata": {},
   "outputs": [
    {
     "data": {
      "image/png": "[encoded data removed]",
      "text/plain": [
       "<Figure size 720x504 with 1 Axes>"
      ]
     },
     "metadata": {
      "needs_background": "light"
     },
     "output_type": "display_data"
    }
   ],
   "source": [
    "import matplotlib.pyplot as plt\n",
    "plt.figure(figsize=(10,7))\n",
    "\n",
    "# plot train features and label\n",
    "plt.scatter(X_train, y_train, c='b', label='Training Data')\n",
    "\n",
    "# plot the test features and label\n",
    "plt.scatter(X_test, y_test, c='r', label='Testing Data')\n",
    "plt.legend();"
   ]
  },
  {
   "cell_type": "markdown",
   "id": "9932312e",
   "metadata": {},
   "source": [
    "## Let's build a model to figure the pattern in our data"
   ]
  },
  {
   "cell_type": "code",
   "execution_count": 403,
   "id": "cd187af7",
   "metadata": {},
   "outputs": [],
   "source": [
    "# convert our data back to tensors\n",
    "X_train = tf.constant(X_train)\n",
    "y_train = tf.constant(y_train)\n",
    "\n",
    "X_test = tf.constant(X_test)\n",
    "y_test = tf.constant(y_test)"
   ]
  },
  {
   "cell_type": "code",
   "execution_count": 406,
   "id": "1d60ee5e",
   "metadata": {},
   "outputs": [
    {
     "name": "stdout",
     "output_type": "stream",
     "text": [
      "Epoch 1/20\n",
      "4/4 [==============================] - 0s 3ms/step - loss: 461.7703 - mae: 461.7703\n",
      "Epoch 2/20\n",
      "4/4 [==============================] - 0s 3ms/step - loss: 269.9876 - mae: 269.9876\n",
      "Epoch 3/20\n",
      "4/4 [==============================] - 0s 4ms/step - loss: 250.2424 - mae: 250.2424\n",
      "Epoch 4/20\n",
      "4/4 [==============================] - 0s 3ms/step - loss: 250.1895 - mae: 250.1895\n",
      "Epoch 5/20\n",
      "4/4 [==============================] - 0s 3ms/step - loss: 250.1364 - mae: 250.1364\n",
      "Epoch 6/20\n",
      "4/4 [==============================] - 0s 7ms/step - loss: 250.0832 - mae: 250.0832\n",
      "Epoch 7/20\n",
      "4/4 [==============================] - 0s 5ms/step - loss: 250.0296 - mae: 250.0296\n",
      "Epoch 8/20\n",
      "4/4 [==============================] - 0s 3ms/step - loss: 249.9758 - mae: 249.9758\n",
      "Epoch 9/20\n",
      "4/4 [==============================] - 0s 4ms/step - loss: 249.9216 - mae: 249.9216\n",
      "Epoch 10/20\n",
      "4/4 [==============================] - 0s 6ms/step - loss: 249.8670 - mae: 249.8670\n",
      "Epoch 11/20\n",
      "4/4 [==============================] - 0s 3ms/step - loss: 249.8117 - mae: 249.8117\n",
      "Epoch 12/20\n",
      "4/4 [==============================] - 0s 4ms/step - loss: 249.7559 - mae: 249.7559\n",
      "Epoch 13/20\n",
      "4/4 [==============================] - 0s 2ms/step - loss: 249.6993 - mae: 249.6993\n",
      "Epoch 14/20\n",
      "4/4 [==============================] - 0s 2ms/step - loss: 249.6419 - mae: 249.6419\n",
      "Epoch 15/20\n",
      "4/4 [==============================] - 0s 3ms/step - loss: 249.5836 - mae: 249.5836\n",
      "Epoch 16/20\n",
      "4/4 [==============================] - 0s 2ms/step - loss: 249.5244 - mae: 249.5244\n",
      "Epoch 17/20\n",
      "4/4 [==============================] - 0s 4ms/step - loss: 249.4640 - mae: 249.4640\n",
      "Epoch 18/20\n",
      "4/4 [==============================] - 0s 2ms/step - loss: 249.4024 - mae: 249.4024\n",
      "Epoch 19/20\n",
      "4/4 [==============================] - 0s 3ms/step - loss: 249.3394 - mae: 249.3394\n",
      "Epoch 20/20\n",
      "4/4 [==============================] - 0s 6ms/step - loss: 249.2749 - mae: 249.2749\n"
     ]
    },
    {
     "data": {
      "text/plain": [
       "<keras.callbacks.History at 0x7fec40a684c0>"
      ]
     },
     "execution_count": 406,
     "metadata": {},
     "output_type": "execute_result"
    }
   ],
   "source": [
    "model = tf.keras.Sequential([\n",
    "    tf.keras.layers.Dense(100, activation='relu'),\n",
    "    tf.keras.layers.Dense(100, activation='relu'),\n",
    "    tf.keras.layers.Dense(1)\n",
    "])\n",
    "\n",
    "# compile the model \n",
    "model.compile(loss=tf.keras.losses.mae,\n",
    "              optimizer=tf.keras.optimizers.SGD(),\n",
    "              metrics=['mae'])\n",
    "\n",
    "model.fit(tf.expand_dims(X_train,axis=-1),y_train, epochs=20)"
   ]
  },
  {
   "cell_type": "code",
   "execution_count": 407,
   "id": "e8d1c757",
   "metadata": {},
   "outputs": [
    {
     "data": {
      "text/plain": [
       "array([[1.0425406]], dtype=float32)"
      ]
     },
     "execution_count": 407,
     "metadata": {},
     "output_type": "execute_result"
    }
   ],
   "source": [
    "model.predict([503])"
   ]
  },
  {
   "cell_type": "markdown",
   "id": "4bad458d",
   "metadata": {},
   "source": [
    "Our model has performed pretty messy with the mae at `249` 😔, let's buil another model to see how we can improve what's going on here."
   ]
  },
  {
   "cell_type": "code",
   "execution_count": 422,
   "id": "dc856d04",
   "metadata": {
    "scrolled": false
   },
   "outputs": [
    {
     "name": "stdout",
     "output_type": "stream",
     "text": [
      "Epoch 1/50\n",
      "4/4 [==============================] - 0s 2ms/step - loss: 244.4236 - mae: 244.4236\n",
      "Epoch 2/50\n",
      "4/4 [==============================] - 0s 2ms/step - loss: 207.1838 - mae: 207.1838\n",
      "Epoch 3/50\n",
      "4/4 [==============================] - 0s 2ms/step - loss: 169.0001 - mae: 169.0001\n",
      "Epoch 4/50\n",
      "4/4 [==============================] - 0s 2ms/step - loss: 125.3722 - mae: 125.3722\n",
      "Epoch 5/50\n",
      "4/4 [==============================] - 0s 2ms/step - loss: 75.2935 - mae: 75.2935\n",
      "Epoch 6/50\n",
      "4/4 [==============================] - 0s 2ms/step - loss: 17.3908 - mae: 17.3908\n",
      "Epoch 7/50\n",
      "4/4 [==============================] - 0s 2ms/step - loss: 31.3796 - mae: 31.3796\n",
      "Epoch 8/50\n",
      "4/4 [==============================] - 0s 2ms/step - loss: 20.7448 - mae: 20.7448\n",
      "Epoch 9/50\n",
      "4/4 [==============================] - 0s 2ms/step - loss: 10.3496 - mae: 10.3496\n",
      "Epoch 10/50\n",
      "4/4 [==============================] - 0s 2ms/step - loss: 11.6609 - mae: 11.6609\n",
      "Epoch 11/50\n",
      "4/4 [==============================] - 0s 2ms/step - loss: 8.7299 - mae: 8.7299\n",
      "Epoch 12/50\n",
      "4/4 [==============================] - 0s 2ms/step - loss: 8.1032 - mae: 8.1032\n",
      "Epoch 13/50\n",
      "4/4 [==============================] - 0s 2ms/step - loss: 11.1321 - mae: 11.1321\n",
      "Epoch 14/50\n",
      "4/4 [==============================] - 0s 2ms/step - loss: 7.4634 - mae: 7.4634\n",
      "Epoch 15/50\n",
      "4/4 [==============================] - 0s 2ms/step - loss: 7.2977 - mae: 7.2977\n",
      "Epoch 16/50\n",
      "4/4 [==============================] - 0s 2ms/step - loss: 6.1620 - mae: 6.1620\n",
      "Epoch 17/50\n",
      "4/4 [==============================] - 0s 2ms/step - loss: 5.0868 - mae: 5.0868\n",
      "Epoch 18/50\n",
      "4/4 [==============================] - 0s 2ms/step - loss: 4.9123 - mae: 4.9123\n",
      "Epoch 19/50\n",
      "4/4 [==============================] - 0s 2ms/step - loss: 4.3950 - mae: 4.3950\n",
      "Epoch 20/50\n",
      "4/4 [==============================] - 0s 2ms/step - loss: 4.4071 - mae: 4.4071\n",
      "Epoch 21/50\n",
      "4/4 [==============================] - 0s 3ms/step - loss: 4.1384 - mae: 4.1384\n",
      "Epoch 22/50\n",
      "4/4 [==============================] - 0s 2ms/step - loss: 4.0905 - mae: 4.0905\n",
      "Epoch 23/50\n",
      "4/4 [==============================] - 0s 2ms/step - loss: 4.4902 - mae: 4.4902\n",
      "Epoch 24/50\n",
      "4/4 [==============================] - 0s 2ms/step - loss: 4.0752 - mae: 4.0752\n",
      "Epoch 25/50\n",
      "4/4 [==============================] - 0s 2ms/step - loss: 4.6144 - mae: 4.6144\n",
      "Epoch 26/50\n",
      "4/4 [==============================] - 0s 1ms/step - loss: 5.1422 - mae: 5.1422\n",
      "Epoch 27/50\n",
      "4/4 [==============================] - 0s 2ms/step - loss: 4.9815 - mae: 4.9815\n",
      "Epoch 28/50\n",
      "4/4 [==============================] - 0s 2ms/step - loss: 4.2574 - mae: 4.2574\n",
      "Epoch 29/50\n",
      "4/4 [==============================] - 0s 2ms/step - loss: 4.0323 - mae: 4.0323\n",
      "Epoch 30/50\n",
      "4/4 [==============================] - 0s 2ms/step - loss: 4.7816 - mae: 4.7816\n",
      "Epoch 31/50\n",
      "4/4 [==============================] - 0s 2ms/step - loss: 4.1076 - mae: 4.1076\n",
      "Epoch 32/50\n",
      "4/4 [==============================] - 0s 2ms/step - loss: 3.8701 - mae: 3.8701\n",
      "Epoch 33/50\n",
      "4/4 [==============================] - 0s 2ms/step - loss: 3.8289 - mae: 3.8289\n",
      "Epoch 34/50\n",
      "4/4 [==============================] - 0s 2ms/step - loss: 4.1987 - mae: 4.1987\n",
      "Epoch 35/50\n",
      "4/4 [==============================] - 0s 2ms/step - loss: 4.4793 - mae: 4.4793\n",
      "Epoch 36/50\n",
      "4/4 [==============================] - 0s 2ms/step - loss: 5.3270 - mae: 5.3270\n",
      "Epoch 37/50\n",
      "4/4 [==============================] - 0s 2ms/step - loss: 4.9514 - mae: 4.9514\n",
      "Epoch 38/50\n",
      "4/4 [==============================] - 0s 2ms/step - loss: 5.2000 - mae: 5.2000\n",
      "Epoch 39/50\n",
      "4/4 [==============================] - 0s 2ms/step - loss: 5.7469 - mae: 5.7469\n",
      "Epoch 40/50\n",
      "4/4 [==============================] - 0s 3ms/step - loss: 5.2177 - mae: 5.2177\n",
      "Epoch 41/50\n",
      "4/4 [==============================] - 0s 2ms/step - loss: 4.5532 - mae: 4.5532\n",
      "Epoch 42/50\n",
      "4/4 [==============================] - 0s 2ms/step - loss: 4.4372 - mae: 4.4372\n",
      "Epoch 43/50\n",
      "4/4 [==============================] - 0s 3ms/step - loss: 4.0950 - mae: 4.0950\n",
      "Epoch 44/50\n",
      "4/4 [==============================] - 0s 2ms/step - loss: 4.4029 - mae: 4.4029\n",
      "Epoch 45/50\n",
      "4/4 [==============================] - 0s 2ms/step - loss: 4.2424 - mae: 4.2424\n",
      "Epoch 46/50\n",
      "4/4 [==============================] - 0s 2ms/step - loss: 3.6940 - mae: 3.6940\n",
      "Epoch 47/50\n",
      "4/4 [==============================] - 0s 2ms/step - loss: 4.1731 - mae: 4.1731\n",
      "Epoch 48/50\n",
      "4/4 [==============================] - 0s 2ms/step - loss: 3.5761 - mae: 3.5761\n",
      "Epoch 49/50\n",
      "4/4 [==============================] - 0s 2ms/step - loss: 3.5174 - mae: 3.5174\n",
      "Epoch 50/50\n",
      "4/4 [==============================] - 0s 2ms/step - loss: 3.5650 - mae: 3.5650\n"
     ]
    },
    {
     "data": {
      "text/plain": [
       "<keras.callbacks.History at 0x7fec22f70070>"
      ]
     },
     "execution_count": 422,
     "metadata": {},
     "output_type": "execute_result"
    }
   ],
   "source": [
    "model2 = tf.keras.Sequential([\n",
    "    tf.keras.layers.Dense(100, activation='relu'),\n",
    "    tf.keras.layers.Dense(100, activation='relu'),\n",
    "    tf.keras.layers.Dense(100, activation='relu'),\n",
    "    tf.keras.layers.Dense(1)\n",
    "])\n",
    "\n",
    "model2.compile(loss=tf.keras.losses.mae,\n",
    "              optimizer=tf.keras.optimizers.Adam(lr=0.001),\n",
    "              metrics=['mae'])\n",
    "\n",
    "model2.fit(tf.expand_dims(X_train,axis=-1), y_train, epochs=50)"
   ]
  },
  {
   "cell_type": "code",
   "execution_count": 416,
   "id": "50f6bc6c",
   "metadata": {},
   "outputs": [
    {
     "data": {
      "text/plain": [
       "array([[18.10939]], dtype=float32)"
      ]
     },
     "execution_count": 416,
     "metadata": {},
     "output_type": "execute_result"
    }
   ],
   "source": [
    "model.predict([503])"
   ]
  },
  {
   "cell_type": "code",
   "execution_count": 423,
   "id": "1af4c55e",
   "metadata": {},
   "outputs": [
    {
     "name": "stdout",
     "output_type": "stream",
     "text": [
      "Model: \"sequential_30\"\n",
      "_________________________________________________________________\n",
      " Layer (type)                Output Shape              Param #   \n",
      "=================================================================\n",
      " dense_70 (Dense)            (None, 100)               200       \n",
      "                                                                 \n",
      " dense_71 (Dense)            (None, 100)               10100     \n",
      "                                                                 \n",
      " dense_72 (Dense)            (None, 1)                 101       \n",
      "                                                                 \n",
      "=================================================================\n",
      "Total params: 10,401\n",
      "Trainable params: 10,401\n",
      "Non-trainable params: 0\n",
      "_________________________________________________________________\n"
     ]
    }
   ],
   "source": [
    "model.summary()"
   ]
  },
  {
   "cell_type": "code",
   "execution_count": 424,
   "id": "e10ce085",
   "metadata": {},
   "outputs": [
    {
     "name": "stdout",
     "output_type": "stream",
     "text": [
      "Model: \"sequential_36\"\n",
      "_________________________________________________________________\n",
      " Layer (type)                Output Shape              Param #   \n",
      "=================================================================\n",
      " dense_93 (Dense)            (None, 100)               200       \n",
      "                                                                 \n",
      " dense_94 (Dense)            (None, 100)               10100     \n",
      "                                                                 \n",
      " dense_95 (Dense)            (None, 100)               10100     \n",
      "                                                                 \n",
      " dense_96 (Dense)            (None, 1)                 101       \n",
      "                                                                 \n",
      "=================================================================\n",
      "Total params: 20,501\n",
      "Trainable params: 20,501\n",
      "Non-trainable params: 0\n",
      "_________________________________________________________________\n"
     ]
    }
   ],
   "source": [
    "model2.summary()"
   ]
  },
  {
   "cell_type": "markdown",
   "id": "edddbaeb",
   "metadata": {},
   "source": [
    "## Plot our model to see what's going on"
   ]
  },
  {
   "cell_type": "code",
   "execution_count": 431,
   "id": "d0c69748",
   "metadata": {},
   "outputs": [
    {
     "name": "stdout",
     "output_type": "stream",
     "text": [
      "('You must install pydot (`pip install pydot`) and install graphviz (see instructions at https://graphviz.gitlab.io/download/) ', 'for plot_model/model_to_dot to work.')\n"
     ]
    }
   ],
   "source": [
    "from tensorflow.keras.utils import plot_model\n",
    "plot_model(model2, show_shapes=True)"
   ]
  },
  {
   "cell_type": "markdown",
   "id": "f8822b58",
   "metadata": {},
   "source": [
    "## Visualize our model's predictions"
   ]
  },
  {
   "cell_type": "code",
   "execution_count": 437,
   "id": "10503d04",
   "metadata": {},
   "outputs": [
    {
     "data": {
      "text/plain": [
       "array([[420.65836  ],\n",
       "       [ 21.14637  ],\n",
       "       [465.50153  ],\n",
       "       [436.96497  ],\n",
       "       [135.29265  ],\n",
       "       [498.11475  ],\n",
       "       [253.51562  ],\n",
       "       [445.1183   ],\n",
       "       [453.27158  ],\n",
       "       [485.88474  ],\n",
       "       [347.27863  ],\n",
       "       [351.35526  ],\n",
       "       [176.05917  ],\n",
       "       [ 90.44947  ],\n",
       "       [269.82217  ],\n",
       "       [147.52261  ],\n",
       "       [233.13232  ],\n",
       "       [298.35873  ],\n",
       "       [424.73505  ],\n",
       "       [  1.7787707],\n",
       "       [363.5852   ],\n",
       "       [310.5887   ],\n",
       "       [188.28914  ],\n",
       "       [326.89536  ],\n",
       "       [ 45.606277 ],\n",
       "       [ 94.526115 ]], dtype=float32)"
      ]
     },
     "execution_count": 437,
     "metadata": {},
     "output_type": "execute_result"
    }
   ],
   "source": [
    "y_pred = model2.predict(X_test)\n",
    "y_pred"
   ]
  },
  {
   "cell_type": "code",
   "execution_count": 439,
   "id": "4a41cf4d",
   "metadata": {},
   "outputs": [],
   "source": [
    "def plot_predictions(train_data = X_train, train_label=y_train, test_data=X_test, test_label=y_test, prediction=y_pred):\n",
    "    \"\"\"\n",
    "        This function allows us plot the train and test data with comparison to the predictions\n",
    "    \"\"\"\n",
    "    # Define a figure\n",
    "    plt.figure(figsize=(10,7))\n",
    "    \n",
    "    #plot the train data\n",
    "    plt.scatter(train_data, train_label, c='b', label='Train data')\n",
    "    \n",
    "    #plot the testing data \n",
    "    plt.scatter(test_data, test_label, c='g', label='Test data')\n",
    "    \n",
    "    #plot the model prediction\n",
    "    plt.scatter(test_label, y_pred, c='r', label='Prediction')\n",
    "    \n",
    "    plt.legend();"
   ]
  },
  {
   "cell_type": "code",
   "execution_count": 441,
   "id": "747beece",
   "metadata": {},
   "outputs": [
    {
     "data": {
      "image/png": "[encoded data removed]",
      "text/plain": [
       "<Figure size 720x504 with 1 Axes>"
      ]
     },
     "metadata": {
      "needs_background": "light"
     },
     "output_type": "display_data"
    }
   ],
   "source": [
    "plot_predictions(train_data = X_train, \n",
    "                 train_label=y_train, \n",
    "                 test_data=X_test, \n",
    "                 test_label=y_test, \n",
    "                 prediction=y_pred)"
   ]
  },
  {
   "cell_type": "code",
   "execution_count": 454,
   "id": "329c4991",
   "metadata": {},
   "outputs": [
    {
     "data": {
      "text/plain": [
       "<tf.Tensor: shape=(), dtype=float32, numpy=3.166535>"
      ]
     },
     "execution_count": 454,
     "metadata": {},
     "output_type": "execute_result"
    }
   ],
   "source": [
    "# calculate the mean absolute error\n",
    "mae = tf.metrics.mean_absolute_error(y_test, tf.squeeze(y_pred))\n",
    "mae"
   ]
  },
  {
   "cell_type": "code",
   "execution_count": 457,
   "id": "d7b2649d",
   "metadata": {},
   "outputs": [
    {
     "data": {
      "text/plain": [
       "<tf.Tensor: shape=(), dtype=float32, numpy=16.428242>"
      ]
     },
     "execution_count": 457,
     "metadata": {},
     "output_type": "execute_result"
    }
   ],
   "source": [
    "mse = tf.metrics.mean_squared_error(y_test, tf.squeeze(y_pred))\n",
    "mse"
   ]
  },
  {
   "cell_type": "markdown",
   "id": "904a95cc",
   "metadata": {},
   "source": [
    "## Save a Tensorflow Model\n",
    "\n",
    "There are 2 main format to save a tensorflow model\n",
    "1. The SavedModel Format => `model.save('model_name')`\n",
    "2. The HDF5 format => `model.save('model_name.h5')`"
   ]
  },
  {
   "cell_type": "code",
   "execution_count": 459,
   "id": "12580c33",
   "metadata": {},
   "outputs": [
    {
     "name": "stdout",
     "output_type": "stream",
     "text": [
      "INFO:tensorflow:Assets written to: saved_models/regression_model/assets\n"
     ]
    }
   ],
   "source": [
    "model2.save('saved_models/regression_model') #format 1\n",
    "model2.save('saved_models/regression_model.h5') #format 2"
   ]
  },
  {
   "cell_type": "markdown",
   "id": "9aac3d58",
   "metadata": {},
   "source": [
    "## Load a saved Tensorflow model"
   ]
  },
  {
   "cell_type": "code",
   "execution_count": 462,
   "id": "18a89795",
   "metadata": {},
   "outputs": [],
   "source": [
    "load_model1 = tf.keras.models.load_model('saved_models/regression_model')\n",
    "load_model2 = tf.keras.models.load_model('saved_models/regression_model.h5')"
   ]
  },
  {
   "cell_type": "code",
   "execution_count": 467,
   "id": "1a261e2f",
   "metadata": {},
   "outputs": [
    {
     "data": {
      "text/plain": [
       "array([[ True],\n",
       "       [ True],\n",
       "       [ True],\n",
       "       [ True],\n",
       "       [ True],\n",
       "       [ True],\n",
       "       [ True],\n",
       "       [ True],\n",
       "       [ True],\n",
       "       [ True],\n",
       "       [ True],\n",
       "       [ True],\n",
       "       [ True],\n",
       "       [ True],\n",
       "       [ True],\n",
       "       [ True],\n",
       "       [ True],\n",
       "       [ True],\n",
       "       [ True],\n",
       "       [ True],\n",
       "       [ True],\n",
       "       [ True],\n",
       "       [ True],\n",
       "       [ True],\n",
       "       [ True],\n",
       "       [ True]])"
      ]
     },
     "execution_count": 467,
     "metadata": {},
     "output_type": "execute_result"
    }
   ],
   "source": [
    "load_model1.predict(X_test) == load_model2.predict(X_test)"
   ]
  },
  {
   "cell_type": "code",
   "execution_count": 470,
   "id": "808be7bb",
   "metadata": {},
   "outputs": [
    {
     "data": {
      "text/plain": [
       "<tf.Tensor: shape=(), dtype=float32, numpy=3.166535>"
      ]
     },
     "execution_count": 470,
     "metadata": {},
     "output_type": "execute_result"
    }
   ],
   "source": [
    "tf.keras.metrics.mae(y_test,load_model1.predict(X_test).squeeze())"
   ]
  },
  {
   "cell_type": "code",
   "execution_count": 471,
   "id": "6fa44d5e",
   "metadata": {},
   "outputs": [
    {
     "name": "stdout",
     "output_type": "stream",
     "text": [
      "Model: \"sequential_36\"\n",
      "_________________________________________________________________\n",
      " Layer (type)                Output Shape              Param #   \n",
      "=================================================================\n",
      " dense_93 (Dense)            (None, 100)               200       \n",
      "                                                                 \n",
      " dense_94 (Dense)            (None, 100)               10100     \n",
      "                                                                 \n",
      " dense_95 (Dense)            (None, 100)               10100     \n",
      "                                                                 \n",
      " dense_96 (Dense)            (None, 1)                 101       \n",
      "                                                                 \n",
      "=================================================================\n",
      "Total params: 20,501\n",
      "Trainable params: 20,501\n",
      "Non-trainable params: 0\n",
      "_________________________________________________________________\n"
     ]
    }
   ],
   "source": [
    "load_model1.summary()"
   ]
  },
  {
   "cell_type": "code",
   "execution_count": 472,
   "id": "323af363",
   "metadata": {},
   "outputs": [
    {
     "name": "stdout",
     "output_type": "stream",
     "text": [
      "Model: \"sequential_36\"\n",
      "_________________________________________________________________\n",
      " Layer (type)                Output Shape              Param #   \n",
      "=================================================================\n",
      " dense_93 (Dense)            (None, 100)               200       \n",
      "                                                                 \n",
      " dense_94 (Dense)            (None, 100)               10100     \n",
      "                                                                 \n",
      " dense_95 (Dense)            (None, 100)               10100     \n",
      "                                                                 \n",
      " dense_96 (Dense)            (None, 1)                 101       \n",
      "                                                                 \n",
      "=================================================================\n",
      "Total params: 20,501\n",
      "Trainable params: 20,501\n",
      "Non-trainable params: 0\n",
      "_________________________________________________________________\n"
     ]
    }
   ],
   "source": [
    "load_model2.summary()"
   ]
  },
  {
   "cell_type": "code",
   "execution_count": null,
   "id": "6a461992",
   "metadata": {},
   "outputs": [],
   "source": []
  }
 ],
 "metadata": {
  "kernelspec": {
   "display_name": "Python 3",
   "language": "python",
   "name": "python3"
  },
  "language_info": {
   "codemirror_mode": {
    "name": "ipython",
    "version": 3
   },
   "file_extension": ".py",
   "mimetype": "text/x-python",
   "name": "python",
   "nbconvert_exporter": "python",
   "pygments_lexer": "ipython3",
   "version": "3.8.8"
  }
 },
 "nbformat": 4,
 "nbformat_minor": 5
}
